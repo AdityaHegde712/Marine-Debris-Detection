{
    "cells": [
        {
            "cell_type": "markdown",
            "metadata": {},
            "source": [
                "# From YOLO.ipynb"
            ]
        },
        {
            "cell_type": "markdown",
            "metadata": {},
            "source": [
                "## Obtaining baseline results using Yolo models "
            ]
        },
        {
            "cell_type": "markdown",
            "metadata": {},
            "source": [
                "### Data"
            ]
        },
        {
            "cell_type": "markdown",
            "metadata": {},
            "source": [
                "#### Converting Geojson to YOLO"
            ]
        },
        {
            "cell_type": "code",
            "execution_count": null,
            "metadata": {},
            "outputs": [],
            "source": [
                "import os\n",
                "import numpy as np\n",
                "from glob import glob\n",
                "from PIL import Image\n",
                "\n",
                "def fix_path(path: str) -> str:\n",
                "    return path.replace(\"\\\\\", \"/\")\n",
                "\n",
                "# Directories\n",
                "labels_dir = fix_path(r\"datasets\\Planet\\labels\")\n",
                "source_dir = fix_path(r\"datasets\\Planet\\jpg_source\")\n",
                "output_dir = fix_path(\"datasets/Planet/yolo_labels\")\n",
                "\n",
                "# Ensure output directory exists\n",
                "os.makedirs(output_dir, exist_ok=True)\n"
            ]
        },
        {
            "cell_type": "code",
            "execution_count": null,
            "metadata": {},
            "outputs": [
                {
                    "name": "stderr",
                    "output_type": "stream",
                    "text": [
                        "  0%|          | 0/739 [00:00<?, ?it/s]"
                    ]
                },
                {
                    "name": "stderr",
                    "output_type": "stream",
                    "text": [
                        "100%|██████████| 739/739 [00:08<00:00, 86.18it/s]"
                    ]
                },
                {
                    "name": "stdout",
                    "output_type": "stream",
                    "text": [
                        "Conversion complete!\n"
                    ]
                },
                {
                    "name": "stderr",
                    "output_type": "stream",
                    "text": [
                        "\n"
                    ]
                }
            ],
            "source": [
                "import os\n",
                "import numpy as np\n",
                "from glob import glob\n",
                "from PIL import Image\n",
                "from tqdm import tqdm\n",
                "\n",
                "# Class mapping\n",
                "class_map = {\n",
                "    \"marine_debris\": 0  # Update with additional classes if needed\n",
                "}\n",
                "\n",
                "# Normalize bounding box coordinates\n",
                "def normalize_bbox(bbox, img_width, img_height):\n",
                "    x_min, y_min, x_max, y_max = bbox\n",
                "    x_center = (x_min + x_max) / 2 / img_width\n",
                "    y_center = (y_min + y_max) / 2 / img_height\n",
                "    width = (x_max - x_min) / img_width\n",
                "    height = (y_max - y_min) / img_height\n",
                "    return x_center, y_center, width, height\n",
                "\n",
                "# Process .npy files\n",
                "npy_files = glob(os.path.join(labels_dir, \"*.npy\"))\n",
                "\n",
                "for npy_file in tqdm(npy_files):\n",
                "    # Load .npy data\n",
                "    data = np.load(npy_file, allow_pickle=True).tolist()\n",
                "\n",
                "    # Get corresponding image dimensions\n",
                "    base_name = os.path.splitext(os.path.basename(npy_file))[0]\n",
                "    image_path = os.path.join(source_dir, base_name + \".jpg\")\n",
                "    \n",
                "    if not os.path.exists(image_path):\n",
                "        print(f\"Image not found for {base_name}, skipping...\")\n",
                "        continue\n",
                "\n",
                "    with Image.open(image_path) as img:\n",
                "        img_width, img_height = img.size\n",
                "\n",
                "    # Create YOLO label file\n",
                "    yolo_file_path = os.path.join(output_dir, base_name + \".txt\")\n",
                "    with open(yolo_file_path, \"w\") as yolo_file:\n",
                "        for entry in data:\n",
                "            x_min, y_min, x_max, y_max, class_id = entry\n",
                "            if class_id > 0:\n",
                "                class_id -= 1\n",
                "\n",
                "            # Normalize the bounding box coordinates\n",
                "            x_center, y_center, width, height = normalize_bbox(\n",
                "                (x_min, y_min, x_max, y_max), img_width, img_height\n",
                "            )\n",
                "\n",
                "            # Write to YOLO file\n",
                "            yolo_file.write(f\"{class_id} {x_center:.6f} {y_center:.6f} {width:.6f} {height:.6f}\\n\")\n",
                "\n",
                "print(\"Conversion complete!\")\n"
            ]
        },
        {
            "cell_type": "markdown",
            "metadata": {},
            "source": [
                "### Splitting Dataset"
            ]
        },
        {
            "cell_type": "code",
            "execution_count": null,
            "metadata": {},
            "outputs": [
                {
                    "name": "stdout",
                    "output_type": "stream",
                    "text": [
                        "Dataset split completed.\n",
                        "Train files: 504\n",
                        "Validation files: 101\n",
                        "Test files: 68\n"
                    ]
                }
            ],
            "source": [
                "import os\n",
                "import shutil\n",
                "from sklearn.model_selection import train_test_split\n",
                "\n",
                "# Define paths\n",
                "labels_dir = \"datasets/Planet/yolo_labels\"\n",
                "images_dir = \"datasets/Planet/jpg_source\"\n",
                "output_dir = \"datasets/Planet/dataset_splits\"\n",
                "\n",
                "# Ratios\n",
                "train_ratio = 0.75\n",
                "val_ratio = 0.15\n",
                "test_ratio = 0.1\n",
                "\n",
                "# Ensure the ratios sum to 1\n",
                "assert round(train_ratio + val_ratio + test_ratio, 5) == 1.0, \"Ratios must sum to 1.\"\n",
                "\n",
                "# Get list of label files\n",
                "label_files = [f for f in os.listdir(labels_dir) if f.endswith(\".txt\")]\n",
                "\n",
                "# Split into train, validation, and test\n",
                "train_files, temp_files = train_test_split(label_files, test_size=(1 - train_ratio), random_state=42, shuffle=True)\n",
                "val_files, test_files = train_test_split(temp_files, test_size=(test_ratio / (test_ratio + val_ratio)), random_state=42, shuffle=True)\n",
                "\n",
                "# Function to move files\n",
                "def move_files(files, dest_images, dest_labels):\n",
                "    os.makedirs(dest_images, exist_ok=True)\n",
                "    os.makedirs(dest_labels, exist_ok=True)\n",
                "    for label_file in files:\n",
                "        # Move label file\n",
                "        src_label = os.path.join(labels_dir, label_file)\n",
                "        dest_label = os.path.join(dest_labels, label_file)\n",
                "        shutil.copy(src_label, dest_label)\n",
                "\n",
                "        # Move corresponding image file\n",
                "        image_file = label_file.replace(\".txt\", \".jpg\")  # Assuming images are .jpg\n",
                "        src_image = os.path.join(images_dir, image_file)\n",
                "        dest_image = os.path.join(dest_images, image_file)\n",
                "        if os.path.exists(src_image):\n",
                "            shutil.copy(src_image, dest_image)\n",
                "        else:\n",
                "            print(f\"Image file {image_file} not found for label {label_file}\")\n",
                "\n",
                "# Move files to respective directories\n",
                "move_files(train_files, os.path.join(output_dir, \"train/images\"), os.path.join(output_dir, \"train/labels\"))\n",
                "move_files(val_files, os.path.join(output_dir, \"val/images\"), os.path.join(output_dir, \"val/labels\"))\n",
                "move_files(test_files, os.path.join(output_dir, \"test/images\"), os.path.join(output_dir, \"test/labels\"))\n",
                "\n",
                "print(\"Dataset split completed.\")\n",
                "print(f\"Train files: {len(train_files)}\")\n",
                "print(f\"Validation files: {len(val_files)}\")\n",
                "print(f\"Test files: {len(test_files)}\")\n"
            ]
        },
        {
            "cell_type": "markdown",
            "metadata": {},
            "source": [
                "#### Augmentation"
            ]
        },
        {
            "cell_type": "code",
            "execution_count": null,
            "metadata": {},
            "outputs": [
                {
                    "name": "stdout",
                    "output_type": "stream",
                    "text": [
                        "Dataset augmentation completed.\n"
                    ]
                }
            ],
            "source": [
                "import os\n",
                "import shutil\n",
                "import random\n",
                "from glob import glob\n",
                "from PIL import Image, ImageOps\n",
                "\n",
                "def fix_path(path: str) -> str:\n",
                "    return path.replace(\"\\\\\", \"/\")\n",
                "\n",
                "# Directories\n",
                "labels_dir = fix_path(r\"yolo_labels\")\n",
                "source_dir = fix_path(r\"NASA_Planet_Data\\source\")\n",
                "output_dir = fix_path(r\"aug\")\n",
                "\n",
                "# Ensure output directories exist\n",
                "os.makedirs(output_dir, exist_ok=True)\n",
                "augmented_images_dir = os.path.join(output_dir, \"images\")\n",
                "augmented_labels_dir = os.path.join(output_dir, \"labels\")\n",
                "os.makedirs(augmented_images_dir, exist_ok=True)\n",
                "os.makedirs(augmented_labels_dir, exist_ok=True)\n",
                "\n",
                "# Augmentation functions\n",
                "def augment_image(image, label_path, base_name, augmentation_type):\n",
                "    augmented_image = image.copy()\n",
                "    if augmentation_type == \"flip\":\n",
                "        augmented_image = ImageOps.mirror(image)\n",
                "    elif augmentation_type == \"rotate\":\n",
                "        augmented_image = image.rotate(90, expand=True)\n",
                "    \n",
                "    # Save augmented image\n",
                "    augmented_image_path = os.path.join(augmented_images_dir, f\"{base_name}_{augmentation_type}.jpg\")\n",
                "    augmented_image.save(augmented_image_path)\n",
                "\n",
                "    # Copy corresponding label file\n",
                "    if os.path.exists(label_path):\n",
                "        augmented_label_path = os.path.join(augmented_labels_dir, f\"{base_name}_{augmentation_type}.txt\")\n",
                "        shutil.copy(label_path, augmented_label_path)\n",
                "    else:\n",
                "        print(f\"Label file {label_path} missing for image {base_name}, skipping...\")\n",
                "\n",
                "# Process images and labels\n",
                "image_files = glob(os.path.join(source_dir, \"*.jpg\"))\n",
                "for image_path in image_files:\n",
                "    base_name = os.path.splitext(os.path.basename(image_path))[0]\n",
                "    label_path = os.path.join(labels_dir, f\"{base_name}.txt\")\n",
                "\n",
                "    if not os.path.exists(label_path):\n",
                "        print(f\"Label file missing for {base_name}, skipping...\")\n",
                "        continue\n",
                "\n",
                "    with Image.open(image_path) as img:\n",
                "        # Save original image and label\n",
                "        img.save(os.path.join(augmented_images_dir, f\"{base_name}.jpg\"))\n",
                "        shutil.copy(label_path, os.path.join(augmented_labels_dir, f\"{base_name}.txt\"))\n",
                "\n",
                "        # Apply augmentations\n",
                "        augment_image(img, label_path, base_name, \"flip\")\n",
                "        augment_image(img, label_path, base_name, \"rotate\")\n",
                "\n",
                "print(\"Dataset augmentation completed.\")\n"
            ]
        },
        {
            "cell_type": "code",
            "execution_count": null,
            "metadata": {},
            "outputs": [
                {
                    "name": "stdout",
                    "output_type": "stream",
                    "text": [
                        "Number of augmented images: 2217\n",
                        "Number of augmented labels: 2217\n",
                        "Dataset is consistent: Images and labels match.\n"
                    ]
                }
            ],
            "source": [
                "import os\n",
                "\n",
                "# Directories for augmented dataset\n",
                "augmented_images_dir = r\"aug\\images\"\n",
                "augmented_labels_dir = r\"aug\\labels\"\n",
                "\n",
                "# Count the number of image and label files\n",
                "num_images = len([f for f in os.listdir(augmented_images_dir) if f.endswith(\".jpg\")])\n",
                "num_labels = len([f for f in os.listdir(augmented_labels_dir) if f.endswith(\".txt\")])\n",
                "\n",
                "# Print the counts\n",
                "print(f\"Number of augmented images: {num_images}\")\n",
                "print(f\"Number of augmented labels: {num_labels}\")\n",
                "\n",
                "# Ensure the counts match\n",
                "if num_images != num_labels:\n",
                "    print(\"Warning: The number of images and labels do not match!\")\n",
                "else:\n",
                "    print(\"Dataset is consistent: Images and labels match.\")\n"
            ]
        },
        {
            "cell_type": "markdown",
            "metadata": {},
            "source": [
                "#### Prepare val and test sets for augmentation and fair validation runs"
            ]
        },
        {
            "cell_type": "markdown",
            "metadata": {},
            "source": [
                "---"
            ]
        },
        {
            "cell_type": "markdown",
            "metadata": {},
            "source": [
                "# Main Training"
            ]
        },
        {
            "cell_type": "code",
            "execution_count": 1,
            "metadata": {},
            "outputs": [
                {
                    "name": "stdout",
                    "output_type": "stream",
                    "text": [
                        "True\n",
                        "0\n",
                        "<torch.cuda.device object at 0x000001B91B0987C0>\n",
                        "1\n",
                        "NVIDIA GeForce RTX 3060 Laptop GPU\n"
                    ]
                }
            ],
            "source": [
                "# Check pytorch gpu detection\n",
                "import torch\n",
                "print(torch.cuda.is_available())\n",
                "print(torch.cuda.current_device())\n",
                "print(torch.cuda.device(0))\n",
                "print(torch.cuda.device_count())\n",
                "print(torch.cuda.get_device_name(0))"
            ]
        },
        {
            "cell_type": "code",
            "execution_count": 2,
            "metadata": {},
            "outputs": [],
            "source": [
                "import os\n",
                "from ultralytics import YOLO\n",
                "\n",
                "# Load a model\n",
                "model = YOLO(\"yolo11n.pt\")  # load a pretrained model (recommended for training)\n",
                "project = \"runs/train\"\n",
                "name = \"yolo11n_grey\"\n",
                "os.makedirs(project, exist_ok=True)"
            ]
        },
        {
            "cell_type": "code",
            "execution_count": 4,
            "metadata": {},
            "outputs": [
                {
                    "name": "stdout",
                    "output_type": "stream",
                    "text": [
                        "New https://pypi.org/project/ultralytics/8.3.78 available  Update with 'pip install -U ultralytics'\n",
                        "Ultralytics 8.3.73  Python-3.10.16 torch-2.4.1 CUDA:0 (NVIDIA GeForce RTX 3060 Laptop GPU, 6144MiB)\n",
                        "\u001b[34m\u001b[1mengine\\trainer: \u001b[0mtask=detect, mode=train, model=yolo11n.pt, data=datasets/Planet/dataset_splits_aug_grey/data.yaml, epochs=100, time=None, patience=20, batch=16, imgsz=256, save=True, save_period=-1, cache=False, device=cuda, workers=8, project=runs/train, name=yolo11n_grey2, exist_ok=False, pretrained=True, optimizer=SGD, verbose=True, seed=0, deterministic=True, single_cls=False, rect=False, cos_lr=False, close_mosaic=10, resume=False, amp=True, fraction=1.0, profile=False, freeze=None, multi_scale=False, overlap_mask=True, mask_ratio=4, dropout=0.0, val=True, split=val, save_json=False, save_hybrid=False, conf=None, iou=0.7, max_det=300, half=False, dnn=False, plots=True, source=None, vid_stride=1, stream_buffer=False, visualize=False, augment=False, agnostic_nms=False, classes=None, retina_masks=False, embed=None, show=False, save_frames=False, save_txt=False, save_conf=False, save_crop=False, show_labels=True, show_conf=True, show_boxes=True, line_width=None, format=torchscript, keras=False, optimize=False, int8=False, dynamic=False, simplify=True, opset=None, workspace=None, nms=False, lr0=0.001, lrf=0.01, momentum=0.937, weight_decay=0.0005, warmup_epochs=3.0, warmup_momentum=0.8, warmup_bias_lr=0.1, box=7.5, cls=0.5, dfl=1.5, pose=12.0, kobj=1.0, nbs=64, hsv_h=0.015, hsv_s=0.7, hsv_v=0.4, degrees=0.0, translate=0.1, scale=0.5, shear=0.0, perspective=0.0, flipud=0.0, fliplr=0.5, bgr=0.0, mosaic=1.0, mixup=0.0, copy_paste=0.0, copy_paste_mode=flip, auto_augment=randaugment, erasing=0.4, crop_fraction=1.0, cfg=None, tracker=botsort.yaml, save_dir=runs\\train\\yolo11n_grey2\n",
                        "\n",
                        "                   from  n    params  module                                       arguments                     \n",
                        "  0                  -1  1       464  ultralytics.nn.modules.conv.Conv             [3, 16, 3, 2]                 \n",
                        "  1                  -1  1      4672  ultralytics.nn.modules.conv.Conv             [16, 32, 3, 2]                \n",
                        "  2                  -1  1      6640  ultralytics.nn.modules.block.C3k2            [32, 64, 1, False, 0.25]      \n",
                        "  3                  -1  1     36992  ultralytics.nn.modules.conv.Conv             [64, 64, 3, 2]                \n",
                        "  4                  -1  1     26080  ultralytics.nn.modules.block.C3k2            [64, 128, 1, False, 0.25]     \n",
                        "  5                  -1  1    147712  ultralytics.nn.modules.conv.Conv             [128, 128, 3, 2]              \n",
                        "  6                  -1  1     87040  ultralytics.nn.modules.block.C3k2            [128, 128, 1, True]           \n",
                        "  7                  -1  1    295424  ultralytics.nn.modules.conv.Conv             [128, 256, 3, 2]              \n",
                        "  8                  -1  1    346112  ultralytics.nn.modules.block.C3k2            [256, 256, 1, True]           \n",
                        "  9                  -1  1    164608  ultralytics.nn.modules.block.SPPF            [256, 256, 5]                 \n",
                        " 10                  -1  1    249728  ultralytics.nn.modules.block.C2PSA           [256, 256, 1]                 \n",
                        " 11                  -1  1         0  torch.nn.modules.upsampling.Upsample         [None, 2, 'nearest']          \n",
                        " 12             [-1, 6]  1         0  ultralytics.nn.modules.conv.Concat           [1]                           \n",
                        " 13                  -1  1    111296  ultralytics.nn.modules.block.C3k2            [384, 128, 1, False]          \n",
                        " 14                  -1  1         0  torch.nn.modules.upsampling.Upsample         [None, 2, 'nearest']          \n",
                        " 15             [-1, 4]  1         0  ultralytics.nn.modules.conv.Concat           [1]                           \n",
                        " 16                  -1  1     32096  ultralytics.nn.modules.block.C3k2            [256, 64, 1, False]           \n",
                        " 17                  -1  1     36992  ultralytics.nn.modules.conv.Conv             [64, 64, 3, 2]                \n",
                        " 18            [-1, 13]  1         0  ultralytics.nn.modules.conv.Concat           [1]                           \n",
                        " 19                  -1  1     86720  ultralytics.nn.modules.block.C3k2            [192, 128, 1, False]          \n",
                        " 20                  -1  1    147712  ultralytics.nn.modules.conv.Conv             [128, 128, 3, 2]              \n",
                        " 21            [-1, 10]  1         0  ultralytics.nn.modules.conv.Concat           [1]                           \n",
                        " 22                  -1  1    378880  ultralytics.nn.modules.block.C3k2            [384, 256, 1, True]           \n",
                        " 23        [16, 19, 22]  1    430867  ultralytics.nn.modules.head.Detect           [1, [64, 128, 256]]           \n",
                        "YOLO11n summary: 319 layers, 2,590,035 parameters, 2,590,019 gradients, 6.4 GFLOPs\n",
                        "\n",
                        "Transferred 499/499 items from pretrained weights\n",
                        "Freezing layer 'model.23.dfl.conv.weight'\n",
                        "\u001b[34m\u001b[1mAMP: \u001b[0mrunning Automatic Mixed Precision (AMP) checks...\n",
                        "\u001b[34m\u001b[1mAMP: \u001b[0mchecks passed \n"
                    ]
                },
                {
                    "name": "stderr",
                    "output_type": "stream",
                    "text": [
                        "\u001b[34m\u001b[1mtrain: \u001b[0mScanning C:\\Users\\hifia\\Projects\\Marine_Debris\\datasets\\Planet\\dataset_splits_aug_grey\\train\\labels.cache... 2868 images, 0 backgrounds, 0 corrupt: 100%|██████████| 2868/2868 [00:00<?, ?it/s]"
                    ]
                },
                {
                    "name": "stdout",
                    "output_type": "stream",
                    "text": [
                        "\u001b[34m\u001b[1malbumentations: \u001b[0mBlur(p=0.01, blur_limit=(3, 7)), MedianBlur(p=0.01, blur_limit=(3, 7)), ToGray(p=0.01, num_output_channels=3, method='weighted_average'), CLAHE(p=0.01, clip_limit=(1.0, 4.0), tile_grid_size=(8, 8))\n"
                    ]
                },
                {
                    "name": "stderr",
                    "output_type": "stream",
                    "text": [
                        "\n",
                        "\u001b[34m\u001b[1mval: \u001b[0mScanning C:\\Users\\hifia\\Projects\\Marine_Debris\\datasets\\Planet\\dataset_splits_aug_grey\\val\\labels.cache... 574 images, 0 backgrounds, 0 corrupt: 100%|██████████| 574/574 [00:00<?, ?it/s]\n"
                    ]
                },
                {
                    "name": "stdout",
                    "output_type": "stream",
                    "text": [
                        "Plotting labels to runs\\train\\yolo11n_grey2\\labels.jpg... \n",
                        "\u001b[34m\u001b[1moptimizer:\u001b[0m SGD(lr=0.001, momentum=0.937) with parameter groups 81 weight(decay=0.0), 88 weight(decay=0.0005), 87 bias(decay=0.0)\n",
                        "Image sizes 256 train, 256 val\n",
                        "Using 8 dataloader workers\n",
                        "Logging results to \u001b[1mruns\\train\\yolo11n_grey2\u001b[0m\n",
                        "Starting training for 100 epochs...\n",
                        "\n",
                        "      Epoch    GPU_mem   box_loss   cls_loss   dfl_loss  Instances       Size\n"
                    ]
                },
                {
                    "name": "stderr",
                    "output_type": "stream",
                    "text": [
                        "      1/100     0.499G      2.014      2.969      1.456         22        256: 100%|██████████| 180/180 [00:24<00:00,  7.23it/s]\n",
                        "                 Class     Images  Instances      Box(P          R      mAP50  mAP50-95): 100%|██████████| 18/18 [00:03<00:00,  5.61it/s]"
                    ]
                },
                {
                    "name": "stdout",
                    "output_type": "stream",
                    "text": [
                        "                   all        574       1978      0.497      0.379      0.367      0.171\n"
                    ]
                },
                {
                    "name": "stderr",
                    "output_type": "stream",
                    "text": [
                        "\n"
                    ]
                },
                {
                    "name": "stdout",
                    "output_type": "stream",
                    "text": [
                        "\n",
                        "      Epoch    GPU_mem   box_loss   cls_loss   dfl_loss  Instances       Size\n"
                    ]
                },
                {
                    "name": "stderr",
                    "output_type": "stream",
                    "text": [
                        "      2/100     0.501G      1.838      2.213      1.365         20        256: 100%|██████████| 180/180 [00:20<00:00,  8.65it/s]\n",
                        "                 Class     Images  Instances      Box(P          R      mAP50  mAP50-95): 100%|██████████| 18/18 [00:03<00:00,  5.99it/s]\n"
                    ]
                },
                {
                    "name": "stdout",
                    "output_type": "stream",
                    "text": [
                        "                   all        574       1978      0.579      0.472      0.494      0.236\n",
                        "\n",
                        "      Epoch    GPU_mem   box_loss   cls_loss   dfl_loss  Instances       Size\n"
                    ]
                },
                {
                    "name": "stderr",
                    "output_type": "stream",
                    "text": [
                        "      3/100     0.505G      1.775      1.926      1.306         25        256: 100%|██████████| 180/180 [00:20<00:00,  8.86it/s]\n",
                        "                 Class     Images  Instances      Box(P          R      mAP50  mAP50-95): 100%|██████████| 18/18 [00:03<00:00,  5.85it/s]\n"
                    ]
                },
                {
                    "name": "stdout",
                    "output_type": "stream",
                    "text": [
                        "                   all        574       1978      0.552      0.535      0.501      0.249\n",
                        "\n",
                        "      Epoch    GPU_mem   box_loss   cls_loss   dfl_loss  Instances       Size\n"
                    ]
                },
                {
                    "name": "stderr",
                    "output_type": "stream",
                    "text": [
                        "      4/100     0.484G      1.745      1.766       1.26         10        256: 100%|██████████| 180/180 [00:21<00:00,  8.56it/s]\n",
                        "                 Class     Images  Instances      Box(P          R      mAP50  mAP50-95): 100%|██████████| 18/18 [00:03<00:00,  5.65it/s]"
                    ]
                },
                {
                    "name": "stdout",
                    "output_type": "stream",
                    "text": [
                        "                   all        574       1978      0.618      0.581        0.6      0.297\n"
                    ]
                },
                {
                    "name": "stderr",
                    "output_type": "stream",
                    "text": [
                        "\n"
                    ]
                },
                {
                    "name": "stdout",
                    "output_type": "stream",
                    "text": [
                        "\n",
                        "      Epoch    GPU_mem   box_loss   cls_loss   dfl_loss  Instances       Size\n"
                    ]
                },
                {
                    "name": "stderr",
                    "output_type": "stream",
                    "text": [
                        "      5/100     0.505G      1.705      1.695      1.232         14        256: 100%|██████████| 180/180 [00:20<00:00,  8.89it/s]\n",
                        "                 Class     Images  Instances      Box(P          R      mAP50  mAP50-95): 100%|██████████| 18/18 [00:03<00:00,  5.96it/s]"
                    ]
                },
                {
                    "name": "stdout",
                    "output_type": "stream",
                    "text": [
                        "                   all        574       1978      0.653      0.563      0.633      0.328\n"
                    ]
                },
                {
                    "name": "stderr",
                    "output_type": "stream",
                    "text": [
                        "\n"
                    ]
                },
                {
                    "name": "stdout",
                    "output_type": "stream",
                    "text": [
                        "\n",
                        "      Epoch    GPU_mem   box_loss   cls_loss   dfl_loss  Instances       Size\n"
                    ]
                },
                {
                    "name": "stderr",
                    "output_type": "stream",
                    "text": [
                        "      6/100     0.484G      1.675      1.614      1.219         12        256: 100%|██████████| 180/180 [00:20<00:00,  8.78it/s]\n",
                        "                 Class     Images  Instances      Box(P          R      mAP50  mAP50-95): 100%|██████████| 18/18 [00:02<00:00,  6.02it/s]\n"
                    ]
                },
                {
                    "name": "stdout",
                    "output_type": "stream",
                    "text": [
                        "                   all        574       1978      0.635      0.612      0.625      0.322\n",
                        "\n",
                        "      Epoch    GPU_mem   box_loss   cls_loss   dfl_loss  Instances       Size\n"
                    ]
                },
                {
                    "name": "stderr",
                    "output_type": "stream",
                    "text": [
                        "      7/100     0.484G       1.65      1.589      1.198         22        256: 100%|██████████| 180/180 [00:19<00:00,  9.13it/s]\n",
                        "                 Class     Images  Instances      Box(P          R      mAP50  mAP50-95): 100%|██████████| 18/18 [00:03<00:00,  5.79it/s]\n"
                    ]
                },
                {
                    "name": "stdout",
                    "output_type": "stream",
                    "text": [
                        "                   all        574       1978      0.627      0.611      0.614      0.328\n",
                        "\n",
                        "      Epoch    GPU_mem   box_loss   cls_loss   dfl_loss  Instances       Size\n"
                    ]
                },
                {
                    "name": "stderr",
                    "output_type": "stream",
                    "text": [
                        "      8/100     0.505G      1.647      1.567       1.19         19        256: 100%|██████████| 180/180 [00:20<00:00,  8.92it/s]\n",
                        "                 Class     Images  Instances      Box(P          R      mAP50  mAP50-95): 100%|██████████| 18/18 [00:03<00:00,  5.76it/s]\n"
                    ]
                },
                {
                    "name": "stdout",
                    "output_type": "stream",
                    "text": [
                        "                   all        574       1978      0.672       0.62      0.671      0.348\n",
                        "\n",
                        "      Epoch    GPU_mem   box_loss   cls_loss   dfl_loss  Instances       Size\n"
                    ]
                },
                {
                    "name": "stderr",
                    "output_type": "stream",
                    "text": [
                        "      9/100     0.484G      1.621      1.542      1.183         18        256: 100%|██████████| 180/180 [00:20<00:00,  8.95it/s]\n",
                        "                 Class     Images  Instances      Box(P          R      mAP50  mAP50-95): 100%|██████████| 18/18 [00:03<00:00,  5.83it/s]\n"
                    ]
                },
                {
                    "name": "stdout",
                    "output_type": "stream",
                    "text": [
                        "                   all        574       1978      0.632      0.598      0.615      0.321\n",
                        "\n",
                        "      Epoch    GPU_mem   box_loss   cls_loss   dfl_loss  Instances       Size\n"
                    ]
                },
                {
                    "name": "stderr",
                    "output_type": "stream",
                    "text": [
                        "     10/100     0.505G      1.621      1.514       1.18         15        256: 100%|██████████| 180/180 [00:20<00:00,  8.97it/s]\n",
                        "                 Class     Images  Instances      Box(P          R      mAP50  mAP50-95): 100%|██████████| 18/18 [00:03<00:00,  5.91it/s]\n"
                    ]
                },
                {
                    "name": "stdout",
                    "output_type": "stream",
                    "text": [
                        "                   all        574       1978      0.666      0.638      0.657      0.347\n",
                        "\n",
                        "      Epoch    GPU_mem   box_loss   cls_loss   dfl_loss  Instances       Size\n"
                    ]
                },
                {
                    "name": "stderr",
                    "output_type": "stream",
                    "text": [
                        "     11/100     0.484G      1.602      1.486      1.163         19        256: 100%|██████████| 180/180 [00:20<00:00,  8.97it/s]\n",
                        "                 Class     Images  Instances      Box(P          R      mAP50  mAP50-95): 100%|██████████| 18/18 [00:02<00:00,  6.58it/s]\n"
                    ]
                },
                {
                    "name": "stdout",
                    "output_type": "stream",
                    "text": [
                        "                   all        574       1978      0.658      0.632      0.655      0.352\n",
                        "\n",
                        "      Epoch    GPU_mem   box_loss   cls_loss   dfl_loss  Instances       Size\n"
                    ]
                },
                {
                    "name": "stderr",
                    "output_type": "stream",
                    "text": [
                        "     12/100     0.505G      1.602      1.477       1.16         17        256: 100%|██████████| 180/180 [00:20<00:00,  8.97it/s]\n",
                        "                 Class     Images  Instances      Box(P          R      mAP50  mAP50-95): 100%|██████████| 18/18 [00:02<00:00,  6.42it/s]\n"
                    ]
                },
                {
                    "name": "stdout",
                    "output_type": "stream",
                    "text": [
                        "                   all        574       1978      0.672      0.636      0.678      0.375\n",
                        "\n",
                        "      Epoch    GPU_mem   box_loss   cls_loss   dfl_loss  Instances       Size\n"
                    ]
                },
                {
                    "name": "stderr",
                    "output_type": "stream",
                    "text": [
                        "     13/100     0.505G      1.582      1.464      1.146         22        256: 100%|██████████| 180/180 [00:20<00:00,  8.91it/s]\n",
                        "                 Class     Images  Instances      Box(P          R      mAP50  mAP50-95): 100%|██████████| 18/18 [00:02<00:00,  6.30it/s]\n"
                    ]
                },
                {
                    "name": "stdout",
                    "output_type": "stream",
                    "text": [
                        "                   all        574       1978      0.685      0.618      0.663      0.351\n",
                        "\n",
                        "      Epoch    GPU_mem   box_loss   cls_loss   dfl_loss  Instances       Size\n"
                    ]
                },
                {
                    "name": "stderr",
                    "output_type": "stream",
                    "text": [
                        "     14/100     0.484G      1.588      1.457      1.148         25        256: 100%|██████████| 180/180 [00:19<00:00,  9.31it/s]\n",
                        "                 Class     Images  Instances      Box(P          R      mAP50  mAP50-95): 100%|██████████| 18/18 [00:02<00:00,  6.56it/s]\n"
                    ]
                },
                {
                    "name": "stdout",
                    "output_type": "stream",
                    "text": [
                        "                   all        574       1978      0.684      0.628      0.675      0.361\n",
                        "\n",
                        "      Epoch    GPU_mem   box_loss   cls_loss   dfl_loss  Instances       Size\n"
                    ]
                },
                {
                    "name": "stderr",
                    "output_type": "stream",
                    "text": [
                        "     15/100     0.505G      1.566      1.428      1.143         18        256: 100%|██████████| 180/180 [00:19<00:00,  9.08it/s]\n",
                        "                 Class     Images  Instances      Box(P          R      mAP50  mAP50-95): 100%|██████████| 18/18 [00:02<00:00,  6.46it/s]\n"
                    ]
                },
                {
                    "name": "stdout",
                    "output_type": "stream",
                    "text": [
                        "                   all        574       1978      0.653      0.616      0.639      0.345\n",
                        "\n",
                        "      Epoch    GPU_mem   box_loss   cls_loss   dfl_loss  Instances       Size\n"
                    ]
                },
                {
                    "name": "stderr",
                    "output_type": "stream",
                    "text": [
                        "     16/100     0.484G      1.575      1.427      1.143         19        256: 100%|██████████| 180/180 [00:21<00:00,  8.47it/s]\n",
                        "                 Class     Images  Instances      Box(P          R      mAP50  mAP50-95): 100%|██████████| 18/18 [00:03<00:00,  5.44it/s]"
                    ]
                },
                {
                    "name": "stdout",
                    "output_type": "stream",
                    "text": [
                        "                   all        574       1978      0.715       0.62      0.676      0.369\n"
                    ]
                },
                {
                    "name": "stderr",
                    "output_type": "stream",
                    "text": [
                        "\n"
                    ]
                },
                {
                    "name": "stdout",
                    "output_type": "stream",
                    "text": [
                        "\n",
                        "      Epoch    GPU_mem   box_loss   cls_loss   dfl_loss  Instances       Size\n"
                    ]
                },
                {
                    "name": "stderr",
                    "output_type": "stream",
                    "text": [
                        "     17/100     0.505G      1.554      1.423      1.144         13        256: 100%|██████████| 180/180 [00:20<00:00,  8.78it/s]\n",
                        "                 Class     Images  Instances      Box(P          R      mAP50  mAP50-95): 100%|██████████| 18/18 [00:02<00:00,  6.35it/s]\n"
                    ]
                },
                {
                    "name": "stdout",
                    "output_type": "stream",
                    "text": [
                        "                   all        574       1978      0.652      0.595      0.634      0.347\n",
                        "\n",
                        "      Epoch    GPU_mem   box_loss   cls_loss   dfl_loss  Instances       Size\n"
                    ]
                },
                {
                    "name": "stderr",
                    "output_type": "stream",
                    "text": [
                        "     18/100     0.505G      1.553      1.397      1.128         19        256: 100%|██████████| 180/180 [00:19<00:00,  9.19it/s]\n",
                        "                 Class     Images  Instances      Box(P          R      mAP50  mAP50-95): 100%|██████████| 18/18 [00:02<00:00,  6.05it/s]\n"
                    ]
                },
                {
                    "name": "stdout",
                    "output_type": "stream",
                    "text": [
                        "                   all        574       1978      0.665      0.629      0.666      0.369\n",
                        "\n",
                        "      Epoch    GPU_mem   box_loss   cls_loss   dfl_loss  Instances       Size\n"
                    ]
                },
                {
                    "name": "stderr",
                    "output_type": "stream",
                    "text": [
                        "     19/100     0.484G       1.54      1.383       1.13         18        256: 100%|██████████| 180/180 [00:19<00:00,  9.03it/s]\n",
                        "                 Class     Images  Instances      Box(P          R      mAP50  mAP50-95): 100%|██████████| 18/18 [00:02<00:00,  6.47it/s]\n"
                    ]
                },
                {
                    "name": "stdout",
                    "output_type": "stream",
                    "text": [
                        "                   all        574       1978      0.701      0.643      0.697       0.38\n",
                        "\n",
                        "      Epoch    GPU_mem   box_loss   cls_loss   dfl_loss  Instances       Size\n"
                    ]
                },
                {
                    "name": "stderr",
                    "output_type": "stream",
                    "text": [
                        "     20/100     0.505G      1.544      1.383      1.133         28        256: 100%|██████████| 180/180 [00:19<00:00,  9.26it/s]\n",
                        "                 Class     Images  Instances      Box(P          R      mAP50  mAP50-95): 100%|██████████| 18/18 [00:02<00:00,  6.84it/s]\n"
                    ]
                },
                {
                    "name": "stdout",
                    "output_type": "stream",
                    "text": [
                        "                   all        574       1978      0.638      0.614      0.634      0.345\n",
                        "\n",
                        "      Epoch    GPU_mem   box_loss   cls_loss   dfl_loss  Instances       Size\n"
                    ]
                },
                {
                    "name": "stderr",
                    "output_type": "stream",
                    "text": [
                        "     21/100     0.484G      1.527      1.365       1.12         16        256: 100%|██████████| 180/180 [00:20<00:00,  8.99it/s]\n",
                        "                 Class     Images  Instances      Box(P          R      mAP50  mAP50-95): 100%|██████████| 18/18 [00:02<00:00,  6.84it/s]\n"
                    ]
                },
                {
                    "name": "stdout",
                    "output_type": "stream",
                    "text": [
                        "                   all        574       1978      0.687      0.653      0.683      0.378\n",
                        "\n",
                        "      Epoch    GPU_mem   box_loss   cls_loss   dfl_loss  Instances       Size\n"
                    ]
                },
                {
                    "name": "stderr",
                    "output_type": "stream",
                    "text": [
                        "     22/100     0.505G      1.533       1.35       1.12         15        256: 100%|██████████| 180/180 [00:19<00:00,  9.19it/s]\n",
                        "                 Class     Images  Instances      Box(P          R      mAP50  mAP50-95): 100%|██████████| 18/18 [00:02<00:00,  6.39it/s]"
                    ]
                },
                {
                    "name": "stdout",
                    "output_type": "stream",
                    "text": [
                        "                   all        574       1978      0.656      0.678      0.696      0.386\n"
                    ]
                },
                {
                    "name": "stderr",
                    "output_type": "stream",
                    "text": [
                        "\n"
                    ]
                },
                {
                    "name": "stdout",
                    "output_type": "stream",
                    "text": [
                        "\n",
                        "      Epoch    GPU_mem   box_loss   cls_loss   dfl_loss  Instances       Size\n"
                    ]
                },
                {
                    "name": "stderr",
                    "output_type": "stream",
                    "text": [
                        "     23/100     0.505G      1.544      1.353      1.125         20        256: 100%|██████████| 180/180 [00:19<00:00,  9.21it/s]\n",
                        "                 Class     Images  Instances      Box(P          R      mAP50  mAP50-95): 100%|██████████| 18/18 [00:02<00:00,  6.59it/s]\n"
                    ]
                },
                {
                    "name": "stdout",
                    "output_type": "stream",
                    "text": [
                        "                   all        574       1978      0.672      0.661      0.674      0.377\n",
                        "\n",
                        "      Epoch    GPU_mem   box_loss   cls_loss   dfl_loss  Instances       Size\n"
                    ]
                },
                {
                    "name": "stderr",
                    "output_type": "stream",
                    "text": [
                        "     24/100     0.484G       1.51      1.317      1.107         25        256: 100%|██████████| 180/180 [00:18<00:00,  9.50it/s]\n",
                        "                 Class     Images  Instances      Box(P          R      mAP50  mAP50-95): 100%|██████████| 18/18 [00:02<00:00,  6.74it/s]\n"
                    ]
                },
                {
                    "name": "stdout",
                    "output_type": "stream",
                    "text": [
                        "                   all        574       1978      0.697      0.657      0.699      0.387\n",
                        "\n",
                        "      Epoch    GPU_mem   box_loss   cls_loss   dfl_loss  Instances       Size\n"
                    ]
                },
                {
                    "name": "stderr",
                    "output_type": "stream",
                    "text": [
                        "     25/100     0.505G      1.512      1.341      1.103         16        256: 100%|██████████| 180/180 [00:19<00:00,  9.46it/s]\n",
                        "                 Class     Images  Instances      Box(P          R      mAP50  mAP50-95): 100%|██████████| 18/18 [00:02<00:00,  6.84it/s]\n"
                    ]
                },
                {
                    "name": "stdout",
                    "output_type": "stream",
                    "text": [
                        "                   all        574       1978      0.659       0.64       0.66      0.372\n",
                        "\n",
                        "      Epoch    GPU_mem   box_loss   cls_loss   dfl_loss  Instances       Size\n"
                    ]
                },
                {
                    "name": "stderr",
                    "output_type": "stream",
                    "text": [
                        "     26/100     0.484G      1.518      1.335      1.117         20        256: 100%|██████████| 180/180 [00:19<00:00,  9.46it/s]\n",
                        "                 Class     Images  Instances      Box(P          R      mAP50  mAP50-95): 100%|██████████| 18/18 [00:02<00:00,  6.83it/s]\n"
                    ]
                },
                {
                    "name": "stdout",
                    "output_type": "stream",
                    "text": [
                        "                   all        574       1978      0.673      0.673      0.684      0.379\n",
                        "\n",
                        "      Epoch    GPU_mem   box_loss   cls_loss   dfl_loss  Instances       Size\n"
                    ]
                },
                {
                    "name": "stderr",
                    "output_type": "stream",
                    "text": [
                        "     27/100     0.482G      1.531      1.336      1.113         11        256: 100%|██████████| 180/180 [00:20<00:00,  8.92it/s]\n",
                        "                 Class     Images  Instances      Box(P          R      mAP50  mAP50-95): 100%|██████████| 18/18 [00:02<00:00,  6.56it/s]\n"
                    ]
                },
                {
                    "name": "stdout",
                    "output_type": "stream",
                    "text": [
                        "                   all        574       1978      0.699      0.666      0.691      0.383\n",
                        "\n",
                        "      Epoch    GPU_mem   box_loss   cls_loss   dfl_loss  Instances       Size\n"
                    ]
                },
                {
                    "name": "stderr",
                    "output_type": "stream",
                    "text": [
                        "     28/100     0.484G      1.501      1.312      1.103         16        256: 100%|██████████| 180/180 [00:20<00:00,  8.58it/s]\n",
                        "                 Class     Images  Instances      Box(P          R      mAP50  mAP50-95): 100%|██████████| 18/18 [00:02<00:00,  6.51it/s]\n"
                    ]
                },
                {
                    "name": "stdout",
                    "output_type": "stream",
                    "text": [
                        "                   all        574       1978      0.668      0.634      0.653      0.366\n",
                        "\n",
                        "      Epoch    GPU_mem   box_loss   cls_loss   dfl_loss  Instances       Size\n"
                    ]
                },
                {
                    "name": "stderr",
                    "output_type": "stream",
                    "text": [
                        "     29/100     0.484G      1.516       1.32      1.108         13        256: 100%|██████████| 180/180 [00:21<00:00,  8.40it/s]\n",
                        "                 Class     Images  Instances      Box(P          R      mAP50  mAP50-95): 100%|██████████| 18/18 [00:02<00:00,  6.29it/s]\n"
                    ]
                },
                {
                    "name": "stdout",
                    "output_type": "stream",
                    "text": [
                        "                   all        574       1978      0.674      0.596      0.635      0.352\n",
                        "\n",
                        "      Epoch    GPU_mem   box_loss   cls_loss   dfl_loss  Instances       Size\n"
                    ]
                },
                {
                    "name": "stderr",
                    "output_type": "stream",
                    "text": [
                        "     30/100     0.484G       1.48       1.29      1.104         17        256: 100%|██████████| 180/180 [00:19<00:00,  9.14it/s]\n",
                        "                 Class     Images  Instances      Box(P          R      mAP50  mAP50-95): 100%|██████████| 18/18 [00:02<00:00,  6.72it/s]\n"
                    ]
                },
                {
                    "name": "stdout",
                    "output_type": "stream",
                    "text": [
                        "                   all        574       1978      0.667      0.658       0.68      0.376\n",
                        "\n",
                        "      Epoch    GPU_mem   box_loss   cls_loss   dfl_loss  Instances       Size\n"
                    ]
                },
                {
                    "name": "stderr",
                    "output_type": "stream",
                    "text": [
                        "     31/100     0.484G      1.499       1.29        1.1         12        256: 100%|██████████| 180/180 [00:19<00:00,  9.27it/s]\n",
                        "                 Class     Images  Instances      Box(P          R      mAP50  mAP50-95): 100%|██████████| 18/18 [00:02<00:00,  6.50it/s]\n"
                    ]
                },
                {
                    "name": "stdout",
                    "output_type": "stream",
                    "text": [
                        "                   all        574       1978      0.653      0.638      0.648       0.37\n",
                        "\n",
                        "      Epoch    GPU_mem   box_loss   cls_loss   dfl_loss  Instances       Size\n"
                    ]
                },
                {
                    "name": "stderr",
                    "output_type": "stream",
                    "text": [
                        "     32/100     0.484G       1.48      1.278      1.097         16        256: 100%|██████████| 180/180 [00:20<00:00,  9.00it/s]\n",
                        "                 Class     Images  Instances      Box(P          R      mAP50  mAP50-95): 100%|██████████| 18/18 [00:02<00:00,  6.41it/s]\n"
                    ]
                },
                {
                    "name": "stdout",
                    "output_type": "stream",
                    "text": [
                        "                   all        574       1978      0.677      0.622      0.648      0.363\n",
                        "\n",
                        "      Epoch    GPU_mem   box_loss   cls_loss   dfl_loss  Instances       Size\n"
                    ]
                },
                {
                    "name": "stderr",
                    "output_type": "stream",
                    "text": [
                        "     33/100     0.505G      1.497      1.272      1.099         20        256: 100%|██████████| 180/180 [00:19<00:00,  9.11it/s]\n",
                        "                 Class     Images  Instances      Box(P          R      mAP50  mAP50-95): 100%|██████████| 18/18 [00:02<00:00,  6.58it/s]\n"
                    ]
                },
                {
                    "name": "stdout",
                    "output_type": "stream",
                    "text": [
                        "                   all        574       1978      0.688      0.665      0.678       0.38\n",
                        "\n",
                        "      Epoch    GPU_mem   box_loss   cls_loss   dfl_loss  Instances       Size\n"
                    ]
                },
                {
                    "name": "stderr",
                    "output_type": "stream",
                    "text": [
                        "     34/100     0.484G      1.469      1.278      1.098         21        256: 100%|██████████| 180/180 [00:20<00:00,  8.97it/s]\n",
                        "                 Class     Images  Instances      Box(P          R      mAP50  mAP50-95): 100%|██████████| 18/18 [00:02<00:00,  6.58it/s]\n"
                    ]
                },
                {
                    "name": "stdout",
                    "output_type": "stream",
                    "text": [
                        "                   all        574       1978      0.705      0.659      0.696      0.386\n",
                        "\n",
                        "      Epoch    GPU_mem   box_loss   cls_loss   dfl_loss  Instances       Size\n"
                    ]
                },
                {
                    "name": "stderr",
                    "output_type": "stream",
                    "text": [
                        "     35/100     0.505G      1.471      1.263      1.094         17        256: 100%|██████████| 180/180 [00:20<00:00,  8.90it/s]\n",
                        "                 Class     Images  Instances      Box(P          R      mAP50  mAP50-95): 100%|██████████| 18/18 [00:02<00:00,  6.42it/s]\n"
                    ]
                },
                {
                    "name": "stdout",
                    "output_type": "stream",
                    "text": [
                        "                   all        574       1978      0.692      0.674      0.703      0.395\n",
                        "\n",
                        "      Epoch    GPU_mem   box_loss   cls_loss   dfl_loss  Instances       Size\n"
                    ]
                },
                {
                    "name": "stderr",
                    "output_type": "stream",
                    "text": [
                        "     36/100     0.484G      1.462      1.247       1.09         17        256: 100%|██████████| 180/180 [00:19<00:00,  9.37it/s]\n",
                        "                 Class     Images  Instances      Box(P          R      mAP50  mAP50-95): 100%|██████████| 18/18 [00:02<00:00,  6.57it/s]\n"
                    ]
                },
                {
                    "name": "stdout",
                    "output_type": "stream",
                    "text": [
                        "                   all        574       1978      0.712      0.668      0.702      0.392\n",
                        "\n",
                        "      Epoch    GPU_mem   box_loss   cls_loss   dfl_loss  Instances       Size\n"
                    ]
                },
                {
                    "name": "stderr",
                    "output_type": "stream",
                    "text": [
                        "     37/100     0.505G      1.468      1.256      1.096         15        256: 100%|██████████| 180/180 [00:19<00:00,  9.17it/s]\n",
                        "                 Class     Images  Instances      Box(P          R      mAP50  mAP50-95): 100%|██████████| 18/18 [00:02<00:00,  6.65it/s]\n"
                    ]
                },
                {
                    "name": "stdout",
                    "output_type": "stream",
                    "text": [
                        "                   all        574       1978      0.667      0.646      0.656      0.364\n",
                        "\n",
                        "      Epoch    GPU_mem   box_loss   cls_loss   dfl_loss  Instances       Size\n"
                    ]
                },
                {
                    "name": "stderr",
                    "output_type": "stream",
                    "text": [
                        "     38/100     0.505G      1.462      1.247      1.094         17        256: 100%|██████████| 180/180 [00:19<00:00,  9.13it/s]\n",
                        "                 Class     Images  Instances      Box(P          R      mAP50  mAP50-95): 100%|██████████| 18/18 [00:02<00:00,  6.67it/s]\n"
                    ]
                },
                {
                    "name": "stdout",
                    "output_type": "stream",
                    "text": [
                        "                   all        574       1978      0.682      0.638      0.665      0.369\n",
                        "\n",
                        "      Epoch    GPU_mem   box_loss   cls_loss   dfl_loss  Instances       Size\n"
                    ]
                },
                {
                    "name": "stderr",
                    "output_type": "stream",
                    "text": [
                        "     39/100     0.484G       1.47      1.227      1.087         14        256: 100%|██████████| 180/180 [00:18<00:00,  9.87it/s]\n",
                        "                 Class     Images  Instances      Box(P          R      mAP50  mAP50-95): 100%|██████████| 18/18 [00:02<00:00,  7.17it/s]\n"
                    ]
                },
                {
                    "name": "stdout",
                    "output_type": "stream",
                    "text": [
                        "                   all        574       1978      0.694      0.646      0.672      0.375\n",
                        "\n",
                        "      Epoch    GPU_mem   box_loss   cls_loss   dfl_loss  Instances       Size\n"
                    ]
                },
                {
                    "name": "stderr",
                    "output_type": "stream",
                    "text": [
                        "     40/100     0.484G      1.462      1.236      1.087         25        256: 100%|██████████| 180/180 [00:19<00:00,  9.16it/s]\n",
                        "                 Class     Images  Instances      Box(P          R      mAP50  mAP50-95): 100%|██████████| 18/18 [00:02<00:00,  6.45it/s]\n"
                    ]
                },
                {
                    "name": "stdout",
                    "output_type": "stream",
                    "text": [
                        "                   all        574       1978      0.679      0.655      0.655      0.364\n",
                        "\n",
                        "      Epoch    GPU_mem   box_loss   cls_loss   dfl_loss  Instances       Size\n"
                    ]
                },
                {
                    "name": "stderr",
                    "output_type": "stream",
                    "text": [
                        "     41/100     0.505G      1.456      1.232       1.09         20        256: 100%|██████████| 180/180 [00:20<00:00,  8.88it/s]\n",
                        "                 Class     Images  Instances      Box(P          R      mAP50  mAP50-95): 100%|██████████| 18/18 [00:02<00:00,  6.68it/s]\n"
                    ]
                },
                {
                    "name": "stdout",
                    "output_type": "stream",
                    "text": [
                        "                   all        574       1978      0.703       0.63      0.666      0.366\n",
                        "\n",
                        "      Epoch    GPU_mem   box_loss   cls_loss   dfl_loss  Instances       Size\n"
                    ]
                },
                {
                    "name": "stderr",
                    "output_type": "stream",
                    "text": [
                        "     42/100     0.484G       1.45      1.221      1.082         20        256: 100%|██████████| 180/180 [00:19<00:00,  9.14it/s]\n",
                        "                 Class     Images  Instances      Box(P          R      mAP50  mAP50-95): 100%|██████████| 18/18 [00:02<00:00,  6.38it/s]\n"
                    ]
                },
                {
                    "name": "stdout",
                    "output_type": "stream",
                    "text": [
                        "                   all        574       1978      0.713       0.66      0.684       0.38\n",
                        "\n",
                        "      Epoch    GPU_mem   box_loss   cls_loss   dfl_loss  Instances       Size\n"
                    ]
                },
                {
                    "name": "stderr",
                    "output_type": "stream",
                    "text": [
                        "     43/100     0.503G       1.45      1.222      1.086         33        256: 100%|██████████| 180/180 [00:19<00:00,  9.08it/s]\n",
                        "                 Class     Images  Instances      Box(P          R      mAP50  mAP50-95): 100%|██████████| 18/18 [00:02<00:00,  6.54it/s]\n"
                    ]
                },
                {
                    "name": "stdout",
                    "output_type": "stream",
                    "text": [
                        "                   all        574       1978        0.7      0.656      0.679       0.38\n",
                        "\n",
                        "      Epoch    GPU_mem   box_loss   cls_loss   dfl_loss  Instances       Size\n"
                    ]
                },
                {
                    "name": "stderr",
                    "output_type": "stream",
                    "text": [
                        "     44/100     0.505G      1.461      1.221      1.084         12        256: 100%|██████████| 180/180 [00:19<00:00,  9.03it/s]\n",
                        "                 Class     Images  Instances      Box(P          R      mAP50  mAP50-95): 100%|██████████| 18/18 [00:02<00:00,  6.30it/s]\n"
                    ]
                },
                {
                    "name": "stdout",
                    "output_type": "stream",
                    "text": [
                        "                   all        574       1978      0.702      0.641      0.682       0.38\n",
                        "\n",
                        "      Epoch    GPU_mem   box_loss   cls_loss   dfl_loss  Instances       Size\n"
                    ]
                },
                {
                    "name": "stderr",
                    "output_type": "stream",
                    "text": [
                        "     45/100     0.503G      1.447      1.201       1.08         23        256: 100%|██████████| 180/180 [00:20<00:00,  8.84it/s]\n",
                        "                 Class     Images  Instances      Box(P          R      mAP50  mAP50-95): 100%|██████████| 18/18 [00:02<00:00,  6.04it/s]\n"
                    ]
                },
                {
                    "name": "stdout",
                    "output_type": "stream",
                    "text": [
                        "                   all        574       1978      0.694      0.654      0.678      0.383\n",
                        "\n",
                        "      Epoch    GPU_mem   box_loss   cls_loss   dfl_loss  Instances       Size\n"
                    ]
                },
                {
                    "name": "stderr",
                    "output_type": "stream",
                    "text": [
                        "     46/100     0.503G      1.452      1.213      1.079         34        256: 100%|██████████| 180/180 [00:20<00:00,  8.84it/s]\n",
                        "                 Class     Images  Instances      Box(P          R      mAP50  mAP50-95): 100%|██████████| 18/18 [00:02<00:00,  6.44it/s]\n"
                    ]
                },
                {
                    "name": "stdout",
                    "output_type": "stream",
                    "text": [
                        "                   all        574       1978      0.708      0.653      0.679      0.378\n",
                        "\n",
                        "      Epoch    GPU_mem   box_loss   cls_loss   dfl_loss  Instances       Size\n"
                    ]
                },
                {
                    "name": "stderr",
                    "output_type": "stream",
                    "text": [
                        "     47/100     0.503G      1.414      1.186      1.075         32        256: 100%|██████████| 180/180 [00:19<00:00,  9.04it/s]\n",
                        "                 Class     Images  Instances      Box(P          R      mAP50  mAP50-95): 100%|██████████| 18/18 [00:02<00:00,  6.68it/s]\n"
                    ]
                },
                {
                    "name": "stdout",
                    "output_type": "stream",
                    "text": [
                        "                   all        574       1978      0.699      0.659      0.682      0.381\n",
                        "\n",
                        "      Epoch    GPU_mem   box_loss   cls_loss   dfl_loss  Instances       Size\n"
                    ]
                },
                {
                    "name": "stderr",
                    "output_type": "stream",
                    "text": [
                        "     48/100     0.503G       1.44      1.198      1.081         13        256: 100%|██████████| 180/180 [00:20<00:00,  8.97it/s]\n",
                        "                 Class     Images  Instances      Box(P          R      mAP50  mAP50-95): 100%|██████████| 18/18 [00:02<00:00,  6.53it/s]\n"
                    ]
                },
                {
                    "name": "stdout",
                    "output_type": "stream",
                    "text": [
                        "                   all        574       1978      0.703      0.658      0.685      0.375\n",
                        "\n",
                        "      Epoch    GPU_mem   box_loss   cls_loss   dfl_loss  Instances       Size\n"
                    ]
                },
                {
                    "name": "stderr",
                    "output_type": "stream",
                    "text": [
                        "     49/100     0.482G      1.445      1.203       1.08         11        256: 100%|██████████| 180/180 [00:18<00:00,  9.61it/s]\n",
                        "                 Class     Images  Instances      Box(P          R      mAP50  mAP50-95): 100%|██████████| 18/18 [00:02<00:00,  6.59it/s]\n"
                    ]
                },
                {
                    "name": "stdout",
                    "output_type": "stream",
                    "text": [
                        "                   all        574       1978      0.719      0.658      0.694       0.39\n",
                        "\n",
                        "      Epoch    GPU_mem   box_loss   cls_loss   dfl_loss  Instances       Size\n"
                    ]
                },
                {
                    "name": "stderr",
                    "output_type": "stream",
                    "text": [
                        "     50/100     0.503G      1.421      1.174      1.071         20        256: 100%|██████████| 180/180 [00:20<00:00,  8.88it/s]\n",
                        "                 Class     Images  Instances      Box(P          R      mAP50  mAP50-95): 100%|██████████| 18/18 [00:02<00:00,  6.78it/s]\n"
                    ]
                },
                {
                    "name": "stdout",
                    "output_type": "stream",
                    "text": [
                        "                   all        574       1978      0.729       0.63      0.686      0.385\n",
                        "\n",
                        "      Epoch    GPU_mem   box_loss   cls_loss   dfl_loss  Instances       Size\n"
                    ]
                },
                {
                    "name": "stderr",
                    "output_type": "stream",
                    "text": [
                        "     51/100     0.482G       1.43      1.191      1.077         15        256: 100%|██████████| 180/180 [00:19<00:00,  9.25it/s]\n",
                        "                 Class     Images  Instances      Box(P          R      mAP50  mAP50-95): 100%|██████████| 18/18 [00:02<00:00,  6.35it/s]\n"
                    ]
                },
                {
                    "name": "stdout",
                    "output_type": "stream",
                    "text": [
                        "                   all        574       1978      0.685      0.654      0.678      0.377\n",
                        "\n",
                        "      Epoch    GPU_mem   box_loss   cls_loss   dfl_loss  Instances       Size\n"
                    ]
                },
                {
                    "name": "stderr",
                    "output_type": "stream",
                    "text": [
                        "     52/100     0.482G      1.435      1.172      1.074         16        256: 100%|██████████| 180/180 [00:19<00:00,  9.16it/s]\n",
                        "                 Class     Images  Instances      Box(P          R      mAP50  mAP50-95): 100%|██████████| 18/18 [00:02<00:00,  6.65it/s]\n"
                    ]
                },
                {
                    "name": "stdout",
                    "output_type": "stream",
                    "text": [
                        "                   all        574       1978      0.684      0.633      0.652      0.361\n",
                        "\n",
                        "      Epoch    GPU_mem   box_loss   cls_loss   dfl_loss  Instances       Size\n"
                    ]
                },
                {
                    "name": "stderr",
                    "output_type": "stream",
                    "text": [
                        "     53/100     0.482G      1.424      1.174      1.073         23        256: 100%|██████████| 180/180 [00:20<00:00,  8.97it/s]\n",
                        "                 Class     Images  Instances      Box(P          R      mAP50  mAP50-95): 100%|██████████| 18/18 [00:02<00:00,  6.74it/s]\n"
                    ]
                },
                {
                    "name": "stdout",
                    "output_type": "stream",
                    "text": [
                        "                   all        574       1978        0.7      0.641      0.674      0.377\n",
                        "\n",
                        "      Epoch    GPU_mem   box_loss   cls_loss   dfl_loss  Instances       Size\n"
                    ]
                },
                {
                    "name": "stderr",
                    "output_type": "stream",
                    "text": [
                        "     54/100     0.482G      1.413      1.176      1.071         19        256: 100%|██████████| 180/180 [00:19<00:00,  9.19it/s]\n",
                        "                 Class     Images  Instances      Box(P          R      mAP50  mAP50-95): 100%|██████████| 18/18 [00:02<00:00,  6.17it/s]\n"
                    ]
                },
                {
                    "name": "stdout",
                    "output_type": "stream",
                    "text": [
                        "                   all        574       1978      0.696      0.648      0.666      0.372\n",
                        "\n",
                        "      Epoch    GPU_mem   box_loss   cls_loss   dfl_loss  Instances       Size\n"
                    ]
                },
                {
                    "name": "stderr",
                    "output_type": "stream",
                    "text": [
                        "     55/100     0.503G      1.423      1.156      1.064         14        256: 100%|██████████| 180/180 [00:20<00:00,  8.82it/s]\n",
                        "                 Class     Images  Instances      Box(P          R      mAP50  mAP50-95): 100%|██████████| 18/18 [00:02<00:00,  6.18it/s]\n"
                    ]
                },
                {
                    "name": "stdout",
                    "output_type": "stream",
                    "text": [
                        "                   all        574       1978      0.721       0.64      0.664      0.372\n",
                        "\u001b[34m\u001b[1mEarlyStopping: \u001b[0mTraining stopped early as no improvement observed in last 20 epochs. Best results observed at epoch 35, best model saved as best.pt.\n",
                        "To update EarlyStopping(patience=20) pass a new patience value, i.e. `patience=300` or use `patience=0` to disable EarlyStopping.\n",
                        "\n",
                        "55 epochs completed in 0.358 hours.\n",
                        "Optimizer stripped from runs\\train\\yolo11n_grey2\\weights\\last.pt, 5.4MB\n",
                        "Optimizer stripped from runs\\train\\yolo11n_grey2\\weights\\best.pt, 5.4MB\n",
                        "\n",
                        "Validating runs\\train\\yolo11n_grey2\\weights\\best.pt...\n",
                        "Ultralytics 8.3.73  Python-3.10.16 torch-2.4.1 CUDA:0 (NVIDIA GeForce RTX 3060 Laptop GPU, 6144MiB)\n",
                        "YOLO11n summary (fused): 238 layers, 2,582,347 parameters, 0 gradients, 6.3 GFLOPs\n"
                    ]
                },
                {
                    "name": "stderr",
                    "output_type": "stream",
                    "text": [
                        "                 Class     Images  Instances      Box(P          R      mAP50  mAP50-95): 100%|██████████| 18/18 [00:03<00:00,  5.07it/s]\n"
                    ]
                },
                {
                    "name": "stdout",
                    "output_type": "stream",
                    "text": [
                        "                   all        574       1978      0.693      0.674      0.703      0.394\n",
                        "Speed: 0.1ms preprocess, 1.0ms inference, 0.0ms loss, 1.2ms postprocess per image\n",
                        "Results saved to \u001b[1mruns\\train\\yolo11n_grey2\u001b[0m\n"
                    ]
                }
            ],
            "source": [
                "# Train the model\n",
                "results = model.train(\n",
                "    data=\"datasets/Planet/dataset_splits_aug_grey/data.yaml\",\n",
                "    epochs=100,\n",
                "    imgsz=256,\n",
                "    batch=16,\n",
                "    device='cuda',\n",
                "    optimizer=\"SGD\",\n",
                "    workers=8,\n",
                "    lr0=0.001,\n",
                "    patience=20,\n",
                "    project=project,\n",
                "    name=name,\n",
                "    plots=True,\n",
                ")"
            ]
        },
        {
            "cell_type": "code",
            "execution_count": null,
            "metadata": {},
            "outputs": [
                {
                    "name": "stdout",
                    "output_type": "stream",
                    "text": [
                        "\n",
                        "0: 256x256 1 debris, 2.1ms\n",
                        "1: 256x256 3 debriss, 2.1ms\n",
                        "2: 256x256 (no detections), 2.1ms\n",
                        "3: 256x256 (no detections), 2.1ms\n",
                        "4: 256x256 1 debris, 2.1ms\n",
                        "5: 256x256 (no detections), 2.1ms\n",
                        "6: 256x256 (no detections), 2.1ms\n",
                        "7: 256x256 (no detections), 2.1ms\n",
                        "8: 256x256 1 debris, 2.1ms\n",
                        "9: 256x256 1 debris, 2.1ms\n",
                        "10: 256x256 1 debris, 2.1ms\n",
                        "11: 256x256 (no detections), 2.1ms\n",
                        "12: 256x256 3 debriss, 2.1ms\n",
                        "13: 256x256 2 debriss, 2.1ms\n",
                        "14: 256x256 1 debris, 2.1ms\n",
                        "15: 256x256 2 debriss, 2.1ms\n",
                        "16: 256x256 1 debris, 2.1ms\n",
                        "17: 256x256 (no detections), 2.1ms\n",
                        "18: 256x256 (no detections), 2.1ms\n",
                        "19: 256x256 2 debriss, 2.1ms\n",
                        "20: 256x256 2 debriss, 2.1ms\n",
                        "21: 256x256 2 debriss, 2.1ms\n",
                        "22: 256x256 1 debris, 2.1ms\n",
                        "23: 256x256 1 debris, 2.1ms\n",
                        "24: 256x256 1 debris, 2.1ms\n",
                        "25: 256x256 (no detections), 2.1ms\n",
                        "26: 256x256 3 debriss, 2.1ms\n",
                        "27: 256x256 (no detections), 2.1ms\n",
                        "28: 256x256 1 debris, 2.1ms\n",
                        "29: 256x256 (no detections), 2.1ms\n",
                        "30: 256x256 3 debriss, 2.1ms\n",
                        "31: 256x256 5 debriss, 2.1ms\n",
                        "32: 256x256 5 debriss, 2.1ms\n",
                        "33: 256x256 3 debriss, 2.1ms\n",
                        "34: 256x256 1 debris, 2.1ms\n",
                        "35: 256x256 1 debris, 2.1ms\n",
                        "36: 256x256 1 debris, 2.1ms\n",
                        "37: 256x256 1 debris, 2.1ms\n",
                        "38: 256x256 1 debris, 2.1ms\n",
                        "39: 256x256 3 debriss, 2.1ms\n",
                        "40: 256x256 1 debris, 2.1ms\n",
                        "41: 256x256 2 debriss, 2.1ms\n",
                        "42: 256x256 3 debriss, 2.1ms\n",
                        "43: 256x256 (no detections), 2.1ms\n",
                        "44: 256x256 (no detections), 2.1ms\n",
                        "45: 256x256 1 debris, 2.1ms\n",
                        "46: 256x256 2 debriss, 2.1ms\n",
                        "47: 256x256 (no detections), 2.1ms\n",
                        "48: 256x256 1 debris, 2.1ms\n",
                        "49: 256x256 1 debris, 2.1ms\n",
                        "50: 256x256 (no detections), 2.1ms\n",
                        "51: 256x256 1 debris, 2.1ms\n",
                        "52: 256x256 (no detections), 2.1ms\n",
                        "53: 256x256 (no detections), 2.1ms\n",
                        "54: 256x256 (no detections), 2.1ms\n",
                        "55: 256x256 2 debriss, 2.1ms\n",
                        "56: 256x256 1 debris, 2.1ms\n",
                        "57: 256x256 2 debriss, 2.1ms\n",
                        "58: 256x256 2 debriss, 2.1ms\n",
                        "59: 256x256 2 debriss, 2.1ms\n",
                        "60: 256x256 1 debris, 2.1ms\n",
                        "61: 256x256 1 debris, 2.1ms\n",
                        "62: 256x256 1 debris, 2.1ms\n",
                        "63: 256x256 6 debriss, 2.1ms\n",
                        "64: 256x256 5 debriss, 2.1ms\n",
                        "65: 256x256 3 debriss, 2.1ms\n",
                        "66: 256x256 4 debriss, 2.1ms\n",
                        "67: 256x256 3 debriss, 2.1ms\n",
                        "68: 256x256 1 debris, 2.1ms\n",
                        "69: 256x256 4 debriss, 2.1ms\n",
                        "70: 256x256 3 debriss, 2.1ms\n",
                        "71: 256x256 2 debriss, 2.1ms\n",
                        "72: 256x256 1 debris, 2.1ms\n",
                        "73: 256x256 3 debriss, 2.1ms\n",
                        "74: 256x256 3 debriss, 2.1ms\n",
                        "75: 256x256 1 debris, 2.1ms\n",
                        "76: 256x256 (no detections), 2.1ms\n",
                        "77: 256x256 1 debris, 2.1ms\n",
                        "78: 256x256 (no detections), 2.1ms\n",
                        "79: 256x256 2 debriss, 2.1ms\n",
                        "80: 256x256 1 debris, 2.1ms\n",
                        "81: 256x256 3 debriss, 2.1ms\n",
                        "82: 256x256 (no detections), 2.1ms\n",
                        "83: 256x256 4 debriss, 2.1ms\n",
                        "84: 256x256 6 debriss, 2.1ms\n",
                        "85: 256x256 3 debriss, 2.1ms\n",
                        "86: 256x256 1 debris, 2.1ms\n",
                        "87: 256x256 2 debriss, 2.1ms\n",
                        "88: 256x256 (no detections), 2.1ms\n",
                        "89: 256x256 2 debriss, 2.1ms\n",
                        "90: 256x256 1 debris, 2.1ms\n",
                        "91: 256x256 2 debriss, 2.1ms\n",
                        "92: 256x256 2 debriss, 2.1ms\n",
                        "93: 256x256 2 debriss, 2.1ms\n",
                        "94: 256x256 1 debris, 2.1ms\n",
                        "95: 256x256 2 debriss, 2.1ms\n",
                        "Speed: 0.8ms preprocess, 2.1ms inference, 0.8ms postprocess per image at shape (1, 3, 256, 256)\n",
                        "Results saved to \u001b[1mruns\\detect\\val_v11s2\u001b[0m\n",
                        "74 labels saved to runs\\detect\\val_v11s2\\labels\n"
                    ]
                }
            ],
            "source": [
                "import os\n",
                "from glob import glob\n",
                "from ultralytics import YOLO\n",
                "\n",
                "images = list(sorted(glob(\"datasets/Planet/dataset_splits_aug/val/images/*.jpg\")))\n",
                "\n",
                "# Load a model\n",
                "model = YOLO(\"runs/train/train3/weights/best.pt\")  # pretrained YOLO11 model\n",
                "\n",
                "# Run batched inference on a list of images\n",
                "results = model(\n",
                "    images,\n",
                "    iou=0.5,\n",
                "    imgsz=256,\n",
                "    device='cuda',\n",
                "    project=\"runs/detect\",\n",
                "    name=\"val_v11s\",\n",
                "    save=True,\n",
                "    save_txt=True,\n",
                "    show_labels=True,\n",
                "    show_conf=True,\n",
                "    save_conf=True\n",
                ")  # return a list of Results objects\n"
            ]
        },
        {
            "cell_type": "markdown",
            "metadata": {},
            "source": [
                "#### BBox post processing (box merging)"
            ]
        },
        {
            "cell_type": "code",
            "execution_count": null,
            "metadata": {},
            "outputs": [
                {
                    "name": "stdout",
                    "output_type": "stream",
                    "text": [
                        "\n",
                        "0: 256x256 2 debriss, 0.6ms\n",
                        "1: 256x256 1 debris, 0.6ms\n",
                        "2: 256x256 1 debris, 0.6ms\n",
                        "3: 256x256 1 debris, 0.6ms\n",
                        "4: 256x256 1 debris, 0.6ms\n",
                        "5: 256x256 2 debriss, 0.6ms\n",
                        "6: 256x256 4 debriss, 0.6ms\n",
                        "7: 256x256 3 debriss, 0.6ms\n",
                        "8: 256x256 4 debriss, 0.6ms\n",
                        "9: 256x256 3 debriss, 0.6ms\n",
                        "10: 256x256 3 debriss, 0.6ms\n",
                        "11: 256x256 3 debriss, 0.6ms\n",
                        "12: 256x256 1 debris, 0.6ms\n",
                        "13: 256x256 (no detections), 0.6ms\n",
                        "14: 256x256 (no detections), 0.6ms\n",
                        "15: 256x256 (no detections), 0.6ms\n",
                        "16: 256x256 1 debris, 0.6ms\n",
                        "17: 256x256 (no detections), 0.6ms\n",
                        "18: 256x256 1 debris, 0.6ms\n",
                        "19: 256x256 1 debris, 0.6ms\n",
                        "20: 256x256 1 debris, 0.6ms\n",
                        "21: 256x256 1 debris, 0.6ms\n",
                        "22: 256x256 1 debris, 0.6ms\n",
                        "23: 256x256 1 debris, 0.6ms\n",
                        "24: 256x256 1 debris, 0.6ms\n",
                        "25: 256x256 1 debris, 0.6ms\n",
                        "26: 256x256 1 debris, 0.6ms\n",
                        "27: 256x256 1 debris, 0.6ms\n",
                        "28: 256x256 1 debris, 0.6ms\n",
                        "29: 256x256 1 debris, 0.6ms\n",
                        "30: 256x256 (no detections), 0.6ms\n",
                        "31: 256x256 (no detections), 0.6ms\n",
                        "32: 256x256 (no detections), 0.6ms\n",
                        "33: 256x256 (no detections), 0.6ms\n",
                        "34: 256x256 (no detections), 0.6ms\n",
                        "35: 256x256 (no detections), 0.6ms\n",
                        "36: 256x256 1 debris, 0.6ms\n",
                        "37: 256x256 1 debris, 0.6ms\n",
                        "38: 256x256 (no detections), 0.6ms\n",
                        "39: 256x256 1 debris, 0.6ms\n",
                        "40: 256x256 (no detections), 0.6ms\n",
                        "41: 256x256 1 debris, 0.6ms\n",
                        "42: 256x256 2 debriss, 0.6ms\n",
                        "43: 256x256 2 debriss, 0.6ms\n",
                        "44: 256x256 2 debriss, 0.6ms\n",
                        "45: 256x256 1 debris, 0.6ms\n",
                        "46: 256x256 2 debriss, 0.6ms\n",
                        "47: 256x256 3 debriss, 0.6ms\n",
                        "48: 256x256 2 debriss, 0.6ms\n",
                        "49: 256x256 2 debriss, 0.6ms\n",
                        "50: 256x256 1 debris, 0.6ms\n",
                        "51: 256x256 2 debriss, 0.6ms\n",
                        "52: 256x256 2 debriss, 0.6ms\n",
                        "53: 256x256 2 debriss, 0.6ms\n",
                        "54: 256x256 3 debriss, 0.6ms\n",
                        "55: 256x256 1 debris, 0.6ms\n",
                        "56: 256x256 4 debriss, 0.6ms\n",
                        "57: 256x256 3 debriss, 0.6ms\n",
                        "58: 256x256 4 debriss, 0.6ms\n",
                        "59: 256x256 3 debriss, 0.6ms\n",
                        "60: 256x256 3 debriss, 0.6ms\n",
                        "61: 256x256 3 debriss, 0.6ms\n",
                        "62: 256x256 3 debriss, 0.6ms\n",
                        "63: 256x256 5 debriss, 0.6ms\n",
                        "64: 256x256 3 debriss, 0.6ms\n",
                        "65: 256x256 3 debriss, 0.6ms\n",
                        "66: 256x256 2 debriss, 0.6ms\n",
                        "67: 256x256 2 debriss, 0.6ms\n",
                        "68: 256x256 2 debriss, 0.6ms\n",
                        "69: 256x256 2 debriss, 0.6ms\n",
                        "70: 256x256 2 debriss, 0.6ms\n",
                        "71: 256x256 2 debriss, 0.6ms\n",
                        "72: 256x256 5 debriss, 0.6ms\n",
                        "73: 256x256 4 debriss, 0.6ms\n",
                        "74: 256x256 4 debriss, 0.6ms\n",
                        "75: 256x256 4 debriss, 0.6ms\n",
                        "76: 256x256 5 debriss, 0.6ms\n",
                        "77: 256x256 4 debriss, 0.6ms\n",
                        "78: 256x256 3 debriss, 0.6ms\n",
                        "79: 256x256 4 debriss, 0.6ms\n",
                        "80: 256x256 5 debriss, 0.6ms\n",
                        "81: 256x256 7 debriss, 0.6ms\n",
                        "82: 256x256 6 debriss, 0.6ms\n",
                        "83: 256x256 4 debriss, 0.6ms\n",
                        "84: 256x256 1 debris, 0.6ms\n",
                        "85: 256x256 1 debris, 0.6ms\n",
                        "86: 256x256 1 debris, 0.6ms\n",
                        "87: 256x256 1 debris, 0.6ms\n",
                        "88: 256x256 1 debris, 0.6ms\n",
                        "89: 256x256 1 debris, 0.6ms\n",
                        "90: 256x256 3 debriss, 0.6ms\n",
                        "91: 256x256 3 debriss, 0.6ms\n",
                        "92: 256x256 3 debriss, 0.6ms\n",
                        "93: 256x256 3 debriss, 0.6ms\n",
                        "94: 256x256 3 debriss, 0.6ms\n",
                        "95: 256x256 3 debriss, 0.6ms\n",
                        "96: 256x256 2 debriss, 0.6ms\n",
                        "97: 256x256 3 debriss, 0.6ms\n",
                        "98: 256x256 2 debriss, 0.6ms\n",
                        "99: 256x256 2 debriss, 0.6ms\n",
                        "100: 256x256 3 debriss, 0.6ms\n",
                        "101: 256x256 2 debriss, 0.6ms\n",
                        "102: 256x256 1 debris, 0.6ms\n",
                        "103: 256x256 1 debris, 0.6ms\n",
                        "104: 256x256 1 debris, 0.6ms\n",
                        "105: 256x256 1 debris, 0.6ms\n",
                        "106: 256x256 1 debris, 0.6ms\n",
                        "107: 256x256 1 debris, 0.6ms\n",
                        "108: 256x256 3 debriss, 0.6ms\n",
                        "109: 256x256 2 debriss, 0.6ms\n",
                        "110: 256x256 2 debriss, 0.6ms\n",
                        "111: 256x256 3 debriss, 0.6ms\n",
                        "112: 256x256 2 debriss, 0.6ms\n",
                        "113: 256x256 2 debriss, 0.6ms\n",
                        "114: 256x256 2 debriss, 0.6ms\n",
                        "115: 256x256 2 debriss, 0.6ms\n",
                        "116: 256x256 2 debriss, 0.6ms\n",
                        "117: 256x256 2 debriss, 0.6ms\n",
                        "118: 256x256 2 debriss, 0.6ms\n",
                        "119: 256x256 2 debriss, 0.6ms\n",
                        "120: 256x256 4 debriss, 0.6ms\n",
                        "121: 256x256 3 debriss, 0.6ms\n",
                        "122: 256x256 4 debriss, 0.6ms\n",
                        "123: 256x256 4 debriss, 0.6ms\n",
                        "124: 256x256 4 debriss, 0.6ms\n",
                        "125: 256x256 5 debriss, 0.6ms\n",
                        "126: 256x256 3 debriss, 0.6ms\n",
                        "127: 256x256 5 debriss, 0.6ms\n",
                        "128: 256x256 5 debriss, 0.6ms\n",
                        "129: 256x256 6 debriss, 0.6ms\n",
                        "130: 256x256 3 debriss, 0.6ms\n",
                        "131: 256x256 6 debriss, 0.6ms\n",
                        "132: 256x256 5 debriss, 0.6ms\n",
                        "133: 256x256 6 debriss, 0.6ms\n",
                        "134: 256x256 5 debriss, 0.6ms\n",
                        "135: 256x256 8 debriss, 0.6ms\n",
                        "136: 256x256 6 debriss, 0.6ms\n",
                        "137: 256x256 6 debriss, 0.6ms\n",
                        "138: 256x256 6 debriss, 0.6ms\n",
                        "139: 256x256 5 debriss, 0.6ms\n",
                        "140: 256x256 5 debriss, 0.6ms\n",
                        "141: 256x256 6 debriss, 0.6ms\n",
                        "142: 256x256 6 debriss, 0.6ms\n",
                        "143: 256x256 6 debriss, 0.6ms\n",
                        "144: 256x256 1 debris, 0.6ms\n",
                        "145: 256x256 1 debris, 0.6ms\n",
                        "146: 256x256 1 debris, 0.6ms\n",
                        "147: 256x256 1 debris, 0.6ms\n",
                        "148: 256x256 1 debris, 0.6ms\n",
                        "149: 256x256 1 debris, 0.6ms\n",
                        "150: 256x256 (no detections), 0.6ms\n",
                        "151: 256x256 1 debris, 0.6ms\n",
                        "152: 256x256 1 debris, 0.6ms\n",
                        "153: 256x256 (no detections), 0.6ms\n",
                        "154: 256x256 (no detections), 0.6ms\n",
                        "155: 256x256 (no detections), 0.6ms\n",
                        "156: 256x256 5 debriss, 0.6ms\n",
                        "157: 256x256 5 debriss, 0.6ms\n",
                        "158: 256x256 5 debriss, 0.6ms\n",
                        "159: 256x256 5 debriss, 0.6ms\n",
                        "160: 256x256 5 debriss, 0.6ms\n",
                        "161: 256x256 5 debriss, 0.6ms\n",
                        "162: 256x256 1 debris, 0.6ms\n",
                        "163: 256x256 1 debris, 0.6ms\n",
                        "164: 256x256 1 debris, 0.6ms\n",
                        "165: 256x256 1 debris, 0.6ms\n",
                        "166: 256x256 1 debris, 0.6ms\n",
                        "167: 256x256 1 debris, 0.6ms\n",
                        "168: 256x256 4 debriss, 0.6ms\n",
                        "169: 256x256 3 debriss, 0.6ms\n",
                        "170: 256x256 2 debriss, 0.6ms\n",
                        "171: 256x256 4 debriss, 0.6ms\n",
                        "172: 256x256 4 debriss, 0.6ms\n",
                        "173: 256x256 2 debriss, 0.6ms\n",
                        "174: 256x256 2 debriss, 0.6ms\n",
                        "175: 256x256 2 debriss, 0.6ms\n",
                        "176: 256x256 1 debris, 0.6ms\n",
                        "177: 256x256 2 debriss, 0.6ms\n",
                        "178: 256x256 2 debriss, 0.6ms\n",
                        "179: 256x256 2 debriss, 0.6ms\n",
                        "180: 256x256 4 debriss, 0.6ms\n",
                        "181: 256x256 4 debriss, 0.6ms\n",
                        "182: 256x256 5 debriss, 0.6ms\n",
                        "183: 256x256 3 debriss, 0.6ms\n",
                        "184: 256x256 4 debriss, 0.6ms\n",
                        "185: 256x256 4 debriss, 0.6ms\n",
                        "186: 256x256 8 debriss, 0.6ms\n",
                        "187: 256x256 6 debriss, 0.6ms\n",
                        "188: 256x256 8 debriss, 0.6ms\n",
                        "189: 256x256 7 debriss, 0.6ms\n",
                        "190: 256x256 7 debriss, 0.6ms\n",
                        "191: 256x256 7 debriss, 0.6ms\n",
                        "192: 256x256 5 debriss, 0.6ms\n",
                        "193: 256x256 5 debriss, 0.6ms\n",
                        "194: 256x256 5 debriss, 0.6ms\n",
                        "195: 256x256 5 debriss, 0.6ms\n",
                        "196: 256x256 5 debriss, 0.6ms\n",
                        "197: 256x256 5 debriss, 0.6ms\n",
                        "198: 256x256 4 debriss, 0.6ms\n",
                        "199: 256x256 4 debriss, 0.6ms\n",
                        "200: 256x256 6 debriss, 0.6ms\n",
                        "201: 256x256 5 debriss, 0.6ms\n",
                        "202: 256x256 6 debriss, 0.6ms\n",
                        "203: 256x256 5 debriss, 0.6ms\n",
                        "204: 256x256 3 debriss, 0.6ms\n",
                        "205: 256x256 3 debriss, 0.6ms\n",
                        "206: 256x256 3 debriss, 0.6ms\n",
                        "207: 256x256 3 debriss, 0.6ms\n",
                        "208: 256x256 4 debriss, 0.6ms\n",
                        "209: 256x256 4 debriss, 0.6ms\n",
                        "210: 256x256 3 debriss, 0.6ms\n",
                        "211: 256x256 2 debriss, 0.6ms\n",
                        "212: 256x256 2 debriss, 0.6ms\n",
                        "213: 256x256 3 debriss, 0.6ms\n",
                        "214: 256x256 2 debriss, 0.6ms\n",
                        "215: 256x256 2 debriss, 0.6ms\n",
                        "216: 256x256 1 debris, 0.6ms\n",
                        "217: 256x256 1 debris, 0.6ms\n",
                        "218: 256x256 1 debris, 0.6ms\n",
                        "219: 256x256 1 debris, 0.6ms\n",
                        "220: 256x256 1 debris, 0.6ms\n",
                        "221: 256x256 1 debris, 0.6ms\n",
                        "222: 256x256 2 debriss, 0.6ms\n",
                        "223: 256x256 1 debris, 0.6ms\n",
                        "224: 256x256 1 debris, 0.6ms\n",
                        "225: 256x256 2 debriss, 0.6ms\n",
                        "226: 256x256 1 debris, 0.6ms\n",
                        "227: 256x256 2 debriss, 0.6ms\n",
                        "228: 256x256 3 debriss, 0.6ms\n",
                        "229: 256x256 2 debriss, 0.6ms\n",
                        "230: 256x256 2 debriss, 0.6ms\n",
                        "231: 256x256 3 debriss, 0.6ms\n",
                        "232: 256x256 2 debriss, 0.6ms\n",
                        "233: 256x256 2 debriss, 0.6ms\n",
                        "234: 256x256 3 debriss, 0.6ms\n",
                        "235: 256x256 3 debriss, 0.6ms\n",
                        "236: 256x256 3 debriss, 0.6ms\n",
                        "237: 256x256 3 debriss, 0.6ms\n",
                        "238: 256x256 4 debriss, 0.6ms\n",
                        "239: 256x256 3 debriss, 0.6ms\n",
                        "240: 256x256 3 debriss, 0.6ms\n",
                        "241: 256x256 3 debriss, 0.6ms\n",
                        "242: 256x256 3 debriss, 0.6ms\n",
                        "243: 256x256 3 debriss, 0.6ms\n",
                        "244: 256x256 3 debriss, 0.6ms\n",
                        "245: 256x256 3 debriss, 0.6ms\n",
                        "246: 256x256 2 debriss, 0.6ms\n",
                        "247: 256x256 2 debriss, 0.6ms\n",
                        "248: 256x256 2 debriss, 0.6ms\n",
                        "249: 256x256 2 debriss, 0.6ms\n",
                        "250: 256x256 2 debriss, 0.6ms\n",
                        "251: 256x256 2 debriss, 0.6ms\n",
                        "252: 256x256 4 debriss, 0.6ms\n",
                        "253: 256x256 4 debriss, 0.6ms\n",
                        "254: 256x256 4 debriss, 0.6ms\n",
                        "255: 256x256 5 debriss, 0.6ms\n",
                        "256: 256x256 5 debriss, 0.6ms\n",
                        "257: 256x256 4 debriss, 0.6ms\n",
                        "258: 256x256 1 debris, 0.6ms\n",
                        "259: 256x256 2 debriss, 0.6ms\n",
                        "260: 256x256 2 debriss, 0.6ms\n",
                        "261: 256x256 1 debris, 0.6ms\n",
                        "262: 256x256 1 debris, 0.6ms\n",
                        "263: 256x256 1 debris, 0.6ms\n",
                        "264: 256x256 (no detections), 0.6ms\n",
                        "265: 256x256 1 debris, 0.6ms\n",
                        "266: 256x256 1 debris, 0.6ms\n",
                        "267: 256x256 1 debris, 0.6ms\n",
                        "268: 256x256 (no detections), 0.6ms\n",
                        "269: 256x256 1 debris, 0.6ms\n",
                        "270: 256x256 1 debris, 0.6ms\n",
                        "271: 256x256 2 debriss, 0.6ms\n",
                        "272: 256x256 1 debris, 0.6ms\n",
                        "273: 256x256 1 debris, 0.6ms\n",
                        "274: 256x256 1 debris, 0.6ms\n",
                        "275: 256x256 2 debriss, 0.6ms\n",
                        "276: 256x256 2 debriss, 0.6ms\n",
                        "277: 256x256 2 debriss, 0.6ms\n",
                        "278: 256x256 2 debriss, 0.6ms\n",
                        "279: 256x256 2 debriss, 0.6ms\n",
                        "280: 256x256 2 debriss, 0.6ms\n",
                        "281: 256x256 2 debriss, 0.6ms\n",
                        "282: 256x256 (no detections), 0.6ms\n",
                        "283: 256x256 (no detections), 0.6ms\n",
                        "284: 256x256 (no detections), 0.6ms\n",
                        "285: 256x256 1 debris, 0.6ms\n",
                        "286: 256x256 (no detections), 0.6ms\n",
                        "287: 256x256 (no detections), 0.6ms\n",
                        "288: 256x256 1 debris, 0.6ms\n",
                        "289: 256x256 2 debriss, 0.6ms\n",
                        "290: 256x256 1 debris, 0.6ms\n",
                        "291: 256x256 3 debriss, 0.6ms\n",
                        "292: 256x256 2 debriss, 0.6ms\n",
                        "293: 256x256 (no detections), 0.6ms\n",
                        "294: 256x256 2 debriss, 0.6ms\n",
                        "295: 256x256 2 debriss, 0.6ms\n",
                        "296: 256x256 2 debriss, 0.6ms\n",
                        "297: 256x256 2 debriss, 0.6ms\n",
                        "298: 256x256 2 debriss, 0.6ms\n",
                        "299: 256x256 3 debriss, 0.6ms\n",
                        "300: 256x256 (no detections), 0.6ms\n",
                        "301: 256x256 1 debris, 0.6ms\n",
                        "302: 256x256 1 debris, 0.6ms\n",
                        "303: 256x256 1 debris, 0.6ms\n",
                        "304: 256x256 (no detections), 0.6ms\n",
                        "305: 256x256 1 debris, 0.6ms\n",
                        "306: 256x256 2 debriss, 0.6ms\n",
                        "307: 256x256 4 debriss, 0.6ms\n",
                        "308: 256x256 5 debriss, 0.6ms\n",
                        "309: 256x256 4 debriss, 0.6ms\n",
                        "310: 256x256 2 debriss, 0.6ms\n",
                        "311: 256x256 1 debris, 0.6ms\n",
                        "312: 256x256 1 debris, 0.6ms\n",
                        "313: 256x256 (no detections), 0.6ms\n",
                        "314: 256x256 (no detections), 0.6ms\n",
                        "315: 256x256 1 debris, 0.6ms\n",
                        "316: 256x256 (no detections), 0.6ms\n",
                        "317: 256x256 (no detections), 0.6ms\n",
                        "318: 256x256 1 debris, 0.6ms\n",
                        "319: 256x256 1 debris, 0.6ms\n",
                        "320: 256x256 2 debriss, 0.6ms\n",
                        "321: 256x256 1 debris, 0.6ms\n",
                        "322: 256x256 1 debris, 0.6ms\n",
                        "323: 256x256 1 debris, 0.6ms\n",
                        "324: 256x256 2 debriss, 0.6ms\n",
                        "325: 256x256 1 debris, 0.6ms\n",
                        "326: 256x256 2 debriss, 0.6ms\n",
                        "327: 256x256 2 debriss, 0.6ms\n",
                        "328: 256x256 1 debris, 0.6ms\n",
                        "329: 256x256 4 debriss, 0.6ms\n",
                        "330: 256x256 1 debris, 0.6ms\n",
                        "331: 256x256 3 debriss, 0.6ms\n",
                        "332: 256x256 4 debriss, 0.6ms\n",
                        "333: 256x256 1 debris, 0.6ms\n",
                        "334: 256x256 4 debriss, 0.6ms\n",
                        "335: 256x256 2 debriss, 0.6ms\n",
                        "336: 256x256 1 debris, 0.6ms\n",
                        "337: 256x256 2 debriss, 0.6ms\n",
                        "338: 256x256 1 debris, 0.6ms\n",
                        "339: 256x256 2 debriss, 0.6ms\n",
                        "340: 256x256 3 debriss, 0.6ms\n",
                        "341: 256x256 3 debriss, 0.6ms\n",
                        "342: 256x256 3 debriss, 0.6ms\n",
                        "343: 256x256 3 debriss, 0.6ms\n",
                        "344: 256x256 2 debriss, 0.6ms\n",
                        "345: 256x256 2 debriss, 0.6ms\n",
                        "346: 256x256 3 debriss, 0.6ms\n",
                        "347: 256x256 3 debriss, 0.6ms\n",
                        "348: 256x256 3 debriss, 0.6ms\n",
                        "349: 256x256 3 debriss, 0.6ms\n",
                        "350: 256x256 3 debriss, 0.6ms\n",
                        "351: 256x256 3 debriss, 0.6ms\n",
                        "352: 256x256 2 debriss, 0.6ms\n",
                        "353: 256x256 3 debriss, 0.6ms\n",
                        "354: 256x256 2 debriss, 0.6ms\n",
                        "355: 256x256 2 debriss, 0.6ms\n",
                        "356: 256x256 2 debriss, 0.6ms\n",
                        "357: 256x256 2 debriss, 0.6ms\n",
                        "358: 256x256 1 debris, 0.6ms\n",
                        "359: 256x256 1 debris, 0.6ms\n",
                        "360: 256x256 1 debris, 0.6ms\n",
                        "361: 256x256 1 debris, 0.6ms\n",
                        "362: 256x256 1 debris, 0.6ms\n",
                        "363: 256x256 1 debris, 0.6ms\n",
                        "364: 256x256 1 debris, 0.6ms\n",
                        "365: 256x256 3 debriss, 0.6ms\n",
                        "366: 256x256 3 debriss, 0.6ms\n",
                        "367: 256x256 2 debriss, 0.6ms\n",
                        "368: 256x256 1 debris, 0.6ms\n",
                        "369: 256x256 3 debriss, 0.6ms\n",
                        "370: 256x256 6 debriss, 0.6ms\n",
                        "371: 256x256 4 debriss, 0.6ms\n",
                        "372: 256x256 6 debriss, 0.6ms\n",
                        "373: 256x256 6 debriss, 0.6ms\n",
                        "374: 256x256 6 debriss, 0.6ms\n",
                        "375: 256x256 4 debriss, 0.6ms\n",
                        "376: 256x256 8 debriss, 0.6ms\n",
                        "377: 256x256 6 debriss, 0.6ms\n",
                        "378: 256x256 8 debriss, 0.6ms\n",
                        "379: 256x256 8 debriss, 0.6ms\n",
                        "380: 256x256 8 debriss, 0.6ms\n",
                        "381: 256x256 7 debriss, 0.6ms\n",
                        "382: 256x256 11 debriss, 0.6ms\n",
                        "383: 256x256 11 debriss, 0.6ms\n",
                        "384: 256x256 10 debriss, 0.6ms\n",
                        "385: 256x256 10 debriss, 0.6ms\n",
                        "386: 256x256 9 debriss, 0.6ms\n",
                        "387: 256x256 12 debriss, 0.6ms\n",
                        "388: 256x256 6 debriss, 0.6ms\n",
                        "389: 256x256 6 debriss, 0.6ms\n",
                        "390: 256x256 6 debriss, 0.6ms\n",
                        "391: 256x256 7 debriss, 0.6ms\n",
                        "392: 256x256 6 debriss, 0.6ms\n",
                        "393: 256x256 6 debriss, 0.6ms\n",
                        "394: 256x256 9 debriss, 0.6ms\n",
                        "395: 256x256 8 debriss, 0.6ms\n",
                        "396: 256x256 8 debriss, 0.6ms\n",
                        "397: 256x256 8 debriss, 0.6ms\n",
                        "398: 256x256 8 debriss, 0.6ms\n",
                        "399: 256x256 8 debriss, 0.6ms\n",
                        "400: 256x256 7 debriss, 0.6ms\n",
                        "401: 256x256 6 debriss, 0.6ms\n",
                        "402: 256x256 7 debriss, 0.6ms\n",
                        "403: 256x256 7 debriss, 0.6ms\n",
                        "404: 256x256 8 debriss, 0.6ms\n",
                        "405: 256x256 7 debriss, 0.6ms\n",
                        "406: 256x256 1 debris, 0.6ms\n",
                        "407: 256x256 1 debris, 0.6ms\n",
                        "408: 256x256 1 debris, 0.6ms\n",
                        "409: 256x256 1 debris, 0.6ms\n",
                        "410: 256x256 1 debris, 0.6ms\n",
                        "411: 256x256 1 debris, 0.6ms\n",
                        "412: 256x256 10 debriss, 0.6ms\n",
                        "413: 256x256 11 debriss, 0.6ms\n",
                        "414: 256x256 9 debriss, 0.6ms\n",
                        "415: 256x256 9 debriss, 0.6ms\n",
                        "416: 256x256 9 debriss, 0.6ms\n",
                        "417: 256x256 10 debriss, 0.6ms\n",
                        "418: 256x256 6 debriss, 0.6ms\n",
                        "419: 256x256 7 debriss, 0.6ms\n",
                        "420: 256x256 7 debriss, 0.6ms\n",
                        "421: 256x256 9 debriss, 0.6ms\n",
                        "422: 256x256 8 debriss, 0.6ms\n",
                        "423: 256x256 7 debriss, 0.6ms\n",
                        "424: 256x256 5 debriss, 0.6ms\n",
                        "425: 256x256 5 debriss, 0.6ms\n",
                        "426: 256x256 5 debriss, 0.6ms\n",
                        "427: 256x256 6 debriss, 0.6ms\n",
                        "428: 256x256 6 debriss, 0.6ms\n",
                        "429: 256x256 5 debriss, 0.6ms\n",
                        "430: 256x256 6 debriss, 0.6ms\n",
                        "431: 256x256 5 debriss, 0.6ms\n",
                        "432: 256x256 4 debriss, 0.6ms\n",
                        "433: 256x256 4 debriss, 0.6ms\n",
                        "434: 256x256 5 debriss, 0.6ms\n",
                        "435: 256x256 6 debriss, 0.6ms\n",
                        "436: 256x256 4 debriss, 0.6ms\n",
                        "437: 256x256 3 debriss, 0.6ms\n",
                        "438: 256x256 3 debriss, 0.6ms\n",
                        "439: 256x256 4 debriss, 0.6ms\n",
                        "440: 256x256 4 debriss, 0.6ms\n",
                        "441: 256x256 4 debriss, 0.6ms\n",
                        "442: 256x256 4 debriss, 0.6ms\n",
                        "443: 256x256 4 debriss, 0.6ms\n",
                        "444: 256x256 3 debriss, 0.6ms\n",
                        "445: 256x256 4 debriss, 0.6ms\n",
                        "446: 256x256 4 debriss, 0.6ms\n",
                        "447: 256x256 4 debriss, 0.6ms\n",
                        "448: 256x256 3 debriss, 0.6ms\n",
                        "449: 256x256 3 debriss, 0.6ms\n",
                        "450: 256x256 3 debriss, 0.6ms\n",
                        "451: 256x256 3 debriss, 0.6ms\n",
                        "452: 256x256 3 debriss, 0.6ms\n",
                        "453: 256x256 3 debriss, 0.6ms\n",
                        "454: 256x256 (no detections), 0.6ms\n",
                        "455: 256x256 1 debris, 0.6ms\n",
                        "456: 256x256 (no detections), 0.6ms\n",
                        "457: 256x256 1 debris, 0.6ms\n",
                        "458: 256x256 1 debris, 0.6ms\n",
                        "459: 256x256 1 debris, 0.6ms\n",
                        "460: 256x256 2 debriss, 0.6ms\n",
                        "461: 256x256 2 debriss, 0.6ms\n",
                        "462: 256x256 2 debriss, 0.6ms\n",
                        "463: 256x256 1 debris, 0.6ms\n",
                        "464: 256x256 2 debriss, 0.6ms\n",
                        "465: 256x256 2 debriss, 0.6ms\n",
                        "466: 256x256 1 debris, 0.6ms\n",
                        "467: 256x256 2 debriss, 0.6ms\n",
                        "468: 256x256 1 debris, 0.6ms\n",
                        "469: 256x256 1 debris, 0.6ms\n",
                        "470: 256x256 1 debris, 0.6ms\n",
                        "471: 256x256 1 debris, 0.6ms\n",
                        "472: 256x256 3 debriss, 0.6ms\n",
                        "473: 256x256 2 debriss, 0.6ms\n",
                        "474: 256x256 2 debriss, 0.6ms\n",
                        "475: 256x256 3 debriss, 0.6ms\n",
                        "476: 256x256 2 debriss, 0.6ms\n",
                        "477: 256x256 3 debriss, 0.6ms\n",
                        "478: 256x256 1 debris, 0.6ms\n",
                        "479: 256x256 1 debris, 0.6ms\n",
                        "480: 256x256 1 debris, 0.6ms\n",
                        "481: 256x256 1 debris, 0.6ms\n",
                        "482: 256x256 1 debris, 0.6ms\n",
                        "483: 256x256 1 debris, 0.6ms\n",
                        "484: 256x256 5 debriss, 0.6ms\n",
                        "485: 256x256 4 debriss, 0.6ms\n",
                        "486: 256x256 4 debriss, 0.6ms\n",
                        "487: 256x256 5 debriss, 0.6ms\n",
                        "488: 256x256 4 debriss, 0.6ms\n",
                        "489: 256x256 4 debriss, 0.6ms\n",
                        "490: 256x256 3 debriss, 0.6ms\n",
                        "491: 256x256 2 debriss, 0.6ms\n",
                        "492: 256x256 2 debriss, 0.6ms\n",
                        "493: 256x256 2 debriss, 0.6ms\n",
                        "494: 256x256 2 debriss, 0.6ms\n",
                        "495: 256x256 2 debriss, 0.6ms\n",
                        "496: 256x256 7 debriss, 0.6ms\n",
                        "497: 256x256 8 debriss, 0.6ms\n",
                        "498: 256x256 6 debriss, 0.6ms\n",
                        "499: 256x256 7 debriss, 0.6ms\n",
                        "500: 256x256 7 debriss, 0.6ms\n",
                        "501: 256x256 6 debriss, 0.6ms\n",
                        "502: 256x256 9 debriss, 0.6ms\n",
                        "503: 256x256 9 debriss, 0.6ms\n",
                        "504: 256x256 8 debriss, 0.6ms\n",
                        "505: 256x256 9 debriss, 0.6ms\n",
                        "506: 256x256 9 debriss, 0.6ms\n",
                        "507: 256x256 9 debriss, 0.6ms\n",
                        "508: 256x256 3 debriss, 0.6ms\n",
                        "509: 256x256 4 debriss, 0.6ms\n",
                        "510: 256x256 5 debriss, 0.6ms\n",
                        "511: 256x256 5 debriss, 0.6ms\n",
                        "512: 256x256 3 debriss, 0.6ms\n",
                        "513: 256x256 5 debriss, 0.6ms\n",
                        "514: 256x256 4 debriss, 0.6ms\n",
                        "515: 256x256 4 debriss, 0.6ms\n",
                        "516: 256x256 5 debriss, 0.6ms\n",
                        "517: 256x256 4 debriss, 0.6ms\n",
                        "518: 256x256 4 debriss, 0.6ms\n",
                        "519: 256x256 4 debriss, 0.6ms\n",
                        "520: 256x256 3 debriss, 0.6ms\n",
                        "521: 256x256 4 debriss, 0.6ms\n",
                        "522: 256x256 3 debriss, 0.6ms\n",
                        "523: 256x256 3 debriss, 0.6ms\n",
                        "524: 256x256 5 debriss, 0.6ms\n",
                        "525: 256x256 3 debriss, 0.6ms\n",
                        "526: 256x256 1 debris, 0.6ms\n",
                        "527: 256x256 2 debriss, 0.6ms\n",
                        "528: 256x256 1 debris, 0.6ms\n",
                        "529: 256x256 3 debriss, 0.6ms\n",
                        "530: 256x256 1 debris, 0.6ms\n",
                        "531: 256x256 2 debriss, 0.6ms\n",
                        "532: 256x256 4 debriss, 0.6ms\n",
                        "533: 256x256 3 debriss, 0.6ms\n",
                        "534: 256x256 4 debriss, 0.6ms\n",
                        "535: 256x256 3 debriss, 0.6ms\n",
                        "536: 256x256 3 debriss, 0.6ms\n",
                        "537: 256x256 4 debriss, 0.6ms\n",
                        "538: 256x256 2 debriss, 0.6ms\n",
                        "539: 256x256 2 debriss, 0.6ms\n",
                        "540: 256x256 3 debriss, 0.6ms\n",
                        "541: 256x256 2 debriss, 0.6ms\n",
                        "542: 256x256 2 debriss, 0.6ms\n",
                        "543: 256x256 2 debriss, 0.6ms\n",
                        "544: 256x256 4 debriss, 0.6ms\n",
                        "545: 256x256 3 debriss, 0.6ms\n",
                        "546: 256x256 3 debriss, 0.6ms\n",
                        "547: 256x256 4 debriss, 0.6ms\n",
                        "548: 256x256 3 debriss, 0.6ms\n",
                        "549: 256x256 2 debriss, 0.6ms\n",
                        "550: 256x256 3 debriss, 0.6ms\n",
                        "551: 256x256 4 debriss, 0.6ms\n",
                        "552: 256x256 3 debriss, 0.6ms\n",
                        "553: 256x256 3 debriss, 0.6ms\n",
                        "554: 256x256 3 debriss, 0.6ms\n",
                        "555: 256x256 3 debriss, 0.6ms\n",
                        "556: 256x256 4 debriss, 0.6ms\n",
                        "557: 256x256 5 debriss, 0.6ms\n",
                        "558: 256x256 5 debriss, 0.6ms\n",
                        "559: 256x256 4 debriss, 0.6ms\n",
                        "560: 256x256 4 debriss, 0.6ms\n",
                        "561: 256x256 5 debriss, 0.6ms\n",
                        "562: 256x256 2 debriss, 0.6ms\n",
                        "563: 256x256 2 debriss, 0.6ms\n",
                        "564: 256x256 2 debriss, 0.6ms\n",
                        "565: 256x256 2 debriss, 0.6ms\n",
                        "566: 256x256 2 debriss, 0.6ms\n",
                        "567: 256x256 2 debriss, 0.6ms\n",
                        "568: 256x256 4 debriss, 0.6ms\n",
                        "569: 256x256 4 debriss, 0.6ms\n",
                        "570: 256x256 5 debriss, 0.6ms\n",
                        "571: 256x256 5 debriss, 0.6ms\n",
                        "572: 256x256 5 debriss, 0.6ms\n",
                        "573: 256x256 5 debriss, 0.6ms\n",
                        "Speed: 0.4ms preprocess, 0.6ms inference, 1.4ms postprocess per image at shape (1, 3, 256, 256)\n",
                        "Results saved to \u001b[1m..\\runs\\detect\\post_process_this\u001b[0m\n",
                        "542 labels saved to ..\\runs\\detect\\post_process_this\\labels\n"
                    ]
                }
            ],
            "source": [
                "import os\n",
                "from glob import glob\n",
                "from ultralytics import YOLO\n",
                "\n",
                "images = list(sorted(glob(\"datasets/Planet/dataset_splits_aug/val/images/*.jpg\")))\n",
                "\n",
                "# Load a model\n",
                "model = YOLO(\"runs/train/train3/weights/best.pt\")  # pretrained YOLO11 model\n",
                "project = \"runs/detect\"  # save results to project folder\n",
                "name = \"post_process_this\"\n",
                "\n",
                "# Run batched inference on a list of images\n",
                "results = model(\n",
                "    images,\n",
                "    iou=0.5,\n",
                "    imgsz=256,\n",
                "    device='cuda',\n",
                "    project=project,\n",
                "    name=name,\n",
                "    save=True,\n",
                "    save_txt=True,\n",
                "    show_labels=True,\n",
                "    show_conf=True,\n",
                "    save_conf=True\n",
                ")  # return a list of Results objects\n"
            ]
        },
        {
            "cell_type": "code",
            "execution_count": 7,
            "metadata": {},
            "outputs": [
                {
                    "name": "stderr",
                    "output_type": "stream",
                    "text": [
                        "  0%|          | 0/574 [00:00<?, ?it/s]"
                    ]
                },
                {
                    "name": "stdout",
                    "output_type": "stream",
                    "text": [
                        "\n",
                        "image 1/1 c:\\Users\\hifia\\Projects\\Marine_Debris\\datasets\\Planet\\dataset_splits_aug\\val\\images\\20160928_153233_0e16_16816-29825-16_jpg.rf.c6878d46d3fa246b66ec24e637a35b3d.jpg: 256x256 2 debriss, 12.1ms\n",
                        "Speed: 1.0ms preprocess, 12.1ms inference, 2.0ms postprocess per image at shape (1, 3, 256, 256)\n"
                    ]
                },
                {
                    "name": "stderr",
                    "output_type": "stream",
                    "text": [
                        "  0%|          | 1/574 [00:00<01:19,  7.20it/s]"
                    ]
                },
                {
                    "name": "stdout",
                    "output_type": "stream",
                    "text": [
                        "\n",
                        "image 1/1 c:\\Users\\hifia\\Projects\\Marine_Debris\\datasets\\Planet\\dataset_splits_aug\\val\\images\\20160928_153233_0e16_16816-29825-16_jpg_0.000000.jpg: 256x256 1 debris, 12.3ms\n",
                        "Speed: 1.0ms preprocess, 12.3ms inference, 2.0ms postprocess per image at shape (1, 3, 256, 256)\n",
                        "\n",
                        "image 1/1 c:\\Users\\hifia\\Projects\\Marine_Debris\\datasets\\Planet\\dataset_splits_aug\\val\\images\\20160928_153233_0e16_16816-29825-16_jpg_1.000000.jpg: 256x256 1 debris, 13.0ms\n",
                        "Speed: 0.0ms preprocess, 13.0ms inference, 1.0ms postprocess per image at shape (1, 3, 256, 256)\n",
                        "\n",
                        "image 1/1 c:\\Users\\hifia\\Projects\\Marine_Debris\\datasets\\Planet\\dataset_splits_aug\\val\\images\\20160928_153233_0e16_16816-29825-16_jpg_2.000000.jpg: 256x256 1 debris, 12.8ms\n",
                        "Speed: 0.0ms preprocess, 12.8ms inference, 2.0ms postprocess per image at shape (1, 3, 256, 256)\n",
                        "\n",
                        "image 1/1 c:\\Users\\hifia\\Projects\\Marine_Debris\\datasets\\Planet\\dataset_splits_aug\\val\\images\\20160928_153233_0e16_16816-29825-16_jpg_3.000000.jpg: 256x256 1 debris, 12.0ms\n",
                        "Speed: 1.0ms preprocess, 12.0ms inference, 2.0ms postprocess per image at shape (1, 3, 256, 256)\n",
                        "\n",
                        "image 1/1 c:\\Users\\hifia\\Projects\\Marine_Debris\\datasets\\Planet\\dataset_splits_aug\\val\\images\\20160928_153233_0e16_16816-29825-16_jpg_4.000000.jpg: 256x256 2 debriss, 17.0ms\n",
                        "Speed: 0.0ms preprocess, 17.0ms inference, 1.0ms postprocess per image at shape (1, 3, 256, 256)\n"
                    ]
                },
                {
                    "name": "stderr",
                    "output_type": "stream",
                    "text": [
                        "  1%|          | 6/574 [00:00<00:21, 25.92it/s]"
                    ]
                },
                {
                    "name": "stdout",
                    "output_type": "stream",
                    "text": [
                        "\n",
                        "image 1/1 c:\\Users\\hifia\\Projects\\Marine_Debris\\datasets\\Planet\\dataset_splits_aug\\val\\images\\20160928_153233_0e16_16816-29831-16_jpg.rf.902978581a96720ebdca82473c018c27.jpg: 256x256 5 debriss, 14.0ms\n",
                        "Speed: 1.0ms preprocess, 14.0ms inference, 2.0ms postprocess per image at shape (1, 3, 256, 256)\n",
                        "\n",
                        "image 1/1 c:\\Users\\hifia\\Projects\\Marine_Debris\\datasets\\Planet\\dataset_splits_aug\\val\\images\\20160928_153233_0e16_16816-29831-16_jpg_0.000000.jpg: 256x256 3 debriss, 24.2ms\n",
                        "Speed: 1.0ms preprocess, 24.2ms inference, 3.0ms postprocess per image at shape (1, 3, 256, 256)\n",
                        "\n",
                        "image 1/1 c:\\Users\\hifia\\Projects\\Marine_Debris\\datasets\\Planet\\dataset_splits_aug\\val\\images\\20160928_153233_0e16_16816-29831-16_jpg_1.000000.jpg: 256x256 5 debriss, 15.0ms\n",
                        "Speed: 0.0ms preprocess, 15.0ms inference, 1.0ms postprocess per image at shape (1, 3, 256, 256)\n",
                        "\n",
                        "image 1/1 c:\\Users\\hifia\\Projects\\Marine_Debris\\datasets\\Planet\\dataset_splits_aug\\val\\images\\20160928_153233_0e16_16816-29831-16_jpg_2.000000.jpg: 256x256 3 debriss, 13.1ms\n",
                        "Speed: 1.0ms preprocess, 13.1ms inference, 2.0ms postprocess per image at shape (1, 3, 256, 256)\n"
                    ]
                },
                {
                    "name": "stderr",
                    "output_type": "stream",
                    "text": [
                        "  2%|▏         | 10/574 [00:00<00:18, 30.35it/s]"
                    ]
                },
                {
                    "name": "stdout",
                    "output_type": "stream",
                    "text": [
                        "\n",
                        "image 1/1 c:\\Users\\hifia\\Projects\\Marine_Debris\\datasets\\Planet\\dataset_splits_aug\\val\\images\\20160928_153233_0e16_16816-29831-16_jpg_3.000000.jpg: 256x256 3 debriss, 11.0ms\n",
                        "Speed: 1.0ms preprocess, 11.0ms inference, 1.0ms postprocess per image at shape (1, 3, 256, 256)\n",
                        "\n",
                        "image 1/1 c:\\Users\\hifia\\Projects\\Marine_Debris\\datasets\\Planet\\dataset_splits_aug\\val\\images\\20160928_153233_0e16_16816-29831-16_jpg_4.000000.jpg: 256x256 3 debriss, 12.2ms\n",
                        "Speed: 0.0ms preprocess, 12.2ms inference, 1.0ms postprocess per image at shape (1, 3, 256, 256)\n",
                        "\n",
                        "image 1/1 c:\\Users\\hifia\\Projects\\Marine_Debris\\datasets\\Planet\\dataset_splits_aug\\val\\images\\20160928_153233_0e16_16817-29821-16_jpg.rf.f0003c16ad33f648338da7040899fcb5.jpg: 256x256 1 debris, 12.0ms\n",
                        "Speed: 1.0ms preprocess, 12.0ms inference, 1.0ms postprocess per image at shape (1, 3, 256, 256)\n",
                        "\n",
                        "image 1/1 c:\\Users\\hifia\\Projects\\Marine_Debris\\datasets\\Planet\\dataset_splits_aug\\val\\images\\20160928_153233_0e16_16817-29821-16_jpg_0.000000.jpg: 256x256 (no detections), 12.0ms\n",
                        "Speed: 1.0ms preprocess, 12.0ms inference, 1.0ms postprocess per image at shape (1, 3, 256, 256)\n",
                        "\n",
                        "image 1/1 c:\\Users\\hifia\\Projects\\Marine_Debris\\datasets\\Planet\\dataset_splits_aug\\val\\images\\20160928_153233_0e16_16817-29821-16_jpg_1.000000.jpg: 256x256 (no detections), 12.0ms\n",
                        "Speed: 0.0ms preprocess, 12.0ms inference, 1.0ms postprocess per image at shape (1, 3, 256, 256)\n"
                    ]
                },
                {
                    "name": "stderr",
                    "output_type": "stream",
                    "text": [
                        "  3%|▎         | 15/574 [00:00<00:15, 36.76it/s]"
                    ]
                },
                {
                    "name": "stdout",
                    "output_type": "stream",
                    "text": [
                        "\n",
                        "image 1/1 c:\\Users\\hifia\\Projects\\Marine_Debris\\datasets\\Planet\\dataset_splits_aug\\val\\images\\20160928_153233_0e16_16817-29821-16_jpg_2.000000.jpg: 256x256 (no detections), 12.0ms\n",
                        "Speed: 1.0ms preprocess, 12.0ms inference, 1.0ms postprocess per image at shape (1, 3, 256, 256)\n",
                        "\n",
                        "image 1/1 c:\\Users\\hifia\\Projects\\Marine_Debris\\datasets\\Planet\\dataset_splits_aug\\val\\images\\20160928_153233_0e16_16817-29821-16_jpg_3.000000.jpg: 256x256 1 debris, 17.3ms\n",
                        "Speed: 0.0ms preprocess, 17.3ms inference, 1.0ms postprocess per image at shape (1, 3, 256, 256)\n",
                        "\n",
                        "image 1/1 c:\\Users\\hifia\\Projects\\Marine_Debris\\datasets\\Planet\\dataset_splits_aug\\val\\images\\20160928_153233_0e16_16817-29821-16_jpg_4.000000.jpg: 256x256 (no detections), 12.0ms\n",
                        "Speed: 1.0ms preprocess, 12.0ms inference, 1.0ms postprocess per image at shape (1, 3, 256, 256)\n",
                        "\n",
                        "image 1/1 c:\\Users\\hifia\\Projects\\Marine_Debris\\datasets\\Planet\\dataset_splits_aug\\val\\images\\20160928_153233_0e16_16822-29830-16_jpg.rf.1f300bc1648a16ff6f8931c381e3d7d6.jpg: 256x256 1 debris, 10.2ms\n",
                        "Speed: 1.0ms preprocess, 10.2ms inference, 1.0ms postprocess per image at shape (1, 3, 256, 256)\n",
                        "\n",
                        "image 1/1 c:\\Users\\hifia\\Projects\\Marine_Debris\\datasets\\Planet\\dataset_splits_aug\\val\\images\\20160928_153233_0e16_16822-29830-16_jpg_0.000000.jpg: 256x256 1 debris, 13.0ms\n",
                        "Speed: 1.0ms preprocess, 13.0ms inference, 2.0ms postprocess per image at shape (1, 3, 256, 256)\n"
                    ]
                },
                {
                    "name": "stderr",
                    "output_type": "stream",
                    "text": [
                        "  3%|▎         | 20/574 [00:00<00:14, 39.31it/s]"
                    ]
                },
                {
                    "name": "stdout",
                    "output_type": "stream",
                    "text": [
                        "\n",
                        "image 1/1 c:\\Users\\hifia\\Projects\\Marine_Debris\\datasets\\Planet\\dataset_splits_aug\\val\\images\\20160928_153233_0e16_16822-29830-16_jpg_1.000000.jpg: 256x256 2 debriss, 11.5ms\n",
                        "Speed: 0.0ms preprocess, 11.5ms inference, 2.0ms postprocess per image at shape (1, 3, 256, 256)\n",
                        "\n",
                        "image 1/1 c:\\Users\\hifia\\Projects\\Marine_Debris\\datasets\\Planet\\dataset_splits_aug\\val\\images\\20160928_153233_0e16_16822-29830-16_jpg_2.000000.jpg: 256x256 2 debriss, 12.0ms\n",
                        "Speed: 1.0ms preprocess, 12.0ms inference, 2.0ms postprocess per image at shape (1, 3, 256, 256)\n",
                        "\n",
                        "image 1/1 c:\\Users\\hifia\\Projects\\Marine_Debris\\datasets\\Planet\\dataset_splits_aug\\val\\images\\20160928_153233_0e16_16822-29830-16_jpg_3.000000.jpg: 256x256 1 debris, 14.8ms\n",
                        "Speed: 1.0ms preprocess, 14.8ms inference, 2.0ms postprocess per image at shape (1, 3, 256, 256)\n",
                        "\n",
                        "image 1/1 c:\\Users\\hifia\\Projects\\Marine_Debris\\datasets\\Planet\\dataset_splits_aug\\val\\images\\20160928_153233_0e16_16822-29830-16_jpg_4.000000.jpg: 256x256 1 debris, 11.0ms\n",
                        "Speed: 1.0ms preprocess, 11.0ms inference, 2.0ms postprocess per image at shape (1, 3, 256, 256)\n",
                        "\n",
                        "image 1/1 c:\\Users\\hifia\\Projects\\Marine_Debris\\datasets\\Planet\\dataset_splits_aug\\val\\images\\20160928_153233_0e16_16831-29830-16_jpg.rf.5a1582c703c80e812b2f0338a3b6ec49.jpg: 256x256 1 debris, 11.1ms\n",
                        "Speed: 1.0ms preprocess, 11.1ms inference, 1.0ms postprocess per image at shape (1, 3, 256, 256)\n"
                    ]
                },
                {
                    "name": "stderr",
                    "output_type": "stream",
                    "text": [
                        "  4%|▍         | 25/574 [00:00<00:13, 40.40it/s]"
                    ]
                },
                {
                    "name": "stdout",
                    "output_type": "stream",
                    "text": [
                        "\n",
                        "image 1/1 c:\\Users\\hifia\\Projects\\Marine_Debris\\datasets\\Planet\\dataset_splits_aug\\val\\images\\20160928_153233_0e16_16831-29830-16_jpg_0.000000.jpg: 256x256 1 debris, 12.0ms\n",
                        "Speed: 0.0ms preprocess, 12.0ms inference, 4.2ms postprocess per image at shape (1, 3, 256, 256)\n",
                        "\n",
                        "image 1/1 c:\\Users\\hifia\\Projects\\Marine_Debris\\datasets\\Planet\\dataset_splits_aug\\val\\images\\20160928_153233_0e16_16831-29830-16_jpg_1.000000.jpg: 256x256 2 debriss, 12.0ms\n",
                        "Speed: 1.0ms preprocess, 12.0ms inference, 1.0ms postprocess per image at shape (1, 3, 256, 256)\n",
                        "\n",
                        "image 1/1 c:\\Users\\hifia\\Projects\\Marine_Debris\\datasets\\Planet\\dataset_splits_aug\\val\\images\\20160928_153233_0e16_16831-29830-16_jpg_2.000000.jpg: 256x256 1 debris, 12.0ms\n",
                        "Speed: 0.0ms preprocess, 12.0ms inference, 2.0ms postprocess per image at shape (1, 3, 256, 256)\n",
                        "\n",
                        "image 1/1 c:\\Users\\hifia\\Projects\\Marine_Debris\\datasets\\Planet\\dataset_splits_aug\\val\\images\\20160928_153233_0e16_16831-29830-16_jpg_3.000000.jpg: 256x256 2 debriss, 11.0ms\n",
                        "Speed: 1.0ms preprocess, 11.0ms inference, 1.0ms postprocess per image at shape (1, 3, 256, 256)\n",
                        "\n",
                        "image 1/1 c:\\Users\\hifia\\Projects\\Marine_Debris\\datasets\\Planet\\dataset_splits_aug\\val\\images\\20160928_153233_0e16_16831-29830-16_jpg_4.000000.jpg: 256x256 1 debris, 12.0ms\n",
                        "Speed: 0.0ms preprocess, 12.0ms inference, 2.0ms postprocess per image at shape (1, 3, 256, 256)\n"
                    ]
                },
                {
                    "name": "stderr",
                    "output_type": "stream",
                    "text": [
                        "  5%|▌         | 30/574 [00:00<00:13, 41.40it/s]"
                    ]
                },
                {
                    "name": "stdout",
                    "output_type": "stream",
                    "text": [
                        "\n",
                        "image 1/1 c:\\Users\\hifia\\Projects\\Marine_Debris\\datasets\\Planet\\dataset_splits_aug\\val\\images\\20161008_153104_0e3a_16817-29826-16_jpg.rf.e0e7575f6077bc8a0d46e5a8eb77cf61.jpg: 256x256 (no detections), 11.1ms\n",
                        "Speed: 1.0ms preprocess, 11.1ms inference, 0.0ms postprocess per image at shape (1, 3, 256, 256)\n",
                        "\n",
                        "image 1/1 c:\\Users\\hifia\\Projects\\Marine_Debris\\datasets\\Planet\\dataset_splits_aug\\val\\images\\20161008_153104_0e3a_16817-29826-16_jpg_0.000000.jpg: 256x256 (no detections), 14.0ms\n",
                        "Speed: 1.0ms preprocess, 14.0ms inference, 1.0ms postprocess per image at shape (1, 3, 256, 256)\n",
                        "\n",
                        "image 1/1 c:\\Users\\hifia\\Projects\\Marine_Debris\\datasets\\Planet\\dataset_splits_aug\\val\\images\\20161008_153104_0e3a_16817-29826-16_jpg_1.000000.jpg: 256x256 (no detections), 12.3ms\n",
                        "Speed: 0.0ms preprocess, 12.3ms inference, 0.0ms postprocess per image at shape (1, 3, 256, 256)\n",
                        "\n",
                        "image 1/1 c:\\Users\\hifia\\Projects\\Marine_Debris\\datasets\\Planet\\dataset_splits_aug\\val\\images\\20161008_153104_0e3a_16817-29826-16_jpg_2.000000.jpg: 256x256 (no detections), 11.5ms\n",
                        "Speed: 0.0ms preprocess, 11.5ms inference, 1.0ms postprocess per image at shape (1, 3, 256, 256)\n",
                        "\n",
                        "image 1/1 c:\\Users\\hifia\\Projects\\Marine_Debris\\datasets\\Planet\\dataset_splits_aug\\val\\images\\20161008_153104_0e3a_16817-29826-16_jpg_3.000000.jpg: 256x256 (no detections), 12.0ms\n",
                        "Speed: 1.0ms preprocess, 12.0ms inference, 0.0ms postprocess per image at shape (1, 3, 256, 256)\n",
                        "\n",
                        "image 1/1 c:\\Users\\hifia\\Projects\\Marine_Debris\\datasets\\Planet\\dataset_splits_aug\\val\\images\\20161008_153104_0e3a_16817-29826-16_jpg_4.000000.jpg: 256x256 (no detections), 12.0ms\n",
                        "Speed: 1.0ms preprocess, 12.0ms inference, 0.0ms postprocess per image at shape (1, 3, 256, 256)\n"
                    ]
                },
                {
                    "name": "stderr",
                    "output_type": "stream",
                    "text": [
                        "  6%|▋         | 36/574 [00:00<00:12, 44.33it/s]"
                    ]
                },
                {
                    "name": "stdout",
                    "output_type": "stream",
                    "text": [
                        "\n",
                        "image 1/1 c:\\Users\\hifia\\Projects\\Marine_Debris\\datasets\\Planet\\dataset_splits_aug\\val\\images\\20161008_153105_0e3a_16907-29805-16_jpg.rf.3202aceeacdfd0c201e5553936ff5666.jpg: 256x256 1 debris, 11.0ms\n",
                        "Speed: 0.0ms preprocess, 11.0ms inference, 1.0ms postprocess per image at shape (1, 3, 256, 256)\n",
                        "\n",
                        "image 1/1 c:\\Users\\hifia\\Projects\\Marine_Debris\\datasets\\Planet\\dataset_splits_aug\\val\\images\\20161008_153105_0e3a_16907-29805-16_jpg_0.000000.jpg: 256x256 1 debris, 20.0ms\n",
                        "Speed: 1.0ms preprocess, 20.0ms inference, 2.0ms postprocess per image at shape (1, 3, 256, 256)\n",
                        "\n",
                        "image 1/1 c:\\Users\\hifia\\Projects\\Marine_Debris\\datasets\\Planet\\dataset_splits_aug\\val\\images\\20161008_153105_0e3a_16907-29805-16_jpg_1.000000.jpg: 256x256 (no detections), 19.2ms\n",
                        "Speed: 0.0ms preprocess, 19.2ms inference, 1.0ms postprocess per image at shape (1, 3, 256, 256)\n",
                        "\n",
                        "image 1/1 c:\\Users\\hifia\\Projects\\Marine_Debris\\datasets\\Planet\\dataset_splits_aug\\val\\images\\20161008_153105_0e3a_16907-29805-16_jpg_2.000000.jpg: 256x256 1 debris, 12.0ms\n",
                        "Speed: 1.0ms preprocess, 12.0ms inference, 2.0ms postprocess per image at shape (1, 3, 256, 256)\n",
                        "\n",
                        "image 1/1 c:\\Users\\hifia\\Projects\\Marine_Debris\\datasets\\Planet\\dataset_splits_aug\\val\\images\\20161008_153105_0e3a_16907-29805-16_jpg_3.000000.jpg: 256x256 (no detections), 23.0ms\n",
                        "Speed: 0.0ms preprocess, 23.0ms inference, 0.0ms postprocess per image at shape (1, 3, 256, 256)\n"
                    ]
                },
                {
                    "name": "stderr",
                    "output_type": "stream",
                    "text": [
                        "  7%|▋         | 41/574 [00:01<00:13, 40.94it/s]"
                    ]
                },
                {
                    "name": "stdout",
                    "output_type": "stream",
                    "text": [
                        "\n",
                        "image 1/1 c:\\Users\\hifia\\Projects\\Marine_Debris\\datasets\\Planet\\dataset_splits_aug\\val\\images\\20161008_153105_0e3a_16907-29805-16_jpg_4.000000.jpg: 256x256 1 debris, 10.5ms\n",
                        "Speed: 0.9ms preprocess, 10.5ms inference, 2.0ms postprocess per image at shape (1, 3, 256, 256)\n",
                        "\n",
                        "image 1/1 c:\\Users\\hifia\\Projects\\Marine_Debris\\datasets\\Planet\\dataset_splits_aug\\val\\images\\20161008_153105_0e3a_16927-29809-16_jpg.rf.cb95c304fd4b4719c1fb9eb4125885de.jpg: 256x256 2 debriss, 13.0ms\n",
                        "Speed: 1.0ms preprocess, 13.0ms inference, 1.0ms postprocess per image at shape (1, 3, 256, 256)\n",
                        "\n",
                        "image 1/1 c:\\Users\\hifia\\Projects\\Marine_Debris\\datasets\\Planet\\dataset_splits_aug\\val\\images\\20161008_153105_0e3a_16927-29809-16_jpg_0.000000.jpg: 256x256 2 debriss, 13.6ms\n",
                        "Speed: 0.0ms preprocess, 13.6ms inference, 2.0ms postprocess per image at shape (1, 3, 256, 256)\n",
                        "\n",
                        "image 1/1 c:\\Users\\hifia\\Projects\\Marine_Debris\\datasets\\Planet\\dataset_splits_aug\\val\\images\\20161008_153105_0e3a_16927-29809-16_jpg_1.000000.jpg: 256x256 2 debriss, 12.0ms\n",
                        "Speed: 0.0ms preprocess, 12.0ms inference, 2.0ms postprocess per image at shape (1, 3, 256, 256)\n",
                        "\n",
                        "image 1/1 c:\\Users\\hifia\\Projects\\Marine_Debris\\datasets\\Planet\\dataset_splits_aug\\val\\images\\20161008_153105_0e3a_16927-29809-16_jpg_2.000000.jpg: 256x256 1 debris, 11.2ms\n",
                        "Speed: 0.0ms preprocess, 11.2ms inference, 2.0ms postprocess per image at shape (1, 3, 256, 256)\n"
                    ]
                },
                {
                    "name": "stderr",
                    "output_type": "stream",
                    "text": [
                        "  8%|▊         | 46/574 [00:01<00:12, 42.02it/s]"
                    ]
                },
                {
                    "name": "stdout",
                    "output_type": "stream",
                    "text": [
                        "\n",
                        "image 1/1 c:\\Users\\hifia\\Projects\\Marine_Debris\\datasets\\Planet\\dataset_splits_aug\\val\\images\\20161008_153105_0e3a_16927-29809-16_jpg_3.000000.jpg: 256x256 2 debriss, 11.0ms\n",
                        "Speed: 1.0ms preprocess, 11.0ms inference, 2.0ms postprocess per image at shape (1, 3, 256, 256)\n",
                        "\n",
                        "image 1/1 c:\\Users\\hifia\\Projects\\Marine_Debris\\datasets\\Planet\\dataset_splits_aug\\val\\images\\20161008_153105_0e3a_16927-29809-16_jpg_4.000000.jpg: 256x256 3 debriss, 14.0ms\n",
                        "Speed: 1.0ms preprocess, 14.0ms inference, 1.0ms postprocess per image at shape (1, 3, 256, 256)\n",
                        "\n",
                        "image 1/1 c:\\Users\\hifia\\Projects\\Marine_Debris\\datasets\\Planet\\dataset_splits_aug\\val\\images\\20161008_153105_0e3a_16931-29809-16_jpg.rf.1fa462bb380b24ce0a662f98ddfc392e.jpg: 256x256 2 debriss, 12.0ms\n",
                        "Speed: 0.0ms preprocess, 12.0ms inference, 1.0ms postprocess per image at shape (1, 3, 256, 256)\n",
                        "\n",
                        "image 1/1 c:\\Users\\hifia\\Projects\\Marine_Debris\\datasets\\Planet\\dataset_splits_aug\\val\\images\\20161008_153105_0e3a_16931-29809-16_jpg_0.000000.jpg: 256x256 3 debriss, 12.0ms\n",
                        "Speed: 1.0ms preprocess, 12.0ms inference, 1.0ms postprocess per image at shape (1, 3, 256, 256)\n",
                        "\n",
                        "image 1/1 c:\\Users\\hifia\\Projects\\Marine_Debris\\datasets\\Planet\\dataset_splits_aug\\val\\images\\20161008_153105_0e3a_16931-29809-16_jpg_1.000000.jpg: 256x256 1 debris, 11.5ms\n",
                        "Speed: 1.0ms preprocess, 11.5ms inference, 1.3ms postprocess per image at shape (1, 3, 256, 256)\n"
                    ]
                },
                {
                    "name": "stderr",
                    "output_type": "stream",
                    "text": [
                        "  9%|▉         | 51/574 [00:01<00:12, 42.55it/s]"
                    ]
                },
                {
                    "name": "stdout",
                    "output_type": "stream",
                    "text": [
                        "\n",
                        "image 1/1 c:\\Users\\hifia\\Projects\\Marine_Debris\\datasets\\Planet\\dataset_splits_aug\\val\\images\\20161008_153105_0e3a_16931-29809-16_jpg_2.000000.jpg: 256x256 2 debriss, 12.5ms\n",
                        "Speed: 0.0ms preprocess, 12.5ms inference, 3.0ms postprocess per image at shape (1, 3, 256, 256)\n",
                        "\n",
                        "image 1/1 c:\\Users\\hifia\\Projects\\Marine_Debris\\datasets\\Planet\\dataset_splits_aug\\val\\images\\20161008_153105_0e3a_16931-29809-16_jpg_3.000000.jpg: 256x256 3 debriss, 12.0ms\n",
                        "Speed: 1.0ms preprocess, 12.0ms inference, 1.0ms postprocess per image at shape (1, 3, 256, 256)\n",
                        "\n",
                        "image 1/1 c:\\Users\\hifia\\Projects\\Marine_Debris\\datasets\\Planet\\dataset_splits_aug\\val\\images\\20161008_153105_0e3a_16931-29809-16_jpg_4.000000.jpg: 256x256 3 debriss, 12.0ms\n",
                        "Speed: 1.0ms preprocess, 12.0ms inference, 2.0ms postprocess per image at shape (1, 3, 256, 256)\n",
                        "\n",
                        "image 1/1 c:\\Users\\hifia\\Projects\\Marine_Debris\\datasets\\Planet\\dataset_splits_aug\\val\\images\\20161008_153105_0e3a_16934-29814-16_jpg.rf.c198d12656877236d562babb604c7b0b.jpg: 256x256 3 debriss, 13.0ms\n",
                        "Speed: 0.0ms preprocess, 13.0ms inference, 1.5ms postprocess per image at shape (1, 3, 256, 256)\n",
                        "\n",
                        "image 1/1 c:\\Users\\hifia\\Projects\\Marine_Debris\\datasets\\Planet\\dataset_splits_aug\\val\\images\\20161008_153105_0e3a_16934-29814-16_jpg_0.000000.jpg: 256x256 2 debriss, 23.3ms\n",
                        "Speed: 1.0ms preprocess, 23.3ms inference, 4.0ms postprocess per image at shape (1, 3, 256, 256)\n"
                    ]
                },
                {
                    "name": "stderr",
                    "output_type": "stream",
                    "text": [
                        " 10%|▉         | 56/574 [00:01<00:12, 41.57it/s]"
                    ]
                },
                {
                    "name": "stdout",
                    "output_type": "stream",
                    "text": [
                        "\n",
                        "image 1/1 c:\\Users\\hifia\\Projects\\Marine_Debris\\datasets\\Planet\\dataset_splits_aug\\val\\images\\20161008_153105_0e3a_16934-29814-16_jpg_1.000000.jpg: 256x256 5 debriss, 18.3ms\n",
                        "Speed: 1.0ms preprocess, 18.3ms inference, 2.0ms postprocess per image at shape (1, 3, 256, 256)\n",
                        "\n",
                        "image 1/1 c:\\Users\\hifia\\Projects\\Marine_Debris\\datasets\\Planet\\dataset_splits_aug\\val\\images\\20161008_153105_0e3a_16934-29814-16_jpg_2.000000.jpg: 256x256 4 debriss, 12.0ms\n",
                        "Speed: 1.0ms preprocess, 12.0ms inference, 2.0ms postprocess per image at shape (1, 3, 256, 256)\n",
                        "\n",
                        "image 1/1 c:\\Users\\hifia\\Projects\\Marine_Debris\\datasets\\Planet\\dataset_splits_aug\\val\\images\\20161008_153105_0e3a_16934-29814-16_jpg_3.000000.jpg: 256x256 5 debriss, 11.6ms\n",
                        "Speed: 0.0ms preprocess, 11.6ms inference, 1.0ms postprocess per image at shape (1, 3, 256, 256)\n",
                        "\n",
                        "image 1/1 c:\\Users\\hifia\\Projects\\Marine_Debris\\datasets\\Planet\\dataset_splits_aug\\val\\images\\20161008_153105_0e3a_16934-29814-16_jpg_4.000000.jpg: 256x256 3 debriss, 15.2ms\n",
                        "Speed: 0.0ms preprocess, 15.2ms inference, 2.0ms postprocess per image at shape (1, 3, 256, 256)\n",
                        "\n",
                        "image 1/1 c:\\Users\\hifia\\Projects\\Marine_Debris\\datasets\\Planet\\dataset_splits_aug\\val\\images\\20161008_153105_0e3a_16935-29815-16_jpg.rf.7ea57502e0327e577ae6289e96b5ce85.jpg: 256x256 3 debriss, 11.0ms\n",
                        "Speed: 1.0ms preprocess, 11.0ms inference, 2.0ms postprocess per image at shape (1, 3, 256, 256)\n"
                    ]
                },
                {
                    "name": "stderr",
                    "output_type": "stream",
                    "text": [
                        " 11%|█         | 61/574 [00:01<00:12, 41.80it/s]"
                    ]
                },
                {
                    "name": "stdout",
                    "output_type": "stream",
                    "text": [
                        "\n",
                        "image 1/1 c:\\Users\\hifia\\Projects\\Marine_Debris\\datasets\\Planet\\dataset_splits_aug\\val\\images\\20161008_153105_0e3a_16935-29815-16_jpg_0.000000.jpg: 256x256 5 debriss, 12.0ms\n",
                        "Speed: 0.0ms preprocess, 12.0ms inference, 2.0ms postprocess per image at shape (1, 3, 256, 256)\n",
                        "\n",
                        "image 1/1 c:\\Users\\hifia\\Projects\\Marine_Debris\\datasets\\Planet\\dataset_splits_aug\\val\\images\\20161008_153105_0e3a_16935-29815-16_jpg_1.000000.jpg: 256x256 5 debriss, 13.2ms\n",
                        "Speed: 1.0ms preprocess, 13.2ms inference, 1.0ms postprocess per image at shape (1, 3, 256, 256)\n",
                        "\n",
                        "image 1/1 c:\\Users\\hifia\\Projects\\Marine_Debris\\datasets\\Planet\\dataset_splits_aug\\val\\images\\20161008_153105_0e3a_16935-29815-16_jpg_2.000000.jpg: 256x256 5 debriss, 12.0ms\n",
                        "Speed: 1.1ms preprocess, 12.0ms inference, 2.0ms postprocess per image at shape (1, 3, 256, 256)\n",
                        "\n",
                        "image 1/1 c:\\Users\\hifia\\Projects\\Marine_Debris\\datasets\\Planet\\dataset_splits_aug\\val\\images\\20161008_153105_0e3a_16935-29815-16_jpg_3.000000.jpg: 256x256 5 debriss, 11.0ms\n",
                        "Speed: 1.0ms preprocess, 11.0ms inference, 2.0ms postprocess per image at shape (1, 3, 256, 256)\n",
                        "\n",
                        "image 1/1 c:\\Users\\hifia\\Projects\\Marine_Debris\\datasets\\Planet\\dataset_splits_aug\\val\\images\\20161008_153105_0e3a_16935-29815-16_jpg_4.000000.jpg: 256x256 3 debriss, 12.0ms\n",
                        "Speed: 0.0ms preprocess, 12.0ms inference, 2.0ms postprocess per image at shape (1, 3, 256, 256)\n"
                    ]
                },
                {
                    "name": "stderr",
                    "output_type": "stream",
                    "text": [
                        " 11%|█▏        | 66/574 [00:01<00:11, 42.51it/s]"
                    ]
                },
                {
                    "name": "stdout",
                    "output_type": "stream",
                    "text": [
                        "\n",
                        "image 1/1 c:\\Users\\hifia\\Projects\\Marine_Debris\\datasets\\Planet\\dataset_splits_aug\\val\\images\\20161008_153105_0e3a_16937-29811-16_jpg.rf.86800e53649dbf4859c52436e60bcf76.jpg: 256x256 5 debriss, 12.0ms\n",
                        "Speed: 0.0ms preprocess, 12.0ms inference, 1.0ms postprocess per image at shape (1, 3, 256, 256)\n",
                        "\n",
                        "image 1/1 c:\\Users\\hifia\\Projects\\Marine_Debris\\datasets\\Planet\\dataset_splits_aug\\val\\images\\20161008_153105_0e3a_16937-29811-16_jpg_0.000000.jpg: 256x256 3 debriss, 13.5ms\n",
                        "Speed: 0.0ms preprocess, 13.5ms inference, 2.0ms postprocess per image at shape (1, 3, 256, 256)\n",
                        "\n",
                        "image 1/1 c:\\Users\\hifia\\Projects\\Marine_Debris\\datasets\\Planet\\dataset_splits_aug\\val\\images\\20161008_153105_0e3a_16937-29811-16_jpg_1.000000.jpg: 256x256 4 debriss, 11.1ms\n",
                        "Speed: 0.0ms preprocess, 11.1ms inference, 2.0ms postprocess per image at shape (1, 3, 256, 256)\n",
                        "\n",
                        "image 1/1 c:\\Users\\hifia\\Projects\\Marine_Debris\\datasets\\Planet\\dataset_splits_aug\\val\\images\\20161008_153105_0e3a_16937-29811-16_jpg_2.000000.jpg: 256x256 5 debriss, 23.1ms\n",
                        "Speed: 0.0ms preprocess, 23.1ms inference, 4.0ms postprocess per image at shape (1, 3, 256, 256)\n",
                        "\n",
                        "image 1/1 c:\\Users\\hifia\\Projects\\Marine_Debris\\datasets\\Planet\\dataset_splits_aug\\val\\images\\20161008_153105_0e3a_16937-29811-16_jpg_3.000000.jpg: 256x256 3 debriss, 11.3ms\n",
                        "Speed: 0.0ms preprocess, 11.3ms inference, 2.0ms postprocess per image at shape (1, 3, 256, 256)\n"
                    ]
                },
                {
                    "name": "stderr",
                    "output_type": "stream",
                    "text": [
                        " 12%|█▏        | 71/574 [00:01<00:12, 41.80it/s]"
                    ]
                },
                {
                    "name": "stdout",
                    "output_type": "stream",
                    "text": [
                        "\n",
                        "image 1/1 c:\\Users\\hifia\\Projects\\Marine_Debris\\datasets\\Planet\\dataset_splits_aug\\val\\images\\20161008_153105_0e3a_16937-29811-16_jpg_4.000000.jpg: 256x256 2 debriss, 12.0ms\n",
                        "Speed: 1.5ms preprocess, 12.0ms inference, 1.0ms postprocess per image at shape (1, 3, 256, 256)\n",
                        "\n",
                        "image 1/1 c:\\Users\\hifia\\Projects\\Marine_Debris\\datasets\\Planet\\dataset_splits_aug\\val\\images\\20161008_153105_0e3a_16940-29815-16_jpg.rf.b7cc33906d9f2c0bc924cf48b54ff83e.jpg: 256x256 8 debriss, 14.0ms\n",
                        "Speed: 0.0ms preprocess, 14.0ms inference, 1.0ms postprocess per image at shape (1, 3, 256, 256)\n",
                        "\n",
                        "image 1/1 c:\\Users\\hifia\\Projects\\Marine_Debris\\datasets\\Planet\\dataset_splits_aug\\val\\images\\20161008_153105_0e3a_16940-29815-16_jpg_0.000000.jpg: 256x256 9 debriss, 12.0ms\n",
                        "Speed: 0.0ms preprocess, 12.0ms inference, 1.0ms postprocess per image at shape (1, 3, 256, 256)\n",
                        "\n",
                        "image 1/1 c:\\Users\\hifia\\Projects\\Marine_Debris\\datasets\\Planet\\dataset_splits_aug\\val\\images\\20161008_153105_0e3a_16940-29815-16_jpg_1.000000.jpg: 256x256 8 debriss, 17.1ms\n",
                        "Speed: 1.0ms preprocess, 17.1ms inference, 2.0ms postprocess per image at shape (1, 3, 256, 256)\n",
                        "\n",
                        "image 1/1 c:\\Users\\hifia\\Projects\\Marine_Debris\\datasets\\Planet\\dataset_splits_aug\\val\\images\\20161008_153105_0e3a_16940-29815-16_jpg_2.000000.jpg: 256x256 6 debriss, 11.5ms\n",
                        "Speed: 0.0ms preprocess, 11.5ms inference, 1.0ms postprocess per image at shape (1, 3, 256, 256)\n"
                    ]
                },
                {
                    "name": "stderr",
                    "output_type": "stream",
                    "text": [
                        " 13%|█▎        | 76/574 [00:01<00:11, 42.34it/s]"
                    ]
                },
                {
                    "name": "stdout",
                    "output_type": "stream",
                    "text": [
                        "\n",
                        "image 1/1 c:\\Users\\hifia\\Projects\\Marine_Debris\\datasets\\Planet\\dataset_splits_aug\\val\\images\\20161008_153105_0e3a_16940-29815-16_jpg_3.000000.jpg: 256x256 7 debriss, 12.0ms\n",
                        "Speed: 0.0ms preprocess, 12.0ms inference, 2.0ms postprocess per image at shape (1, 3, 256, 256)\n",
                        "\n",
                        "image 1/1 c:\\Users\\hifia\\Projects\\Marine_Debris\\datasets\\Planet\\dataset_splits_aug\\val\\images\\20161008_153105_0e3a_16940-29815-16_jpg_4.000000.jpg: 256x256 7 debriss, 13.0ms\n",
                        "Speed: 1.0ms preprocess, 13.0ms inference, 2.0ms postprocess per image at shape (1, 3, 256, 256)\n",
                        "\n",
                        "image 1/1 c:\\Users\\hifia\\Projects\\Marine_Debris\\datasets\\Planet\\dataset_splits_aug\\val\\images\\20170227_203307_0c37_16768-29702-16_jpg.rf.166645946b54de83085bebcd30cd0234.jpg: 256x256 4 debriss, 12.0ms\n",
                        "Speed: 0.0ms preprocess, 12.0ms inference, 1.0ms postprocess per image at shape (1, 3, 256, 256)\n",
                        "\n",
                        "image 1/1 c:\\Users\\hifia\\Projects\\Marine_Debris\\datasets\\Planet\\dataset_splits_aug\\val\\images\\20170227_203307_0c37_16768-29702-16_jpg_0.000000.jpg: 256x256 5 debriss, 15.1ms\n",
                        "Speed: 1.0ms preprocess, 15.1ms inference, 1.0ms postprocess per image at shape (1, 3, 256, 256)\n",
                        "\n",
                        "image 1/1 c:\\Users\\hifia\\Projects\\Marine_Debris\\datasets\\Planet\\dataset_splits_aug\\val\\images\\20170227_203307_0c37_16768-29702-16_jpg_1.000000.jpg: 256x256 6 debriss, 22.1ms\n",
                        "Speed: 1.0ms preprocess, 22.1ms inference, 4.0ms postprocess per image at shape (1, 3, 256, 256)\n"
                    ]
                },
                {
                    "name": "stderr",
                    "output_type": "stream",
                    "text": [
                        " 14%|█▍        | 81/574 [00:02<00:11, 41.09it/s]"
                    ]
                },
                {
                    "name": "stdout",
                    "output_type": "stream",
                    "text": [
                        "\n",
                        "image 1/1 c:\\Users\\hifia\\Projects\\Marine_Debris\\datasets\\Planet\\dataset_splits_aug\\val\\images\\20170227_203307_0c37_16768-29702-16_jpg_2.000000.jpg: 256x256 7 debriss, 12.2ms\n",
                        "Speed: 1.0ms preprocess, 12.2ms inference, 1.0ms postprocess per image at shape (1, 3, 256, 256)\n",
                        "\n",
                        "image 1/1 c:\\Users\\hifia\\Projects\\Marine_Debris\\datasets\\Planet\\dataset_splits_aug\\val\\images\\20170227_203307_0c37_16768-29702-16_jpg_3.000000.jpg: 256x256 7 debriss, 12.2ms\n",
                        "Speed: 1.0ms preprocess, 12.2ms inference, 1.0ms postprocess per image at shape (1, 3, 256, 256)\n",
                        "\n",
                        "image 1/1 c:\\Users\\hifia\\Projects\\Marine_Debris\\datasets\\Planet\\dataset_splits_aug\\val\\images\\20170227_203307_0c37_16768-29702-16_jpg_4.000000.jpg: 256x256 4 debriss, 12.5ms\n",
                        "Speed: 0.0ms preprocess, 12.5ms inference, 2.0ms postprocess per image at shape (1, 3, 256, 256)\n",
                        "\n",
                        "image 1/1 c:\\Users\\hifia\\Projects\\Marine_Debris\\datasets\\Planet\\dataset_splits_aug\\val\\images\\20170322_153132_0e0f_17125-29793-16_jpg.rf.964e646c6b7843b1aab6690a83095b74.jpg: 256x256 1 debris, 12.1ms\n",
                        "Speed: 0.0ms preprocess, 12.1ms inference, 1.0ms postprocess per image at shape (1, 3, 256, 256)\n",
                        "\n",
                        "image 1/1 c:\\Users\\hifia\\Projects\\Marine_Debris\\datasets\\Planet\\dataset_splits_aug\\val\\images\\20170322_153132_0e0f_17125-29793-16_jpg_0.000000.jpg: 256x256 1 debris, 12.0ms\n",
                        "Speed: 1.0ms preprocess, 12.0ms inference, 1.0ms postprocess per image at shape (1, 3, 256, 256)\n"
                    ]
                },
                {
                    "name": "stderr",
                    "output_type": "stream",
                    "text": [
                        " 15%|█▍        | 86/574 [00:02<00:11, 42.22it/s]"
                    ]
                },
                {
                    "name": "stdout",
                    "output_type": "stream",
                    "text": [
                        "\n",
                        "image 1/1 c:\\Users\\hifia\\Projects\\Marine_Debris\\datasets\\Planet\\dataset_splits_aug\\val\\images\\20170322_153132_0e0f_17125-29793-16_jpg_1.000000.jpg: 256x256 1 debris, 12.1ms\n",
                        "Speed: 1.0ms preprocess, 12.1ms inference, 2.0ms postprocess per image at shape (1, 3, 256, 256)\n",
                        "\n",
                        "image 1/1 c:\\Users\\hifia\\Projects\\Marine_Debris\\datasets\\Planet\\dataset_splits_aug\\val\\images\\20170322_153132_0e0f_17125-29793-16_jpg_2.000000.jpg: 256x256 2 debriss, 12.0ms\n",
                        "Speed: 1.0ms preprocess, 12.0ms inference, 1.0ms postprocess per image at shape (1, 3, 256, 256)\n",
                        "\n",
                        "image 1/1 c:\\Users\\hifia\\Projects\\Marine_Debris\\datasets\\Planet\\dataset_splits_aug\\val\\images\\20170322_153132_0e0f_17125-29793-16_jpg_3.000000.jpg: 256x256 1 debris, 13.6ms\n",
                        "Speed: 1.0ms preprocess, 13.6ms inference, 2.0ms postprocess per image at shape (1, 3, 256, 256)\n",
                        "\n",
                        "image 1/1 c:\\Users\\hifia\\Projects\\Marine_Debris\\datasets\\Planet\\dataset_splits_aug\\val\\images\\20170322_153132_0e0f_17125-29793-16_jpg_4.000000.jpg: 256x256 1 debris, 11.1ms\n",
                        "Speed: 0.0ms preprocess, 11.1ms inference, 2.0ms postprocess per image at shape (1, 3, 256, 256)\n",
                        "\n",
                        "image 1/1 c:\\Users\\hifia\\Projects\\Marine_Debris\\datasets\\Planet\\dataset_splits_aug\\val\\images\\20170322_153132_0e0f_17134-29799-16_jpg.rf.04d177d8f731d4033718b306c7e8f7dc.jpg: 256x256 4 debriss, 13.0ms\n",
                        "Speed: 1.0ms preprocess, 13.0ms inference, 1.0ms postprocess per image at shape (1, 3, 256, 256)\n"
                    ]
                },
                {
                    "name": "stderr",
                    "output_type": "stream",
                    "text": [
                        " 16%|█▌        | 91/574 [00:02<00:11, 42.92it/s]"
                    ]
                },
                {
                    "name": "stdout",
                    "output_type": "stream",
                    "text": [
                        "\n",
                        "image 1/1 c:\\Users\\hifia\\Projects\\Marine_Debris\\datasets\\Planet\\dataset_splits_aug\\val\\images\\20170322_153132_0e0f_17134-29799-16_jpg_0.000000.jpg: 256x256 4 debriss, 11.4ms\n",
                        "Speed: 1.0ms preprocess, 11.4ms inference, 1.0ms postprocess per image at shape (1, 3, 256, 256)\n",
                        "\n",
                        "image 1/1 c:\\Users\\hifia\\Projects\\Marine_Debris\\datasets\\Planet\\dataset_splits_aug\\val\\images\\20170322_153132_0e0f_17134-29799-16_jpg_1.000000.jpg: 256x256 3 debriss, 18.6ms\n",
                        "Speed: 1.0ms preprocess, 18.6ms inference, 2.0ms postprocess per image at shape (1, 3, 256, 256)\n",
                        "\n",
                        "image 1/1 c:\\Users\\hifia\\Projects\\Marine_Debris\\datasets\\Planet\\dataset_splits_aug\\val\\images\\20170322_153132_0e0f_17134-29799-16_jpg_2.000000.jpg: 256x256 4 debriss, 17.2ms\n",
                        "Speed: 0.0ms preprocess, 17.2ms inference, 3.0ms postprocess per image at shape (1, 3, 256, 256)\n",
                        "\n",
                        "image 1/1 c:\\Users\\hifia\\Projects\\Marine_Debris\\datasets\\Planet\\dataset_splits_aug\\val\\images\\20170322_153132_0e0f_17134-29799-16_jpg_3.000000.jpg: 256x256 4 debriss, 15.2ms\n",
                        "Speed: 0.0ms preprocess, 15.2ms inference, 2.0ms postprocess per image at shape (1, 3, 256, 256)\n",
                        "\n",
                        "image 1/1 c:\\Users\\hifia\\Projects\\Marine_Debris\\datasets\\Planet\\dataset_splits_aug\\val\\images\\20170322_153132_0e0f_17134-29799-16_jpg_4.000000.jpg: 256x256 4 debriss, 11.2ms\n",
                        "Speed: 0.0ms preprocess, 11.2ms inference, 1.1ms postprocess per image at shape (1, 3, 256, 256)\n"
                    ]
                },
                {
                    "name": "stderr",
                    "output_type": "stream",
                    "text": [
                        " 17%|█▋        | 96/574 [00:02<00:11, 41.35it/s]"
                    ]
                },
                {
                    "name": "stdout",
                    "output_type": "stream",
                    "text": [
                        "\n",
                        "image 1/1 c:\\Users\\hifia\\Projects\\Marine_Debris\\datasets\\Planet\\dataset_splits_aug\\val\\images\\20170322_153132_0e0f_17138-29802-16_jpg.rf.6e0ea374ad786971c690dda45d5c37d6.jpg: 256x256 5 debriss, 13.7ms\n",
                        "Speed: 0.0ms preprocess, 13.7ms inference, 1.0ms postprocess per image at shape (1, 3, 256, 256)\n",
                        "\n",
                        "image 1/1 c:\\Users\\hifia\\Projects\\Marine_Debris\\datasets\\Planet\\dataset_splits_aug\\val\\images\\20170322_153132_0e0f_17138-29802-16_jpg_0.000000.jpg: 256x256 6 debriss, 17.0ms\n",
                        "Speed: 1.0ms preprocess, 17.0ms inference, 1.0ms postprocess per image at shape (1, 3, 256, 256)\n",
                        "\n",
                        "image 1/1 c:\\Users\\hifia\\Projects\\Marine_Debris\\datasets\\Planet\\dataset_splits_aug\\val\\images\\20170322_153132_0e0f_17138-29802-16_jpg_1.000000.jpg: 256x256 4 debriss, 12.0ms\n",
                        "Speed: 1.0ms preprocess, 12.0ms inference, 2.0ms postprocess per image at shape (1, 3, 256, 256)\n",
                        "\n",
                        "image 1/1 c:\\Users\\hifia\\Projects\\Marine_Debris\\datasets\\Planet\\dataset_splits_aug\\val\\images\\20170322_153132_0e0f_17138-29802-16_jpg_2.000000.jpg: 256x256 3 debriss, 12.0ms\n",
                        "Speed: 0.0ms preprocess, 12.0ms inference, 1.0ms postprocess per image at shape (1, 3, 256, 256)\n",
                        "\n",
                        "image 1/1 c:\\Users\\hifia\\Projects\\Marine_Debris\\datasets\\Planet\\dataset_splits_aug\\val\\images\\20170322_153132_0e0f_17138-29802-16_jpg_3.000000.jpg: 256x256 6 debriss, 12.1ms\n",
                        "Speed: 1.0ms preprocess, 12.1ms inference, 1.0ms postprocess per image at shape (1, 3, 256, 256)\n"
                    ]
                },
                {
                    "name": "stderr",
                    "output_type": "stream",
                    "text": [
                        " 18%|█▊        | 101/574 [00:02<00:11, 41.97it/s]"
                    ]
                },
                {
                    "name": "stdout",
                    "output_type": "stream",
                    "text": [
                        "\n",
                        "image 1/1 c:\\Users\\hifia\\Projects\\Marine_Debris\\datasets\\Planet\\dataset_splits_aug\\val\\images\\20170322_153132_0e0f_17138-29802-16_jpg_4.000000.jpg: 256x256 3 debriss, 13.0ms\n",
                        "Speed: 0.0ms preprocess, 13.0ms inference, 2.0ms postprocess per image at shape (1, 3, 256, 256)\n",
                        "\n",
                        "image 1/1 c:\\Users\\hifia\\Projects\\Marine_Debris\\datasets\\Planet\\dataset_splits_aug\\val\\images\\20170322_153132_0e0f_17138-29803-16_jpg.rf.789d9eeae0d62b8bb5cab99c7a7b5cf5.jpg: 256x256 1 debris, 11.1ms\n",
                        "Speed: 1.0ms preprocess, 11.1ms inference, 2.0ms postprocess per image at shape (1, 3, 256, 256)\n",
                        "\n",
                        "image 1/1 c:\\Users\\hifia\\Projects\\Marine_Debris\\datasets\\Planet\\dataset_splits_aug\\val\\images\\20170322_153132_0e0f_17138-29803-16_jpg_0.000000.jpg: 256x256 1 debris, 12.0ms\n",
                        "Speed: 1.0ms preprocess, 12.0ms inference, 1.0ms postprocess per image at shape (1, 3, 256, 256)\n",
                        "\n",
                        "image 1/1 c:\\Users\\hifia\\Projects\\Marine_Debris\\datasets\\Planet\\dataset_splits_aug\\val\\images\\20170322_153132_0e0f_17138-29803-16_jpg_1.000000.jpg: 256x256 1 debris, 11.0ms\n",
                        "Speed: 1.0ms preprocess, 11.0ms inference, 2.0ms postprocess per image at shape (1, 3, 256, 256)\n",
                        "\n",
                        "image 1/1 c:\\Users\\hifia\\Projects\\Marine_Debris\\datasets\\Planet\\dataset_splits_aug\\val\\images\\20170322_153132_0e0f_17138-29803-16_jpg_2.000000.jpg: 256x256 1 debris, 13.1ms\n",
                        "Speed: 0.5ms preprocess, 13.1ms inference, 4.0ms postprocess per image at shape (1, 3, 256, 256)\n"
                    ]
                },
                {
                    "name": "stderr",
                    "output_type": "stream",
                    "text": [
                        " 18%|█▊        | 106/574 [00:02<00:11, 42.53it/s]"
                    ]
                },
                {
                    "name": "stdout",
                    "output_type": "stream",
                    "text": [
                        "\n",
                        "image 1/1 c:\\Users\\hifia\\Projects\\Marine_Debris\\datasets\\Planet\\dataset_splits_aug\\val\\images\\20170322_153132_0e0f_17138-29803-16_jpg_3.000000.jpg: 256x256 1 debris, 12.2ms\n",
                        "Speed: 1.0ms preprocess, 12.2ms inference, 2.0ms postprocess per image at shape (1, 3, 256, 256)\n",
                        "\n",
                        "image 1/1 c:\\Users\\hifia\\Projects\\Marine_Debris\\datasets\\Planet\\dataset_splits_aug\\val\\images\\20170322_153132_0e0f_17138-29803-16_jpg_4.000000.jpg: 256x256 1 debris, 15.0ms\n",
                        "Speed: 0.0ms preprocess, 15.0ms inference, 2.0ms postprocess per image at shape (1, 3, 256, 256)\n",
                        "\n",
                        "image 1/1 c:\\Users\\hifia\\Projects\\Marine_Debris\\datasets\\Planet\\dataset_splits_aug\\val\\images\\20170322_153132_0e0f_17138-29808-16_jpg.rf.402d310a50b888782a6bffbae537073b.jpg: 256x256 3 debriss, 13.2ms\n",
                        "Speed: 1.0ms preprocess, 13.2ms inference, 2.0ms postprocess per image at shape (1, 3, 256, 256)\n",
                        "\n",
                        "image 1/1 c:\\Users\\hifia\\Projects\\Marine_Debris\\datasets\\Planet\\dataset_splits_aug\\val\\images\\20170322_153132_0e0f_17138-29808-16_jpg_0.000000.jpg: 256x256 3 debriss, 14.6ms\n",
                        "Speed: 0.0ms preprocess, 14.6ms inference, 1.0ms postprocess per image at shape (1, 3, 256, 256)\n",
                        "\n",
                        "image 1/1 c:\\Users\\hifia\\Projects\\Marine_Debris\\datasets\\Planet\\dataset_splits_aug\\val\\images\\20170322_153132_0e0f_17138-29808-16_jpg_1.000000.jpg: 256x256 3 debriss, 14.0ms\n",
                        "Speed: 0.0ms preprocess, 14.0ms inference, 5.0ms postprocess per image at shape (1, 3, 256, 256)\n"
                    ]
                },
                {
                    "name": "stderr",
                    "output_type": "stream",
                    "text": [
                        " 19%|█▉        | 111/574 [00:02<00:11, 41.73it/s]"
                    ]
                },
                {
                    "name": "stdout",
                    "output_type": "stream",
                    "text": [
                        "\n",
                        "image 1/1 c:\\Users\\hifia\\Projects\\Marine_Debris\\datasets\\Planet\\dataset_splits_aug\\val\\images\\20170322_153132_0e0f_17138-29808-16_jpg_2.000000.jpg: 256x256 3 debriss, 11.1ms\n",
                        "Speed: 1.0ms preprocess, 11.1ms inference, 1.0ms postprocess per image at shape (1, 3, 256, 256)\n",
                        "\n",
                        "image 1/1 c:\\Users\\hifia\\Projects\\Marine_Debris\\datasets\\Planet\\dataset_splits_aug\\val\\images\\20170322_153132_0e0f_17138-29808-16_jpg_3.000000.jpg: 256x256 3 debriss, 14.2ms\n",
                        "Speed: 0.0ms preprocess, 14.2ms inference, 2.0ms postprocess per image at shape (1, 3, 256, 256)\n",
                        "\n",
                        "image 1/1 c:\\Users\\hifia\\Projects\\Marine_Debris\\datasets\\Planet\\dataset_splits_aug\\val\\images\\20170322_153132_0e0f_17138-29808-16_jpg_4.000000.jpg: 256x256 2 debriss, 12.0ms\n",
                        "Speed: 1.0ms preprocess, 12.0ms inference, 1.0ms postprocess per image at shape (1, 3, 256, 256)\n",
                        "\n",
                        "image 1/1 c:\\Users\\hifia\\Projects\\Marine_Debris\\datasets\\Planet\\dataset_splits_aug\\val\\images\\20170322_153132_0e0f_17139-29808-16_jpg.rf.540c2cc1dc221f76a1feec6924860298.jpg: 256x256 2 debriss, 13.0ms\n",
                        "Speed: 1.0ms preprocess, 13.0ms inference, 2.6ms postprocess per image at shape (1, 3, 256, 256)\n",
                        "\n",
                        "image 1/1 c:\\Users\\hifia\\Projects\\Marine_Debris\\datasets\\Planet\\dataset_splits_aug\\val\\images\\20170322_153132_0e0f_17139-29808-16_jpg_0.000000.jpg: 256x256 2 debriss, 12.0ms\n",
                        "Speed: 1.1ms preprocess, 12.0ms inference, 2.0ms postprocess per image at shape (1, 3, 256, 256)\n"
                    ]
                },
                {
                    "name": "stderr",
                    "output_type": "stream",
                    "text": [
                        " 20%|██        | 116/574 [00:02<00:10, 41.65it/s]"
                    ]
                },
                {
                    "name": "stdout",
                    "output_type": "stream",
                    "text": [
                        "\n",
                        "image 1/1 c:\\Users\\hifia\\Projects\\Marine_Debris\\datasets\\Planet\\dataset_splits_aug\\val\\images\\20170322_153132_0e0f_17139-29808-16_jpg_1.000000.jpg: 256x256 2 debriss, 11.0ms\n",
                        "Speed: 2.9ms preprocess, 11.0ms inference, 1.0ms postprocess per image at shape (1, 3, 256, 256)\n",
                        "\n",
                        "image 1/1 c:\\Users\\hifia\\Projects\\Marine_Debris\\datasets\\Planet\\dataset_splits_aug\\val\\images\\20170322_153132_0e0f_17139-29808-16_jpg_2.000000.jpg: 256x256 2 debriss, 11.5ms\n",
                        "Speed: 1.0ms preprocess, 11.5ms inference, 2.0ms postprocess per image at shape (1, 3, 256, 256)\n",
                        "\n",
                        "image 1/1 c:\\Users\\hifia\\Projects\\Marine_Debris\\datasets\\Planet\\dataset_splits_aug\\val\\images\\20170322_153132_0e0f_17139-29808-16_jpg_3.000000.jpg: 256x256 2 debriss, 12.0ms\n",
                        "Speed: 0.0ms preprocess, 12.0ms inference, 2.0ms postprocess per image at shape (1, 3, 256, 256)\n",
                        "\n",
                        "image 1/1 c:\\Users\\hifia\\Projects\\Marine_Debris\\datasets\\Planet\\dataset_splits_aug\\val\\images\\20170322_153132_0e0f_17139-29808-16_jpg_4.000000.jpg: 256x256 2 debriss, 11.0ms\n",
                        "Speed: 1.0ms preprocess, 11.0ms inference, 2.0ms postprocess per image at shape (1, 3, 256, 256)\n",
                        "\n",
                        "image 1/1 c:\\Users\\hifia\\Projects\\Marine_Debris\\datasets\\Planet\\dataset_splits_aug\\val\\images\\20170323_152750_0e20_17280-29803-16_jpg.rf.5bdd91ef9185a08c4968b7d087d96fb2.jpg: 256x256 5 debriss, 12.0ms\n",
                        "Speed: 0.0ms preprocess, 12.0ms inference, 1.0ms postprocess per image at shape (1, 3, 256, 256)\n"
                    ]
                },
                {
                    "name": "stderr",
                    "output_type": "stream",
                    "text": [
                        " 21%|██        | 121/574 [00:02<00:10, 42.41it/s]"
                    ]
                },
                {
                    "name": "stdout",
                    "output_type": "stream",
                    "text": [
                        "\n",
                        "image 1/1 c:\\Users\\hifia\\Projects\\Marine_Debris\\datasets\\Planet\\dataset_splits_aug\\val\\images\\20170323_152750_0e20_17280-29803-16_jpg_0.000000.jpg: 256x256 5 debriss, 12.0ms\n",
                        "Speed: 1.0ms preprocess, 12.0ms inference, 1.0ms postprocess per image at shape (1, 3, 256, 256)\n",
                        "\n",
                        "image 1/1 c:\\Users\\hifia\\Projects\\Marine_Debris\\datasets\\Planet\\dataset_splits_aug\\val\\images\\20170323_152750_0e20_17280-29803-16_jpg_1.000000.jpg: 256x256 5 debriss, 17.2ms\n",
                        "Speed: 1.0ms preprocess, 17.2ms inference, 3.0ms postprocess per image at shape (1, 3, 256, 256)\n",
                        "\n",
                        "image 1/1 c:\\Users\\hifia\\Projects\\Marine_Debris\\datasets\\Planet\\dataset_splits_aug\\val\\images\\20170323_152750_0e20_17280-29803-16_jpg_2.000000.jpg: 256x256 5 debriss, 12.2ms\n",
                        "Speed: 1.0ms preprocess, 12.2ms inference, 2.0ms postprocess per image at shape (1, 3, 256, 256)\n",
                        "\n",
                        "image 1/1 c:\\Users\\hifia\\Projects\\Marine_Debris\\datasets\\Planet\\dataset_splits_aug\\val\\images\\20170323_152750_0e20_17280-29803-16_jpg_3.000000.jpg: 256x256 5 debriss, 11.0ms\n",
                        "Speed: 1.0ms preprocess, 11.0ms inference, 2.0ms postprocess per image at shape (1, 3, 256, 256)\n",
                        "\n",
                        "image 1/1 c:\\Users\\hifia\\Projects\\Marine_Debris\\datasets\\Planet\\dataset_splits_aug\\val\\images\\20170323_152750_0e20_17280-29803-16_jpg_4.000000.jpg: 256x256 5 debriss, 13.0ms\n",
                        "Speed: 0.0ms preprocess, 13.0ms inference, 1.0ms postprocess per image at shape (1, 3, 256, 256)\n"
                    ]
                },
                {
                    "name": "stderr",
                    "output_type": "stream",
                    "text": [
                        " 22%|██▏       | 126/574 [00:03<00:10, 42.17it/s]"
                    ]
                },
                {
                    "name": "stdout",
                    "output_type": "stream",
                    "text": [
                        "\n",
                        "image 1/1 c:\\Users\\hifia\\Projects\\Marine_Debris\\datasets\\Planet\\dataset_splits_aug\\val\\images\\20170323_152750_0e20_17291-29803-16_jpg.rf.d6f11f59c9a1f7f1c6846091fdd6cd18.jpg: 256x256 3 debriss, 12.1ms\n",
                        "Speed: 1.0ms preprocess, 12.1ms inference, 2.0ms postprocess per image at shape (1, 3, 256, 256)\n",
                        "\n",
                        "image 1/1 c:\\Users\\hifia\\Projects\\Marine_Debris\\datasets\\Planet\\dataset_splits_aug\\val\\images\\20170323_152750_0e20_17291-29803-16_jpg_0.000000.jpg: 256x256 5 debriss, 14.1ms\n",
                        "Speed: 1.0ms preprocess, 14.1ms inference, 1.0ms postprocess per image at shape (1, 3, 256, 256)\n",
                        "\n",
                        "image 1/1 c:\\Users\\hifia\\Projects\\Marine_Debris\\datasets\\Planet\\dataset_splits_aug\\val\\images\\20170323_152750_0e20_17291-29803-16_jpg_1.000000.jpg: 256x256 7 debriss, 13.0ms\n",
                        "Speed: 0.0ms preprocess, 13.0ms inference, 1.0ms postprocess per image at shape (1, 3, 256, 256)\n",
                        "\n",
                        "image 1/1 c:\\Users\\hifia\\Projects\\Marine_Debris\\datasets\\Planet\\dataset_splits_aug\\val\\images\\20170323_152750_0e20_17291-29803-16_jpg_2.000000.jpg: 256x256 8 debriss, 12.0ms\n",
                        "Speed: 0.0ms preprocess, 12.0ms inference, 2.0ms postprocess per image at shape (1, 3, 256, 256)\n",
                        "\n",
                        "image 1/1 c:\\Users\\hifia\\Projects\\Marine_Debris\\datasets\\Planet\\dataset_splits_aug\\val\\images\\20170323_152750_0e20_17291-29803-16_jpg_3.000000.jpg: 256x256 3 debriss, 12.5ms\n",
                        "Speed: 1.0ms preprocess, 12.5ms inference, 1.0ms postprocess per image at shape (1, 3, 256, 256)\n"
                    ]
                },
                {
                    "name": "stderr",
                    "output_type": "stream",
                    "text": [
                        " 23%|██▎       | 131/574 [00:03<00:10, 42.46it/s]"
                    ]
                },
                {
                    "name": "stdout",
                    "output_type": "stream",
                    "text": [
                        "\n",
                        "image 1/1 c:\\Users\\hifia\\Projects\\Marine_Debris\\datasets\\Planet\\dataset_splits_aug\\val\\images\\20170323_152750_0e20_17291-29803-16_jpg_4.000000.jpg: 256x256 7 debriss, 13.0ms\n",
                        "Speed: 1.0ms preprocess, 13.0ms inference, 1.0ms postprocess per image at shape (1, 3, 256, 256)\n",
                        "\n",
                        "image 1/1 c:\\Users\\hifia\\Projects\\Marine_Debris\\datasets\\Planet\\dataset_splits_aug\\val\\images\\20170323_152750_0e20_17294-29802-16_jpg.rf.64f692fc92abb046ef143417b794d7d2.jpg: 256x256 6 debriss, 13.0ms\n",
                        "Speed: 0.0ms preprocess, 13.0ms inference, 1.0ms postprocess per image at shape (1, 3, 256, 256)\n",
                        "\n",
                        "image 1/1 c:\\Users\\hifia\\Projects\\Marine_Debris\\datasets\\Planet\\dataset_splits_aug\\val\\images\\20170323_152750_0e20_17294-29802-16_jpg_0.000000.jpg: 256x256 7 debriss, 12.2ms\n",
                        "Speed: 1.0ms preprocess, 12.2ms inference, 1.0ms postprocess per image at shape (1, 3, 256, 256)\n",
                        "\n",
                        "image 1/1 c:\\Users\\hifia\\Projects\\Marine_Debris\\datasets\\Planet\\dataset_splits_aug\\val\\images\\20170323_152750_0e20_17294-29802-16_jpg_1.000000.jpg: 256x256 5 debriss, 19.7ms\n",
                        "Speed: 1.0ms preprocess, 19.7ms inference, 1.0ms postprocess per image at shape (1, 3, 256, 256)\n",
                        "\n",
                        "image 1/1 c:\\Users\\hifia\\Projects\\Marine_Debris\\datasets\\Planet\\dataset_splits_aug\\val\\images\\20170323_152750_0e20_17294-29802-16_jpg_2.000000.jpg: 256x256 8 debriss, 13.0ms\n",
                        "Speed: 1.0ms preprocess, 13.0ms inference, 1.0ms postprocess per image at shape (1, 3, 256, 256)\n"
                    ]
                },
                {
                    "name": "stderr",
                    "output_type": "stream",
                    "text": [
                        " 24%|██▎       | 136/574 [00:03<00:10, 42.08it/s]"
                    ]
                },
                {
                    "name": "stdout",
                    "output_type": "stream",
                    "text": [
                        "\n",
                        "image 1/1 c:\\Users\\hifia\\Projects\\Marine_Debris\\datasets\\Planet\\dataset_splits_aug\\val\\images\\20170323_152750_0e20_17294-29802-16_jpg_3.000000.jpg: 256x256 9 debriss, 11.2ms\n",
                        "Speed: 0.0ms preprocess, 11.2ms inference, 2.0ms postprocess per image at shape (1, 3, 256, 256)\n",
                        "\n",
                        "image 1/1 c:\\Users\\hifia\\Projects\\Marine_Debris\\datasets\\Planet\\dataset_splits_aug\\val\\images\\20170323_152750_0e20_17294-29802-16_jpg_4.000000.jpg: 256x256 9 debriss, 12.0ms\n",
                        "Speed: 1.0ms preprocess, 12.0ms inference, 1.0ms postprocess per image at shape (1, 3, 256, 256)\n",
                        "\n",
                        "image 1/1 c:\\Users\\hifia\\Projects\\Marine_Debris\\datasets\\Planet\\dataset_splits_aug\\val\\images\\20170323_152750_0e20_17301-29800-16_jpg.rf.e22f38a7e8f67a05200f039e28f0c6cf.jpg: 256x256 7 debriss, 12.0ms\n",
                        "Speed: 1.0ms preprocess, 12.0ms inference, 2.1ms postprocess per image at shape (1, 3, 256, 256)\n",
                        "\n",
                        "image 1/1 c:\\Users\\hifia\\Projects\\Marine_Debris\\datasets\\Planet\\dataset_splits_aug\\val\\images\\20170323_152750_0e20_17301-29800-16_jpg_0.000000.jpg: 256x256 6 debriss, 21.0ms\n",
                        "Speed: 0.0ms preprocess, 21.0ms inference, 4.0ms postprocess per image at shape (1, 3, 256, 256)\n",
                        "\n",
                        "image 1/1 c:\\Users\\hifia\\Projects\\Marine_Debris\\datasets\\Planet\\dataset_splits_aug\\val\\images\\20170323_152750_0e20_17301-29800-16_jpg_1.000000.jpg: 256x256 7 debriss, 12.1ms\n",
                        "Speed: 0.0ms preprocess, 12.1ms inference, 2.0ms postprocess per image at shape (1, 3, 256, 256)\n"
                    ]
                },
                {
                    "name": "stderr",
                    "output_type": "stream",
                    "text": [
                        " 25%|██▍       | 141/574 [00:03<00:10, 41.54it/s]"
                    ]
                },
                {
                    "name": "stdout",
                    "output_type": "stream",
                    "text": [
                        "\n",
                        "image 1/1 c:\\Users\\hifia\\Projects\\Marine_Debris\\datasets\\Planet\\dataset_splits_aug\\val\\images\\20170323_152750_0e20_17301-29800-16_jpg_2.000000.jpg: 256x256 8 debriss, 11.0ms\n",
                        "Speed: 0.0ms preprocess, 11.0ms inference, 1.0ms postprocess per image at shape (1, 3, 256, 256)\n",
                        "\n",
                        "image 1/1 c:\\Users\\hifia\\Projects\\Marine_Debris\\datasets\\Planet\\dataset_splits_aug\\val\\images\\20170323_152750_0e20_17301-29800-16_jpg_3.000000.jpg: 256x256 8 debriss, 12.6ms\n",
                        "Speed: 1.0ms preprocess, 12.6ms inference, 2.0ms postprocess per image at shape (1, 3, 256, 256)\n",
                        "\n",
                        "image 1/1 c:\\Users\\hifia\\Projects\\Marine_Debris\\datasets\\Planet\\dataset_splits_aug\\val\\images\\20170323_152750_0e20_17301-29800-16_jpg_4.000000.jpg: 256x256 7 debriss, 12.1ms\n",
                        "Speed: 0.0ms preprocess, 12.1ms inference, 1.0ms postprocess per image at shape (1, 3, 256, 256)\n",
                        "\n",
                        "image 1/1 c:\\Users\\hifia\\Projects\\Marine_Debris\\datasets\\Planet\\dataset_splits_aug\\val\\images\\20170323_152750_0e20_17303-29803-16_jpg.rf.c07da1db9206e743c483f892efd2bd7d.jpg: 256x256 1 debris, 13.0ms\n",
                        "Speed: 0.0ms preprocess, 13.0ms inference, 2.0ms postprocess per image at shape (1, 3, 256, 256)\n",
                        "\n",
                        "image 1/1 c:\\Users\\hifia\\Projects\\Marine_Debris\\datasets\\Planet\\dataset_splits_aug\\val\\images\\20170323_152750_0e20_17303-29803-16_jpg_0.000000.jpg: 256x256 1 debris, 11.0ms\n",
                        "Speed: 1.0ms preprocess, 11.0ms inference, 2.2ms postprocess per image at shape (1, 3, 256, 256)\n"
                    ]
                },
                {
                    "name": "stderr",
                    "output_type": "stream",
                    "text": [
                        " 25%|██▌       | 146/574 [00:03<00:10, 42.28it/s]"
                    ]
                },
                {
                    "name": "stdout",
                    "output_type": "stream",
                    "text": [
                        "\n",
                        "image 1/1 c:\\Users\\hifia\\Projects\\Marine_Debris\\datasets\\Planet\\dataset_splits_aug\\val\\images\\20170323_152750_0e20_17303-29803-16_jpg_1.000000.jpg: 256x256 1 debris, 12.0ms\n",
                        "Speed: 0.0ms preprocess, 12.0ms inference, 2.0ms postprocess per image at shape (1, 3, 256, 256)\n",
                        "\n",
                        "image 1/1 c:\\Users\\hifia\\Projects\\Marine_Debris\\datasets\\Planet\\dataset_splits_aug\\val\\images\\20170323_152750_0e20_17303-29803-16_jpg_2.000000.jpg: 256x256 1 debris, 20.1ms\n",
                        "Speed: 0.0ms preprocess, 20.1ms inference, 1.0ms postprocess per image at shape (1, 3, 256, 256)\n",
                        "\n",
                        "image 1/1 c:\\Users\\hifia\\Projects\\Marine_Debris\\datasets\\Planet\\dataset_splits_aug\\val\\images\\20170323_152750_0e20_17303-29803-16_jpg_3.000000.jpg: 256x256 1 debris, 14.0ms\n",
                        "Speed: 1.0ms preprocess, 14.0ms inference, 1.0ms postprocess per image at shape (1, 3, 256, 256)\n",
                        "\n",
                        "image 1/1 c:\\Users\\hifia\\Projects\\Marine_Debris\\datasets\\Planet\\dataset_splits_aug\\val\\images\\20170323_152750_0e20_17303-29803-16_jpg_4.000000.jpg: 256x256 1 debris, 17.1ms\n",
                        "Speed: 1.0ms preprocess, 17.1ms inference, 1.0ms postprocess per image at shape (1, 3, 256, 256)\n",
                        "\n",
                        "image 1/1 c:\\Users\\hifia\\Projects\\Marine_Debris\\datasets\\Planet\\dataset_splits_aug\\val\\images\\20170326_153233_0e26_17058-29748-16_jpg.rf.7f953a579f274388ee8b68e59e1fd04d.jpg: 256x256 (no detections), 11.0ms\n",
                        "Speed: 1.0ms preprocess, 11.0ms inference, 0.0ms postprocess per image at shape (1, 3, 256, 256)\n"
                    ]
                },
                {
                    "name": "stderr",
                    "output_type": "stream",
                    "text": [
                        " 26%|██▋       | 151/574 [00:03<00:10, 41.51it/s]"
                    ]
                },
                {
                    "name": "stdout",
                    "output_type": "stream",
                    "text": [
                        "\n",
                        "image 1/1 c:\\Users\\hifia\\Projects\\Marine_Debris\\datasets\\Planet\\dataset_splits_aug\\val\\images\\20170326_153233_0e26_17058-29748-16_jpg_0.000000.jpg: 256x256 1 debris, 25.1ms\n",
                        "Speed: 1.1ms preprocess, 25.1ms inference, 4.0ms postprocess per image at shape (1, 3, 256, 256)\n",
                        "\n",
                        "image 1/1 c:\\Users\\hifia\\Projects\\Marine_Debris\\datasets\\Planet\\dataset_splits_aug\\val\\images\\20170326_153233_0e26_17058-29748-16_jpg_1.000000.jpg: 256x256 1 debris, 12.0ms\n",
                        "Speed: 1.0ms preprocess, 12.0ms inference, 1.0ms postprocess per image at shape (1, 3, 256, 256)\n",
                        "\n",
                        "image 1/1 c:\\Users\\hifia\\Projects\\Marine_Debris\\datasets\\Planet\\dataset_splits_aug\\val\\images\\20170326_153233_0e26_17058-29748-16_jpg_2.000000.jpg: 256x256 (no detections), 11.0ms\n",
                        "Speed: 1.0ms preprocess, 11.0ms inference, 1.0ms postprocess per image at shape (1, 3, 256, 256)\n",
                        "\n",
                        "image 1/1 c:\\Users\\hifia\\Projects\\Marine_Debris\\datasets\\Planet\\dataset_splits_aug\\val\\images\\20170326_153233_0e26_17058-29748-16_jpg_3.000000.jpg: 256x256 (no detections), 12.0ms\n",
                        "Speed: 0.0ms preprocess, 12.0ms inference, 1.0ms postprocess per image at shape (1, 3, 256, 256)\n",
                        "\n",
                        "image 1/1 c:\\Users\\hifia\\Projects\\Marine_Debris\\datasets\\Planet\\dataset_splits_aug\\val\\images\\20170326_153233_0e26_17058-29748-16_jpg_4.000000.jpg: 256x256 (no detections), 12.3ms\n",
                        "Speed: 0.0ms preprocess, 12.3ms inference, 0.0ms postprocess per image at shape (1, 3, 256, 256)\n"
                    ]
                },
                {
                    "name": "stderr",
                    "output_type": "stream",
                    "text": [
                        " 27%|██▋       | 156/574 [00:03<00:10, 41.73it/s]"
                    ]
                },
                {
                    "name": "stdout",
                    "output_type": "stream",
                    "text": [
                        "\n",
                        "image 1/1 c:\\Users\\hifia\\Projects\\Marine_Debris\\datasets\\Planet\\dataset_splits_aug\\val\\images\\20170326_153233_0e26_17059-29748-16_jpg.rf.b35cb2cd4ff57bc24b45f5eeccfba043.jpg: 256x256 7 debriss, 23.2ms\n",
                        "Speed: 1.0ms preprocess, 23.2ms inference, 4.0ms postprocess per image at shape (1, 3, 256, 256)\n",
                        "\n",
                        "image 1/1 c:\\Users\\hifia\\Projects\\Marine_Debris\\datasets\\Planet\\dataset_splits_aug\\val\\images\\20170326_153233_0e26_17059-29748-16_jpg_0.000000.jpg: 256x256 7 debriss, 15.1ms\n",
                        "Speed: 0.0ms preprocess, 15.1ms inference, 3.0ms postprocess per image at shape (1, 3, 256, 256)\n",
                        "\n",
                        "image 1/1 c:\\Users\\hifia\\Projects\\Marine_Debris\\datasets\\Planet\\dataset_splits_aug\\val\\images\\20170326_153233_0e26_17059-29748-16_jpg_1.000000.jpg: 256x256 6 debriss, 14.6ms\n",
                        "Speed: 1.0ms preprocess, 14.6ms inference, 2.0ms postprocess per image at shape (1, 3, 256, 256)\n",
                        "\n",
                        "image 1/1 c:\\Users\\hifia\\Projects\\Marine_Debris\\datasets\\Planet\\dataset_splits_aug\\val\\images\\20170326_153233_0e26_17059-29748-16_jpg_2.000000.jpg: 256x256 6 debriss, 10.8ms\n",
                        "Speed: 1.0ms preprocess, 10.8ms inference, 1.0ms postprocess per image at shape (1, 3, 256, 256)\n",
                        "\n",
                        "image 1/1 c:\\Users\\hifia\\Projects\\Marine_Debris\\datasets\\Planet\\dataset_splits_aug\\val\\images\\20170326_153233_0e26_17059-29748-16_jpg_3.000000.jpg: 256x256 6 debriss, 12.0ms\n",
                        "Speed: 0.0ms preprocess, 12.0ms inference, 1.0ms postprocess per image at shape (1, 3, 256, 256)\n"
                    ]
                },
                {
                    "name": "stderr",
                    "output_type": "stream",
                    "text": [
                        " 28%|██▊       | 161/574 [00:03<00:10, 40.53it/s]"
                    ]
                },
                {
                    "name": "stdout",
                    "output_type": "stream",
                    "text": [
                        "\n",
                        "image 1/1 c:\\Users\\hifia\\Projects\\Marine_Debris\\datasets\\Planet\\dataset_splits_aug\\val\\images\\20170326_153233_0e26_17059-29748-16_jpg_4.000000.jpg: 256x256 6 debriss, 12.1ms\n",
                        "Speed: 0.0ms preprocess, 12.1ms inference, 1.1ms postprocess per image at shape (1, 3, 256, 256)\n",
                        "\n",
                        "image 1/1 c:\\Users\\hifia\\Projects\\Marine_Debris\\datasets\\Planet\\dataset_splits_aug\\val\\images\\20170326_153233_0e26_17064-29743-16_jpg.rf.8eed728dee1df689154a9cbaf2e66a43.jpg: 256x256 1 debris, 12.2ms\n",
                        "Speed: 1.0ms preprocess, 12.2ms inference, 1.0ms postprocess per image at shape (1, 3, 256, 256)\n",
                        "\n",
                        "image 1/1 c:\\Users\\hifia\\Projects\\Marine_Debris\\datasets\\Planet\\dataset_splits_aug\\val\\images\\20170326_153233_0e26_17064-29743-16_jpg_0.000000.jpg: 256x256 2 debriss, 12.6ms\n",
                        "Speed: 0.0ms preprocess, 12.6ms inference, 1.0ms postprocess per image at shape (1, 3, 256, 256)\n",
                        "\n",
                        "image 1/1 c:\\Users\\hifia\\Projects\\Marine_Debris\\datasets\\Planet\\dataset_splits_aug\\val\\images\\20170326_153233_0e26_17064-29743-16_jpg_1.000000.jpg: 256x256 2 debriss, 12.0ms\n",
                        "Speed: 1.0ms preprocess, 12.0ms inference, 1.0ms postprocess per image at shape (1, 3, 256, 256)\n",
                        "\n",
                        "image 1/1 c:\\Users\\hifia\\Projects\\Marine_Debris\\datasets\\Planet\\dataset_splits_aug\\val\\images\\20170326_153233_0e26_17064-29743-16_jpg_2.000000.jpg: 256x256 2 debriss, 12.2ms\n",
                        "Speed: 1.0ms preprocess, 12.2ms inference, 1.0ms postprocess per image at shape (1, 3, 256, 256)\n"
                    ]
                },
                {
                    "name": "stderr",
                    "output_type": "stream",
                    "text": [
                        " 29%|██▉       | 166/574 [00:04<00:09, 41.90it/s]"
                    ]
                },
                {
                    "name": "stdout",
                    "output_type": "stream",
                    "text": [
                        "\n",
                        "image 1/1 c:\\Users\\hifia\\Projects\\Marine_Debris\\datasets\\Planet\\dataset_splits_aug\\val\\images\\20170326_153233_0e26_17064-29743-16_jpg_3.000000.jpg: 256x256 3 debriss, 10.0ms\n",
                        "Speed: 1.0ms preprocess, 10.0ms inference, 1.0ms postprocess per image at shape (1, 3, 256, 256)\n",
                        "\n",
                        "image 1/1 c:\\Users\\hifia\\Projects\\Marine_Debris\\datasets\\Planet\\dataset_splits_aug\\val\\images\\20170326_153233_0e26_17064-29743-16_jpg_4.000000.jpg: 256x256 2 debriss, 12.0ms\n",
                        "Speed: 1.0ms preprocess, 12.0ms inference, 1.1ms postprocess per image at shape (1, 3, 256, 256)\n",
                        "\n",
                        "image 1/1 c:\\Users\\hifia\\Projects\\Marine_Debris\\datasets\\Planet\\dataset_splits_aug\\val\\images\\20170326_153233_0e26_17067-29743-16_jpg.rf.4f34107755fd5ae9d9253698d9a6d86a.jpg: 256x256 5 debriss, 12.1ms\n",
                        "Speed: 0.0ms preprocess, 12.1ms inference, 1.0ms postprocess per image at shape (1, 3, 256, 256)\n",
                        "\n",
                        "image 1/1 c:\\Users\\hifia\\Projects\\Marine_Debris\\datasets\\Planet\\dataset_splits_aug\\val\\images\\20170326_153233_0e26_17067-29743-16_jpg_0.000000.jpg: 256x256 4 debriss, 12.0ms\n",
                        "Speed: 0.0ms preprocess, 12.0ms inference, 2.0ms postprocess per image at shape (1, 3, 256, 256)\n",
                        "\n",
                        "image 1/1 c:\\Users\\hifia\\Projects\\Marine_Debris\\datasets\\Planet\\dataset_splits_aug\\val\\images\\20170326_153233_0e26_17067-29743-16_jpg_1.000000.jpg: 256x256 3 debriss, 12.2ms\n",
                        "Speed: 0.0ms preprocess, 12.2ms inference, 2.0ms postprocess per image at shape (1, 3, 256, 256)\n"
                    ]
                },
                {
                    "name": "stderr",
                    "output_type": "stream",
                    "text": [
                        " 30%|██▉       | 171/574 [00:04<00:09, 42.93it/s]"
                    ]
                },
                {
                    "name": "stdout",
                    "output_type": "stream",
                    "text": [
                        "\n",
                        "image 1/1 c:\\Users\\hifia\\Projects\\Marine_Debris\\datasets\\Planet\\dataset_splits_aug\\val\\images\\20170326_153233_0e26_17067-29743-16_jpg_2.000000.jpg: 256x256 5 debriss, 11.0ms\n",
                        "Speed: 1.0ms preprocess, 11.0ms inference, 2.3ms postprocess per image at shape (1, 3, 256, 256)\n",
                        "\n",
                        "image 1/1 c:\\Users\\hifia\\Projects\\Marine_Debris\\datasets\\Planet\\dataset_splits_aug\\val\\images\\20170326_153233_0e26_17067-29743-16_jpg_3.000000.jpg: 256x256 7 debriss, 12.6ms\n",
                        "Speed: 1.0ms preprocess, 12.6ms inference, 1.0ms postprocess per image at shape (1, 3, 256, 256)\n",
                        "\n",
                        "image 1/1 c:\\Users\\hifia\\Projects\\Marine_Debris\\datasets\\Planet\\dataset_splits_aug\\val\\images\\20170326_153233_0e26_17067-29743-16_jpg_4.000000.jpg: 256x256 4 debriss, 11.2ms\n",
                        "Speed: 0.0ms preprocess, 11.2ms inference, 1.0ms postprocess per image at shape (1, 3, 256, 256)\n",
                        "\n",
                        "image 1/1 c:\\Users\\hifia\\Projects\\Marine_Debris\\datasets\\Planet\\dataset_splits_aug\\val\\images\\20170326_153233_0e26_17068-29739-16_jpg.rf.9a3e527bc62c0944dc992e53abda869c.jpg: 256x256 2 debriss, 12.0ms\n",
                        "Speed: 1.0ms preprocess, 12.0ms inference, 2.0ms postprocess per image at shape (1, 3, 256, 256)\n",
                        "\n",
                        "image 1/1 c:\\Users\\hifia\\Projects\\Marine_Debris\\datasets\\Planet\\dataset_splits_aug\\val\\images\\20170326_153233_0e26_17068-29739-16_jpg_0.000000.jpg: 256x256 2 debriss, 12.2ms\n",
                        "Speed: 0.0ms preprocess, 12.2ms inference, 1.0ms postprocess per image at shape (1, 3, 256, 256)\n"
                    ]
                },
                {
                    "name": "stderr",
                    "output_type": "stream",
                    "text": [
                        " 31%|███       | 176/574 [00:04<00:09, 43.89it/s]"
                    ]
                },
                {
                    "name": "stdout",
                    "output_type": "stream",
                    "text": [
                        "\n",
                        "image 1/1 c:\\Users\\hifia\\Projects\\Marine_Debris\\datasets\\Planet\\dataset_splits_aug\\val\\images\\20170326_153233_0e26_17068-29739-16_jpg_1.000000.jpg: 256x256 1 debris, 12.0ms\n",
                        "Speed: 0.0ms preprocess, 12.0ms inference, 2.0ms postprocess per image at shape (1, 3, 256, 256)\n",
                        "\n",
                        "image 1/1 c:\\Users\\hifia\\Projects\\Marine_Debris\\datasets\\Planet\\dataset_splits_aug\\val\\images\\20170326_153233_0e26_17068-29739-16_jpg_2.000000.jpg: 256x256 2 debriss, 12.2ms\n",
                        "Speed: 0.0ms preprocess, 12.2ms inference, 2.0ms postprocess per image at shape (1, 3, 256, 256)\n",
                        "\n",
                        "image 1/1 c:\\Users\\hifia\\Projects\\Marine_Debris\\datasets\\Planet\\dataset_splits_aug\\val\\images\\20170326_153233_0e26_17068-29739-16_jpg_3.000000.jpg: 256x256 2 debriss, 11.0ms\n",
                        "Speed: 0.0ms preprocess, 11.0ms inference, 1.0ms postprocess per image at shape (1, 3, 256, 256)\n",
                        "\n",
                        "image 1/1 c:\\Users\\hifia\\Projects\\Marine_Debris\\datasets\\Planet\\dataset_splits_aug\\val\\images\\20170326_153233_0e26_17068-29739-16_jpg_4.000000.jpg: 256x256 2 debriss, 12.1ms\n",
                        "Speed: 1.0ms preprocess, 12.1ms inference, 2.0ms postprocess per image at shape (1, 3, 256, 256)\n",
                        "\n",
                        "image 1/1 c:\\Users\\hifia\\Projects\\Marine_Debris\\datasets\\Planet\\dataset_splits_aug\\val\\images\\20170326_153234_0e26_17058-29749-16_jpg.rf.4707e4096548eb6d096b5d9aea52482a.jpg: 256x256 5 debriss, 12.2ms\n",
                        "Speed: 0.0ms preprocess, 12.2ms inference, 2.0ms postprocess per image at shape (1, 3, 256, 256)\n"
                    ]
                },
                {
                    "name": "stderr",
                    "output_type": "stream",
                    "text": [
                        " 32%|███▏      | 181/574 [00:04<00:08, 44.56it/s]"
                    ]
                },
                {
                    "name": "stdout",
                    "output_type": "stream",
                    "text": [
                        "\n",
                        "image 1/1 c:\\Users\\hifia\\Projects\\Marine_Debris\\datasets\\Planet\\dataset_splits_aug\\val\\images\\20170326_153234_0e26_17058-29749-16_jpg_0.000000.jpg: 256x256 5 debriss, 10.7ms\n",
                        "Speed: 0.0ms preprocess, 10.7ms inference, 2.0ms postprocess per image at shape (1, 3, 256, 256)\n",
                        "\n",
                        "image 1/1 c:\\Users\\hifia\\Projects\\Marine_Debris\\datasets\\Planet\\dataset_splits_aug\\val\\images\\20170326_153234_0e26_17058-29749-16_jpg_1.000000.jpg: 256x256 6 debriss, 18.0ms\n",
                        "Speed: 1.0ms preprocess, 18.0ms inference, 2.0ms postprocess per image at shape (1, 3, 256, 256)\n",
                        "\n",
                        "image 1/1 c:\\Users\\hifia\\Projects\\Marine_Debris\\datasets\\Planet\\dataset_splits_aug\\val\\images\\20170326_153234_0e26_17058-29749-16_jpg_2.000000.jpg: 256x256 3 debriss, 11.1ms\n",
                        "Speed: 1.0ms preprocess, 11.1ms inference, 2.0ms postprocess per image at shape (1, 3, 256, 256)\n",
                        "\n",
                        "image 1/1 c:\\Users\\hifia\\Projects\\Marine_Debris\\datasets\\Planet\\dataset_splits_aug\\val\\images\\20170326_153234_0e26_17058-29749-16_jpg_3.000000.jpg: 256x256 4 debriss, 18.1ms\n",
                        "Speed: 0.0ms preprocess, 18.1ms inference, 2.0ms postprocess per image at shape (1, 3, 256, 256)\n",
                        "\n",
                        "image 1/1 c:\\Users\\hifia\\Projects\\Marine_Debris\\datasets\\Planet\\dataset_splits_aug\\val\\images\\20170326_153234_0e26_17058-29749-16_jpg_4.000000.jpg: 256x256 4 debriss, 10.6ms\n",
                        "Speed: 1.0ms preprocess, 10.6ms inference, 2.0ms postprocess per image at shape (1, 3, 256, 256)\n"
                    ]
                },
                {
                    "name": "stderr",
                    "output_type": "stream",
                    "text": [
                        " 32%|███▏      | 186/574 [00:04<00:08, 43.44it/s]"
                    ]
                },
                {
                    "name": "stdout",
                    "output_type": "stream",
                    "text": [
                        "\n",
                        "image 1/1 c:\\Users\\hifia\\Projects\\Marine_Debris\\datasets\\Planet\\dataset_splits_aug\\val\\images\\20170326_153234_0e26_17060-29753-16_jpg.rf.317f0275ef1e75eefed7b6b7ae12c9fc.jpg: 256x256 9 debriss, 12.0ms\n",
                        "Speed: 0.0ms preprocess, 12.0ms inference, 1.0ms postprocess per image at shape (1, 3, 256, 256)\n",
                        "\n",
                        "image 1/1 c:\\Users\\hifia\\Projects\\Marine_Debris\\datasets\\Planet\\dataset_splits_aug\\val\\images\\20170326_153234_0e26_17060-29753-16_jpg_0.000000.jpg: 256x256 7 debriss, 15.0ms\n",
                        "Speed: 1.0ms preprocess, 15.0ms inference, 2.0ms postprocess per image at shape (1, 3, 256, 256)\n",
                        "\n",
                        "image 1/1 c:\\Users\\hifia\\Projects\\Marine_Debris\\datasets\\Planet\\dataset_splits_aug\\val\\images\\20170326_153234_0e26_17060-29753-16_jpg_1.000000.jpg: 256x256 9 debriss, 12.0ms\n",
                        "Speed: 0.0ms preprocess, 12.0ms inference, 2.0ms postprocess per image at shape (1, 3, 256, 256)\n",
                        "\n",
                        "image 1/1 c:\\Users\\hifia\\Projects\\Marine_Debris\\datasets\\Planet\\dataset_splits_aug\\val\\images\\20170326_153234_0e26_17060-29753-16_jpg_2.000000.jpg: 256x256 7 debriss, 11.0ms\n",
                        "Speed: 1.0ms preprocess, 11.0ms inference, 2.0ms postprocess per image at shape (1, 3, 256, 256)\n",
                        "\n",
                        "image 1/1 c:\\Users\\hifia\\Projects\\Marine_Debris\\datasets\\Planet\\dataset_splits_aug\\val\\images\\20170326_153234_0e26_17060-29753-16_jpg_3.000000.jpg: 256x256 7 debriss, 11.1ms\n",
                        "Speed: 1.0ms preprocess, 11.1ms inference, 2.0ms postprocess per image at shape (1, 3, 256, 256)\n"
                    ]
                },
                {
                    "name": "stderr",
                    "output_type": "stream",
                    "text": [
                        " 33%|███▎      | 191/574 [00:04<00:08, 43.94it/s]"
                    ]
                },
                {
                    "name": "stdout",
                    "output_type": "stream",
                    "text": [
                        "\n",
                        "image 1/1 c:\\Users\\hifia\\Projects\\Marine_Debris\\datasets\\Planet\\dataset_splits_aug\\val\\images\\20170326_153234_0e26_17060-29753-16_jpg_4.000000.jpg: 256x256 9 debriss, 11.0ms\n",
                        "Speed: 0.0ms preprocess, 11.0ms inference, 2.0ms postprocess per image at shape (1, 3, 256, 256)\n",
                        "\n",
                        "image 1/1 c:\\Users\\hifia\\Projects\\Marine_Debris\\datasets\\Planet\\dataset_splits_aug\\val\\images\\20170326_153234_0e26_17062-29755-16_jpg.rf.8421d1d9e684f387cba08f1b24da4cbd.jpg: 256x256 5 debriss, 13.0ms\n",
                        "Speed: 1.0ms preprocess, 13.0ms inference, 1.1ms postprocess per image at shape (1, 3, 256, 256)\n",
                        "\n",
                        "image 1/1 c:\\Users\\hifia\\Projects\\Marine_Debris\\datasets\\Planet\\dataset_splits_aug\\val\\images\\20170326_153234_0e26_17062-29755-16_jpg_0.000000.jpg: 256x256 5 debriss, 12.1ms\n",
                        "Speed: 0.0ms preprocess, 12.1ms inference, 2.0ms postprocess per image at shape (1, 3, 256, 256)\n",
                        "\n",
                        "image 1/1 c:\\Users\\hifia\\Projects\\Marine_Debris\\datasets\\Planet\\dataset_splits_aug\\val\\images\\20170326_153234_0e26_17062-29755-16_jpg_1.000000.jpg: 256x256 5 debriss, 23.2ms\n",
                        "Speed: 1.0ms preprocess, 23.2ms inference, 4.0ms postprocess per image at shape (1, 3, 256, 256)\n",
                        "\n",
                        "image 1/1 c:\\Users\\hifia\\Projects\\Marine_Debris\\datasets\\Planet\\dataset_splits_aug\\val\\images\\20170326_153234_0e26_17062-29755-16_jpg_2.000000.jpg: 256x256 5 debriss, 21.1ms\n",
                        "Speed: 1.0ms preprocess, 21.1ms inference, 2.0ms postprocess per image at shape (1, 3, 256, 256)\n"
                    ]
                },
                {
                    "name": "stderr",
                    "output_type": "stream",
                    "text": [
                        " 34%|███▍      | 196/574 [00:04<00:09, 41.45it/s]"
                    ]
                },
                {
                    "name": "stdout",
                    "output_type": "stream",
                    "text": [
                        "\n",
                        "image 1/1 c:\\Users\\hifia\\Projects\\Marine_Debris\\datasets\\Planet\\dataset_splits_aug\\val\\images\\20170326_153234_0e26_17062-29755-16_jpg_3.000000.jpg: 256x256 5 debriss, 11.1ms\n",
                        "Speed: 1.0ms preprocess, 11.1ms inference, 1.0ms postprocess per image at shape (1, 3, 256, 256)\n",
                        "\n",
                        "image 1/1 c:\\Users\\hifia\\Projects\\Marine_Debris\\datasets\\Planet\\dataset_splits_aug\\val\\images\\20170326_153234_0e26_17062-29755-16_jpg_4.000000.jpg: 256x256 5 debriss, 12.0ms\n",
                        "Speed: 1.0ms preprocess, 12.0ms inference, 1.0ms postprocess per image at shape (1, 3, 256, 256)\n",
                        "\n",
                        "image 1/1 c:\\Users\\hifia\\Projects\\Marine_Debris\\datasets\\Planet\\dataset_splits_aug\\val\\images\\20170326_153234_0e26_17065-29756-16_jpg.rf.3f8ca432f1cf1d57d83454058b976849.jpg: 256x256 8 debriss, 12.0ms\n",
                        "Speed: 1.0ms preprocess, 12.0ms inference, 2.0ms postprocess per image at shape (1, 3, 256, 256)\n",
                        "\n",
                        "image 1/1 c:\\Users\\hifia\\Projects\\Marine_Debris\\datasets\\Planet\\dataset_splits_aug\\val\\images\\20170326_153234_0e26_17065-29756-16_jpg_0.000000.jpg: 256x256 4 debriss, 12.2ms\n",
                        "Speed: 0.0ms preprocess, 12.2ms inference, 1.0ms postprocess per image at shape (1, 3, 256, 256)\n",
                        "\n",
                        "image 1/1 c:\\Users\\hifia\\Projects\\Marine_Debris\\datasets\\Planet\\dataset_splits_aug\\val\\images\\20170326_153234_0e26_17065-29756-16_jpg_1.000000.jpg: 256x256 7 debriss, 24.0ms\n",
                        "Speed: 0.0ms preprocess, 24.0ms inference, 3.0ms postprocess per image at shape (1, 3, 256, 256)\n"
                    ]
                },
                {
                    "name": "stderr",
                    "output_type": "stream",
                    "text": [
                        " 35%|███▌      | 201/574 [00:04<00:09, 40.88it/s]"
                    ]
                },
                {
                    "name": "stdout",
                    "output_type": "stream",
                    "text": [
                        "\n",
                        "image 1/1 c:\\Users\\hifia\\Projects\\Marine_Debris\\datasets\\Planet\\dataset_splits_aug\\val\\images\\20170326_153234_0e26_17065-29756-16_jpg_2.000000.jpg: 256x256 7 debriss, 10.5ms\n",
                        "Speed: 1.0ms preprocess, 10.5ms inference, 2.1ms postprocess per image at shape (1, 3, 256, 256)\n",
                        "\n",
                        "image 1/1 c:\\Users\\hifia\\Projects\\Marine_Debris\\datasets\\Planet\\dataset_splits_aug\\val\\images\\20170326_153234_0e26_17065-29756-16_jpg_3.000000.jpg: 256x256 6 debriss, 26.2ms\n",
                        "Speed: 1.0ms preprocess, 26.2ms inference, 4.0ms postprocess per image at shape (1, 3, 256, 256)\n",
                        "\n",
                        "image 1/1 c:\\Users\\hifia\\Projects\\Marine_Debris\\datasets\\Planet\\dataset_splits_aug\\val\\images\\20170326_153234_0e26_17065-29756-16_jpg_4.000000.jpg: 256x256 5 debriss, 11.0ms\n",
                        "Speed: 1.0ms preprocess, 11.0ms inference, 1.0ms postprocess per image at shape (1, 3, 256, 256)\n",
                        "\n",
                        "image 1/1 c:\\Users\\hifia\\Projects\\Marine_Debris\\datasets\\Planet\\dataset_splits_aug\\val\\images\\20170326_153234_0e26_17066-29756-16_jpg.rf.9fd44e6fed429e85705952a409628858.jpg: 256x256 3 debriss, 15.0ms\n",
                        "Speed: 1.0ms preprocess, 15.0ms inference, 1.0ms postprocess per image at shape (1, 3, 256, 256)\n",
                        "\n",
                        "image 1/1 c:\\Users\\hifia\\Projects\\Marine_Debris\\datasets\\Planet\\dataset_splits_aug\\val\\images\\20170326_153234_0e26_17066-29756-16_jpg_0.000000.jpg: 256x256 4 debriss, 15.8ms\n",
                        "Speed: 1.0ms preprocess, 15.8ms inference, 1.0ms postprocess per image at shape (1, 3, 256, 256)\n"
                    ]
                },
                {
                    "name": "stderr",
                    "output_type": "stream",
                    "text": [
                        " 36%|███▌      | 206/574 [00:05<00:09, 39.83it/s]"
                    ]
                },
                {
                    "name": "stdout",
                    "output_type": "stream",
                    "text": [
                        "\n",
                        "image 1/1 c:\\Users\\hifia\\Projects\\Marine_Debris\\datasets\\Planet\\dataset_splits_aug\\val\\images\\20170326_153234_0e26_17066-29756-16_jpg_1.000000.jpg: 256x256 3 debriss, 13.0ms\n",
                        "Speed: 1.0ms preprocess, 13.0ms inference, 2.0ms postprocess per image at shape (1, 3, 256, 256)\n",
                        "\n",
                        "image 1/1 c:\\Users\\hifia\\Projects\\Marine_Debris\\datasets\\Planet\\dataset_splits_aug\\val\\images\\20170326_153234_0e26_17066-29756-16_jpg_2.000000.jpg: 256x256 3 debriss, 12.0ms\n",
                        "Speed: 1.0ms preprocess, 12.0ms inference, 1.0ms postprocess per image at shape (1, 3, 256, 256)\n",
                        "\n",
                        "image 1/1 c:\\Users\\hifia\\Projects\\Marine_Debris\\datasets\\Planet\\dataset_splits_aug\\val\\images\\20170326_153234_0e26_17066-29756-16_jpg_3.000000.jpg: 256x256 5 debriss, 13.1ms\n",
                        "Speed: 0.0ms preprocess, 13.1ms inference, 1.0ms postprocess per image at shape (1, 3, 256, 256)\n",
                        "\n",
                        "image 1/1 c:\\Users\\hifia\\Projects\\Marine_Debris\\datasets\\Planet\\dataset_splits_aug\\val\\images\\20170326_153234_0e26_17066-29756-16_jpg_4.000000.jpg: 256x256 4 debriss, 11.5ms\n",
                        "Speed: 0.0ms preprocess, 11.5ms inference, 2.0ms postprocess per image at shape (1, 3, 256, 256)\n",
                        "\n",
                        "image 1/1 c:\\Users\\hifia\\Projects\\Marine_Debris\\datasets\\Planet\\dataset_splits_aug\\val\\images\\20170326_153234_0e26_17066-29757-16_jpg.rf.2515b148f6171ffc173166f475349f16.jpg: 256x256 3 debriss, 12.0ms\n",
                        "Speed: 1.0ms preprocess, 12.0ms inference, 1.0ms postprocess per image at shape (1, 3, 256, 256)\n"
                    ]
                },
                {
                    "name": "stderr",
                    "output_type": "stream",
                    "text": [
                        " 37%|███▋      | 211/574 [00:05<00:08, 40.74it/s]"
                    ]
                },
                {
                    "name": "stdout",
                    "output_type": "stream",
                    "text": [
                        "\n",
                        "image 1/1 c:\\Users\\hifia\\Projects\\Marine_Debris\\datasets\\Planet\\dataset_splits_aug\\val\\images\\20170326_153234_0e26_17066-29757-16_jpg_0.000000.jpg: 256x256 2 debriss, 12.0ms\n",
                        "Speed: 0.0ms preprocess, 12.0ms inference, 2.0ms postprocess per image at shape (1, 3, 256, 256)\n",
                        "\n",
                        "image 1/1 c:\\Users\\hifia\\Projects\\Marine_Debris\\datasets\\Planet\\dataset_splits_aug\\val\\images\\20170326_153234_0e26_17066-29757-16_jpg_1.000000.jpg: 256x256 2 debriss, 14.0ms\n",
                        "Speed: 1.0ms preprocess, 14.0ms inference, 2.0ms postprocess per image at shape (1, 3, 256, 256)\n",
                        "\n",
                        "image 1/1 c:\\Users\\hifia\\Projects\\Marine_Debris\\datasets\\Planet\\dataset_splits_aug\\val\\images\\20170326_153234_0e26_17066-29757-16_jpg_2.000000.jpg: 256x256 3 debriss, 12.1ms\n",
                        "Speed: 0.0ms preprocess, 12.1ms inference, 1.0ms postprocess per image at shape (1, 3, 256, 256)\n",
                        "\n",
                        "image 1/1 c:\\Users\\hifia\\Projects\\Marine_Debris\\datasets\\Planet\\dataset_splits_aug\\val\\images\\20170326_153234_0e26_17066-29757-16_jpg_3.000000.jpg: 256x256 2 debriss, 26.2ms\n",
                        "Speed: 1.0ms preprocess, 26.2ms inference, 3.0ms postprocess per image at shape (1, 3, 256, 256)\n",
                        "\n",
                        "image 1/1 c:\\Users\\hifia\\Projects\\Marine_Debris\\datasets\\Planet\\dataset_splits_aug\\val\\images\\20170326_153234_0e26_17066-29757-16_jpg_4.000000.jpg: 256x256 2 debriss, 18.3ms\n",
                        "Speed: 0.0ms preprocess, 18.3ms inference, 3.0ms postprocess per image at shape (1, 3, 256, 256)\n"
                    ]
                },
                {
                    "name": "stderr",
                    "output_type": "stream",
                    "text": [
                        " 38%|███▊      | 216/574 [00:05<00:09, 39.23it/s]"
                    ]
                },
                {
                    "name": "stdout",
                    "output_type": "stream",
                    "text": [
                        "\n",
                        "image 1/1 c:\\Users\\hifia\\Projects\\Marine_Debris\\datasets\\Planet\\dataset_splits_aug\\val\\images\\20170326_153234_0e26_17067-29756-16_jpg.rf.97758d6c1d745921b4a8174fd9e28397.jpg: 256x256 1 debris, 12.0ms\n",
                        "Speed: 0.0ms preprocess, 12.0ms inference, 3.2ms postprocess per image at shape (1, 3, 256, 256)\n",
                        "\n",
                        "image 1/1 c:\\Users\\hifia\\Projects\\Marine_Debris\\datasets\\Planet\\dataset_splits_aug\\val\\images\\20170326_153234_0e26_17067-29756-16_jpg_0.000000.jpg: 256x256 1 debris, 27.1ms\n",
                        "Speed: 2.2ms preprocess, 27.1ms inference, 3.0ms postprocess per image at shape (1, 3, 256, 256)\n",
                        "\n",
                        "image 1/1 c:\\Users\\hifia\\Projects\\Marine_Debris\\datasets\\Planet\\dataset_splits_aug\\val\\images\\20170326_153234_0e26_17067-29756-16_jpg_1.000000.jpg: 256x256 1 debris, 10.2ms\n",
                        "Speed: 1.0ms preprocess, 10.2ms inference, 2.2ms postprocess per image at shape (1, 3, 256, 256)\n",
                        "\n",
                        "image 1/1 c:\\Users\\hifia\\Projects\\Marine_Debris\\datasets\\Planet\\dataset_splits_aug\\val\\images\\20170326_153234_0e26_17067-29756-16_jpg_2.000000.jpg: 256x256 1 debris, 13.0ms\n",
                        "Speed: 0.0ms preprocess, 13.0ms inference, 1.0ms postprocess per image at shape (1, 3, 256, 256)\n"
                    ]
                },
                {
                    "name": "stderr",
                    "output_type": "stream",
                    "text": [
                        " 38%|███▊      | 220/574 [00:05<00:09, 38.83it/s]"
                    ]
                },
                {
                    "name": "stdout",
                    "output_type": "stream",
                    "text": [
                        "\n",
                        "image 1/1 c:\\Users\\hifia\\Projects\\Marine_Debris\\datasets\\Planet\\dataset_splits_aug\\val\\images\\20170326_153234_0e26_17067-29756-16_jpg_3.000000.jpg: 256x256 1 debris, 12.0ms\n",
                        "Speed: 0.0ms preprocess, 12.0ms inference, 1.0ms postprocess per image at shape (1, 3, 256, 256)\n",
                        "\n",
                        "image 1/1 c:\\Users\\hifia\\Projects\\Marine_Debris\\datasets\\Planet\\dataset_splits_aug\\val\\images\\20170326_153234_0e26_17067-29756-16_jpg_4.000000.jpg: 256x256 1 debris, 14.2ms\n",
                        "Speed: 0.0ms preprocess, 14.2ms inference, 2.1ms postprocess per image at shape (1, 3, 256, 256)\n",
                        "\n",
                        "image 1/1 c:\\Users\\hifia\\Projects\\Marine_Debris\\datasets\\Planet\\dataset_splits_aug\\val\\images\\20170326_153234_0e26_17068-29758-16_jpg.rf.223e4d4af5039bb6308c9658dc78394e.jpg: 256x256 2 debriss, 13.6ms\n",
                        "Speed: 1.0ms preprocess, 13.6ms inference, 2.0ms postprocess per image at shape (1, 3, 256, 256)\n",
                        "\n",
                        "image 1/1 c:\\Users\\hifia\\Projects\\Marine_Debris\\datasets\\Planet\\dataset_splits_aug\\val\\images\\20170326_153234_0e26_17068-29758-16_jpg_0.000000.jpg: 256x256 1 debris, 12.0ms\n",
                        "Speed: 1.0ms preprocess, 12.0ms inference, 2.0ms postprocess per image at shape (1, 3, 256, 256)\n",
                        "\n",
                        "image 1/1 c:\\Users\\hifia\\Projects\\Marine_Debris\\datasets\\Planet\\dataset_splits_aug\\val\\images\\20170326_153234_0e26_17068-29758-16_jpg_1.000000.jpg: 256x256 1 debris, 25.0ms\n",
                        "Speed: 1.0ms preprocess, 25.0ms inference, 3.5ms postprocess per image at shape (1, 3, 256, 256)\n"
                    ]
                },
                {
                    "name": "stderr",
                    "output_type": "stream",
                    "text": [
                        " 39%|███▉      | 225/574 [00:05<00:09, 38.58it/s]"
                    ]
                },
                {
                    "name": "stdout",
                    "output_type": "stream",
                    "text": [
                        "\n",
                        "image 1/1 c:\\Users\\hifia\\Projects\\Marine_Debris\\datasets\\Planet\\dataset_splits_aug\\val\\images\\20170326_153234_0e26_17068-29758-16_jpg_2.000000.jpg: 256x256 3 debriss, 11.0ms\n",
                        "Speed: 0.0ms preprocess, 11.0ms inference, 2.0ms postprocess per image at shape (1, 3, 256, 256)\n",
                        "\n",
                        "image 1/1 c:\\Users\\hifia\\Projects\\Marine_Debris\\datasets\\Planet\\dataset_splits_aug\\val\\images\\20170326_153234_0e26_17068-29758-16_jpg_3.000000.jpg: 256x256 1 debris, 13.1ms\n",
                        "Speed: 1.0ms preprocess, 13.1ms inference, 2.0ms postprocess per image at shape (1, 3, 256, 256)\n",
                        "\n",
                        "image 1/1 c:\\Users\\hifia\\Projects\\Marine_Debris\\datasets\\Planet\\dataset_splits_aug\\val\\images\\20170326_153234_0e26_17068-29758-16_jpg_4.000000.jpg: 256x256 2 debriss, 11.3ms\n",
                        "Speed: 1.2ms preprocess, 11.3ms inference, 1.0ms postprocess per image at shape (1, 3, 256, 256)\n",
                        "\n",
                        "image 1/1 c:\\Users\\hifia\\Projects\\Marine_Debris\\datasets\\Planet\\dataset_splits_aug\\val\\images\\20170326_153234_0e26_17069-29761-16_jpg.rf.618987525d98f94b293d58e9ece4f968.jpg: 256x256 3 debriss, 21.0ms\n",
                        "Speed: 0.0ms preprocess, 21.0ms inference, 2.0ms postprocess per image at shape (1, 3, 256, 256)\n",
                        "\n",
                        "image 1/1 c:\\Users\\hifia\\Projects\\Marine_Debris\\datasets\\Planet\\dataset_splits_aug\\val\\images\\20170326_153234_0e26_17069-29761-16_jpg_0.000000.jpg: 256x256 2 debriss, 10.2ms\n",
                        "Speed: 1.0ms preprocess, 10.2ms inference, 2.0ms postprocess per image at shape (1, 3, 256, 256)\n"
                    ]
                },
                {
                    "name": "stderr",
                    "output_type": "stream",
                    "text": [
                        " 40%|████      | 230/574 [00:05<00:08, 39.59it/s]"
                    ]
                },
                {
                    "name": "stdout",
                    "output_type": "stream",
                    "text": [
                        "\n",
                        "image 1/1 c:\\Users\\hifia\\Projects\\Marine_Debris\\datasets\\Planet\\dataset_splits_aug\\val\\images\\20170326_153234_0e26_17069-29761-16_jpg_1.000000.jpg: 256x256 2 debriss, 22.0ms\n",
                        "Speed: 0.0ms preprocess, 22.0ms inference, 2.0ms postprocess per image at shape (1, 3, 256, 256)\n",
                        "\n",
                        "image 1/1 c:\\Users\\hifia\\Projects\\Marine_Debris\\datasets\\Planet\\dataset_splits_aug\\val\\images\\20170326_153234_0e26_17069-29761-16_jpg_2.000000.jpg: 256x256 3 debriss, 12.2ms\n",
                        "Speed: 1.0ms preprocess, 12.2ms inference, 1.0ms postprocess per image at shape (1, 3, 256, 256)\n",
                        "\n",
                        "image 1/1 c:\\Users\\hifia\\Projects\\Marine_Debris\\datasets\\Planet\\dataset_splits_aug\\val\\images\\20170326_153234_0e26_17069-29761-16_jpg_3.000000.jpg: 256x256 2 debriss, 12.3ms\n",
                        "Speed: 0.0ms preprocess, 12.3ms inference, 2.0ms postprocess per image at shape (1, 3, 256, 256)\n",
                        "\n",
                        "image 1/1 c:\\Users\\hifia\\Projects\\Marine_Debris\\datasets\\Planet\\dataset_splits_aug\\val\\images\\20170326_153234_0e26_17069-29761-16_jpg_4.000000.jpg: 256x256 2 debriss, 12.0ms\n",
                        "Speed: 1.0ms preprocess, 12.0ms inference, 2.0ms postprocess per image at shape (1, 3, 256, 256)\n",
                        "\n",
                        "image 1/1 c:\\Users\\hifia\\Projects\\Marine_Debris\\datasets\\Planet\\dataset_splits_aug\\val\\images\\20170326_153234_0e26_17072-29762-16_jpg.rf.d11160fd8d2624f05827e15806adb7c2.jpg: 256x256 3 debriss, 12.0ms\n",
                        "Speed: 0.0ms preprocess, 12.0ms inference, 2.0ms postprocess per image at shape (1, 3, 256, 256)\n"
                    ]
                },
                {
                    "name": "stderr",
                    "output_type": "stream",
                    "text": [
                        " 41%|████      | 235/574 [00:05<00:08, 39.99it/s]"
                    ]
                },
                {
                    "name": "stdout",
                    "output_type": "stream",
                    "text": [
                        "\n",
                        "image 1/1 c:\\Users\\hifia\\Projects\\Marine_Debris\\datasets\\Planet\\dataset_splits_aug\\val\\images\\20170326_153234_0e26_17072-29762-16_jpg_0.000000.jpg: 256x256 3 debriss, 12.4ms\n",
                        "Speed: 1.0ms preprocess, 12.4ms inference, 1.0ms postprocess per image at shape (1, 3, 256, 256)\n",
                        "\n",
                        "image 1/1 c:\\Users\\hifia\\Projects\\Marine_Debris\\datasets\\Planet\\dataset_splits_aug\\val\\images\\20170326_153234_0e26_17072-29762-16_jpg_1.000000.jpg: 256x256 3 debriss, 13.2ms\n",
                        "Speed: 0.0ms preprocess, 13.2ms inference, 1.0ms postprocess per image at shape (1, 3, 256, 256)\n",
                        "\n",
                        "image 1/1 c:\\Users\\hifia\\Projects\\Marine_Debris\\datasets\\Planet\\dataset_splits_aug\\val\\images\\20170326_153234_0e26_17072-29762-16_jpg_2.000000.jpg: 256x256 3 debriss, 11.5ms\n",
                        "Speed: 1.0ms preprocess, 11.5ms inference, 2.0ms postprocess per image at shape (1, 3, 256, 256)\n",
                        "\n",
                        "image 1/1 c:\\Users\\hifia\\Projects\\Marine_Debris\\datasets\\Planet\\dataset_splits_aug\\val\\images\\20170326_153234_0e26_17072-29762-16_jpg_3.000000.jpg: 256x256 4 debriss, 14.0ms\n",
                        "Speed: 0.0ms preprocess, 14.0ms inference, 2.0ms postprocess per image at shape (1, 3, 256, 256)\n",
                        "\n",
                        "image 1/1 c:\\Users\\hifia\\Projects\\Marine_Debris\\datasets\\Planet\\dataset_splits_aug\\val\\images\\20170326_153234_0e26_17072-29762-16_jpg_4.000000.jpg: 256x256 3 debriss, 12.0ms\n",
                        "Speed: 0.0ms preprocess, 12.0ms inference, 2.0ms postprocess per image at shape (1, 3, 256, 256)\n"
                    ]
                },
                {
                    "name": "stderr",
                    "output_type": "stream",
                    "text": [
                        " 42%|████▏     | 240/574 [00:05<00:08, 40.94it/s]"
                    ]
                },
                {
                    "name": "stdout",
                    "output_type": "stream",
                    "text": [
                        "\n",
                        "image 1/1 c:\\Users\\hifia\\Projects\\Marine_Debris\\datasets\\Planet\\dataset_splits_aug\\val\\images\\20170326_154021_0e2f_16743-29701-16_jpg.rf.41b5faa5bed70d9a81afe38362ec50fc.jpg: 256x256 5 debriss, 13.0ms\n",
                        "Speed: 1.1ms preprocess, 13.0ms inference, 1.0ms postprocess per image at shape (1, 3, 256, 256)\n",
                        "\n",
                        "image 1/1 c:\\Users\\hifia\\Projects\\Marine_Debris\\datasets\\Planet\\dataset_splits_aug\\val\\images\\20170326_154021_0e2f_16743-29701-16_jpg_0.000000.jpg: 256x256 4 debriss, 12.8ms\n",
                        "Speed: 1.0ms preprocess, 12.8ms inference, 2.0ms postprocess per image at shape (1, 3, 256, 256)\n",
                        "\n",
                        "image 1/1 c:\\Users\\hifia\\Projects\\Marine_Debris\\datasets\\Planet\\dataset_splits_aug\\val\\images\\20170326_154021_0e2f_16743-29701-16_jpg_1.000000.jpg: 256x256 3 debriss, 12.3ms\n",
                        "Speed: 0.0ms preprocess, 12.3ms inference, 2.1ms postprocess per image at shape (1, 3, 256, 256)\n",
                        "\n",
                        "image 1/1 c:\\Users\\hifia\\Projects\\Marine_Debris\\datasets\\Planet\\dataset_splits_aug\\val\\images\\20170326_154021_0e2f_16743-29701-16_jpg_2.000000.jpg: 256x256 5 debriss, 11.2ms\n",
                        "Speed: 1.0ms preprocess, 11.2ms inference, 1.0ms postprocess per image at shape (1, 3, 256, 256)\n",
                        "\n",
                        "image 1/1 c:\\Users\\hifia\\Projects\\Marine_Debris\\datasets\\Planet\\dataset_splits_aug\\val\\images\\20170326_154021_0e2f_16743-29701-16_jpg_3.000000.jpg: 256x256 3 debriss, 15.0ms\n",
                        "Speed: 0.0ms preprocess, 15.0ms inference, 2.4ms postprocess per image at shape (1, 3, 256, 256)\n"
                    ]
                },
                {
                    "name": "stderr",
                    "output_type": "stream",
                    "text": [
                        " 43%|████▎     | 245/574 [00:05<00:07, 41.25it/s]"
                    ]
                },
                {
                    "name": "stdout",
                    "output_type": "stream",
                    "text": [
                        "\n",
                        "image 1/1 c:\\Users\\hifia\\Projects\\Marine_Debris\\datasets\\Planet\\dataset_splits_aug\\val\\images\\20170326_154021_0e2f_16743-29701-16_jpg_4.000000.jpg: 256x256 4 debriss, 12.2ms\n",
                        "Speed: 0.0ms preprocess, 12.2ms inference, 1.5ms postprocess per image at shape (1, 3, 256, 256)\n",
                        "\n",
                        "image 1/1 c:\\Users\\hifia\\Projects\\Marine_Debris\\datasets\\Planet\\dataset_splits_aug\\val\\images\\20170326_154021_0e2f_16753-29706-16_jpg.rf.76538cc87b073ddcabd7369d098ad5a9.jpg: 256x256 2 debriss, 14.0ms\n",
                        "Speed: 1.0ms preprocess, 14.0ms inference, 1.0ms postprocess per image at shape (1, 3, 256, 256)\n",
                        "\n",
                        "image 1/1 c:\\Users\\hifia\\Projects\\Marine_Debris\\datasets\\Planet\\dataset_splits_aug\\val\\images\\20170326_154021_0e2f_16753-29706-16_jpg_0.000000.jpg: 256x256 2 debriss, 12.0ms\n",
                        "Speed: 0.0ms preprocess, 12.0ms inference, 1.5ms postprocess per image at shape (1, 3, 256, 256)\n",
                        "\n",
                        "image 1/1 c:\\Users\\hifia\\Projects\\Marine_Debris\\datasets\\Planet\\dataset_splits_aug\\val\\images\\20170326_154021_0e2f_16753-29706-16_jpg_1.000000.jpg: 256x256 2 debriss, 12.0ms\n",
                        "Speed: 0.0ms preprocess, 12.0ms inference, 2.0ms postprocess per image at shape (1, 3, 256, 256)\n",
                        "\n",
                        "image 1/1 c:\\Users\\hifia\\Projects\\Marine_Debris\\datasets\\Planet\\dataset_splits_aug\\val\\images\\20170326_154021_0e2f_16753-29706-16_jpg_2.000000.jpg: 256x256 2 debriss, 11.0ms\n",
                        "Speed: 1.0ms preprocess, 11.0ms inference, 2.0ms postprocess per image at shape (1, 3, 256, 256)\n"
                    ]
                },
                {
                    "name": "stderr",
                    "output_type": "stream",
                    "text": [
                        " 44%|████▎     | 250/574 [00:06<00:07, 41.88it/s]"
                    ]
                },
                {
                    "name": "stdout",
                    "output_type": "stream",
                    "text": [
                        "\n",
                        "image 1/1 c:\\Users\\hifia\\Projects\\Marine_Debris\\datasets\\Planet\\dataset_splits_aug\\val\\images\\20170326_154021_0e2f_16753-29706-16_jpg_3.000000.jpg: 256x256 2 debriss, 11.0ms\n",
                        "Speed: 1.0ms preprocess, 11.0ms inference, 2.4ms postprocess per image at shape (1, 3, 256, 256)\n",
                        "\n",
                        "image 1/1 c:\\Users\\hifia\\Projects\\Marine_Debris\\datasets\\Planet\\dataset_splits_aug\\val\\images\\20170326_154021_0e2f_16753-29706-16_jpg_4.000000.jpg: 256x256 2 debriss, 16.0ms\n",
                        "Speed: 1.0ms preprocess, 16.0ms inference, 2.0ms postprocess per image at shape (1, 3, 256, 256)\n",
                        "\n",
                        "image 1/1 c:\\Users\\hifia\\Projects\\Marine_Debris\\datasets\\Planet\\dataset_splits_aug\\val\\images\\20170326_154021_0e2f_16754-29706-16_jpg.rf.8893c319dfc5bd589a8dee8cb72a5e2c.jpg: 256x256 5 debriss, 13.2ms\n",
                        "Speed: 1.0ms preprocess, 13.2ms inference, 2.0ms postprocess per image at shape (1, 3, 256, 256)\n",
                        "\n",
                        "image 1/1 c:\\Users\\hifia\\Projects\\Marine_Debris\\datasets\\Planet\\dataset_splits_aug\\val\\images\\20170326_154021_0e2f_16754-29706-16_jpg_0.000000.jpg: 256x256 6 debriss, 12.0ms\n",
                        "Speed: 1.0ms preprocess, 12.0ms inference, 1.0ms postprocess per image at shape (1, 3, 256, 256)\n",
                        "\n",
                        "image 1/1 c:\\Users\\hifia\\Projects\\Marine_Debris\\datasets\\Planet\\dataset_splits_aug\\val\\images\\20170326_154021_0e2f_16754-29706-16_jpg_1.000000.jpg: 256x256 4 debriss, 13.3ms\n",
                        "Speed: 0.0ms preprocess, 13.3ms inference, 2.0ms postprocess per image at shape (1, 3, 256, 256)\n"
                    ]
                },
                {
                    "name": "stderr",
                    "output_type": "stream",
                    "text": [
                        " 44%|████▍     | 255/574 [00:06<00:07, 41.16it/s]"
                    ]
                },
                {
                    "name": "stdout",
                    "output_type": "stream",
                    "text": [
                        "\n",
                        "image 1/1 c:\\Users\\hifia\\Projects\\Marine_Debris\\datasets\\Planet\\dataset_splits_aug\\val\\images\\20170326_154021_0e2f_16754-29706-16_jpg_2.000000.jpg: 256x256 5 debriss, 12.3ms\n",
                        "Speed: 0.0ms preprocess, 12.3ms inference, 2.0ms postprocess per image at shape (1, 3, 256, 256)\n",
                        "\n",
                        "image 1/1 c:\\Users\\hifia\\Projects\\Marine_Debris\\datasets\\Planet\\dataset_splits_aug\\val\\images\\20170326_154021_0e2f_16754-29706-16_jpg_3.000000.jpg: 256x256 5 debriss, 11.0ms\n",
                        "Speed: 1.0ms preprocess, 11.0ms inference, 2.0ms postprocess per image at shape (1, 3, 256, 256)\n",
                        "\n",
                        "image 1/1 c:\\Users\\hifia\\Projects\\Marine_Debris\\datasets\\Planet\\dataset_splits_aug\\val\\images\\20170326_154021_0e2f_16754-29706-16_jpg_4.000000.jpg: 256x256 5 debriss, 11.0ms\n",
                        "Speed: 1.0ms preprocess, 11.0ms inference, 1.0ms postprocess per image at shape (1, 3, 256, 256)\n",
                        "\n",
                        "image 1/1 c:\\Users\\hifia\\Projects\\Marine_Debris\\datasets\\Planet\\dataset_splits_aug\\val\\images\\20170826_154046_100c_16769-29790-16_jpg.rf.92992fb0ab07d00a6ab7ce8350ffda06.jpg: 256x256 1 debris, 11.0ms\n",
                        "Speed: 1.0ms preprocess, 11.0ms inference, 1.0ms postprocess per image at shape (1, 3, 256, 256)\n",
                        "\n",
                        "image 1/1 c:\\Users\\hifia\\Projects\\Marine_Debris\\datasets\\Planet\\dataset_splits_aug\\val\\images\\20170826_154046_100c_16769-29790-16_jpg_0.000000.jpg: 256x256 2 debriss, 12.0ms\n",
                        "Speed: 0.0ms preprocess, 12.0ms inference, 2.0ms postprocess per image at shape (1, 3, 256, 256)\n"
                    ]
                },
                {
                    "name": "stderr",
                    "output_type": "stream",
                    "text": [
                        " 45%|████▌     | 260/574 [00:06<00:07, 42.20it/s]"
                    ]
                },
                {
                    "name": "stdout",
                    "output_type": "stream",
                    "text": [
                        "\n",
                        "image 1/1 c:\\Users\\hifia\\Projects\\Marine_Debris\\datasets\\Planet\\dataset_splits_aug\\val\\images\\20170826_154046_100c_16769-29790-16_jpg_1.000000.jpg: 256x256 2 debriss, 11.0ms\n",
                        "Speed: 1.0ms preprocess, 11.0ms inference, 2.0ms postprocess per image at shape (1, 3, 256, 256)\n",
                        "\n",
                        "image 1/1 c:\\Users\\hifia\\Projects\\Marine_Debris\\datasets\\Planet\\dataset_splits_aug\\val\\images\\20170826_154046_100c_16769-29790-16_jpg_2.000000.jpg: 256x256 2 debriss, 14.0ms\n",
                        "Speed: 0.0ms preprocess, 14.0ms inference, 1.0ms postprocess per image at shape (1, 3, 256, 256)\n",
                        "\n",
                        "image 1/1 c:\\Users\\hifia\\Projects\\Marine_Debris\\datasets\\Planet\\dataset_splits_aug\\val\\images\\20170826_154046_100c_16769-29790-16_jpg_3.000000.jpg: 256x256 1 debris, 12.3ms\n",
                        "Speed: 0.0ms preprocess, 12.3ms inference, 1.5ms postprocess per image at shape (1, 3, 256, 256)\n",
                        "\n",
                        "image 1/1 c:\\Users\\hifia\\Projects\\Marine_Debris\\datasets\\Planet\\dataset_splits_aug\\val\\images\\20170826_154046_100c_16769-29790-16_jpg_4.000000.jpg: 256x256 1 debris, 12.2ms\n",
                        "Speed: 0.0ms preprocess, 12.2ms inference, 1.0ms postprocess per image at shape (1, 3, 256, 256)\n",
                        "\n",
                        "image 1/1 c:\\Users\\hifia\\Projects\\Marine_Debris\\datasets\\Planet\\dataset_splits_aug\\val\\images\\20170927_154610_0e14_16734-29835-16_jpg.rf.093bf062cf5ddbbe0bb99729d2cb7345.jpg: 256x256 (no detections), 11.0ms\n",
                        "Speed: 1.0ms preprocess, 11.0ms inference, 1.0ms postprocess per image at shape (1, 3, 256, 256)\n"
                    ]
                },
                {
                    "name": "stderr",
                    "output_type": "stream",
                    "text": [
                        " 46%|████▌     | 265/574 [00:06<00:07, 42.97it/s]"
                    ]
                },
                {
                    "name": "stdout",
                    "output_type": "stream",
                    "text": [
                        "\n",
                        "image 1/1 c:\\Users\\hifia\\Projects\\Marine_Debris\\datasets\\Planet\\dataset_splits_aug\\val\\images\\20170927_154610_0e14_16734-29835-16_jpg_0.000000.jpg: 256x256 1 debris, 12.0ms\n",
                        "Speed: 0.0ms preprocess, 12.0ms inference, 1.0ms postprocess per image at shape (1, 3, 256, 256)\n",
                        "\n",
                        "image 1/1 c:\\Users\\hifia\\Projects\\Marine_Debris\\datasets\\Planet\\dataset_splits_aug\\val\\images\\20170927_154610_0e14_16734-29835-16_jpg_1.000000.jpg: 256x256 1 debris, 14.0ms\n",
                        "Speed: 1.0ms preprocess, 14.0ms inference, 1.0ms postprocess per image at shape (1, 3, 256, 256)\n",
                        "\n",
                        "image 1/1 c:\\Users\\hifia\\Projects\\Marine_Debris\\datasets\\Planet\\dataset_splits_aug\\val\\images\\20170927_154610_0e14_16734-29835-16_jpg_2.000000.jpg: 256x256 1 debris, 11.7ms\n",
                        "Speed: 0.0ms preprocess, 11.7ms inference, 2.0ms postprocess per image at shape (1, 3, 256, 256)\n",
                        "\n",
                        "image 1/1 c:\\Users\\hifia\\Projects\\Marine_Debris\\datasets\\Planet\\dataset_splits_aug\\val\\images\\20170927_154610_0e14_16734-29835-16_jpg_3.000000.jpg: 256x256 (no detections), 11.0ms\n",
                        "Speed: 0.0ms preprocess, 11.0ms inference, 1.0ms postprocess per image at shape (1, 3, 256, 256)\n",
                        "\n",
                        "image 1/1 c:\\Users\\hifia\\Projects\\Marine_Debris\\datasets\\Planet\\dataset_splits_aug\\val\\images\\20170927_154610_0e14_16734-29835-16_jpg_4.000000.jpg: 256x256 1 debris, 12.0ms\n",
                        "Speed: 0.0ms preprocess, 12.0ms inference, 2.0ms postprocess per image at shape (1, 3, 256, 256)\n"
                    ]
                },
                {
                    "name": "stderr",
                    "output_type": "stream",
                    "text": [
                        " 47%|████▋     | 270/574 [00:06<00:06, 43.78it/s]"
                    ]
                },
                {
                    "name": "stdout",
                    "output_type": "stream",
                    "text": [
                        "\n",
                        "image 1/1 c:\\Users\\hifia\\Projects\\Marine_Debris\\datasets\\Planet\\dataset_splits_aug\\val\\images\\20170927_154610_0e14_16735-29840-16_jpg.rf.b196f0196a02162b407d05cf9323aa9f.jpg: 256x256 1 debris, 11.0ms\n",
                        "Speed: 1.0ms preprocess, 11.0ms inference, 1.0ms postprocess per image at shape (1, 3, 256, 256)\n",
                        "\n",
                        "image 1/1 c:\\Users\\hifia\\Projects\\Marine_Debris\\datasets\\Planet\\dataset_splits_aug\\val\\images\\20170927_154610_0e14_16735-29840-16_jpg_0.000000.jpg: 256x256 2 debriss, 14.0ms\n",
                        "Speed: 0.0ms preprocess, 14.0ms inference, 2.0ms postprocess per image at shape (1, 3, 256, 256)\n",
                        "\n",
                        "image 1/1 c:\\Users\\hifia\\Projects\\Marine_Debris\\datasets\\Planet\\dataset_splits_aug\\val\\images\\20170927_154610_0e14_16735-29840-16_jpg_1.000000.jpg: 256x256 1 debris, 12.0ms\n",
                        "Speed: 0.0ms preprocess, 12.0ms inference, 2.0ms postprocess per image at shape (1, 3, 256, 256)\n",
                        "\n",
                        "image 1/1 c:\\Users\\hifia\\Projects\\Marine_Debris\\datasets\\Planet\\dataset_splits_aug\\val\\images\\20170927_154610_0e14_16735-29840-16_jpg_2.000000.jpg: 256x256 1 debris, 13.0ms\n",
                        "Speed: 0.0ms preprocess, 13.0ms inference, 2.0ms postprocess per image at shape (1, 3, 256, 256)\n",
                        "\n",
                        "image 1/1 c:\\Users\\hifia\\Projects\\Marine_Debris\\datasets\\Planet\\dataset_splits_aug\\val\\images\\20170927_154610_0e14_16735-29840-16_jpg_3.000000.jpg: 256x256 1 debris, 12.0ms\n",
                        "Speed: 0.0ms preprocess, 12.0ms inference, 1.0ms postprocess per image at shape (1, 3, 256, 256)\n"
                    ]
                },
                {
                    "name": "stderr",
                    "output_type": "stream",
                    "text": [
                        " 48%|████▊     | 275/574 [00:06<00:06, 43.95it/s]"
                    ]
                },
                {
                    "name": "stdout",
                    "output_type": "stream",
                    "text": [
                        "\n",
                        "image 1/1 c:\\Users\\hifia\\Projects\\Marine_Debris\\datasets\\Planet\\dataset_splits_aug\\val\\images\\20170927_154610_0e14_16735-29840-16_jpg_4.000000.jpg: 256x256 2 debriss, 12.0ms\n",
                        "Speed: 0.0ms preprocess, 12.0ms inference, 1.0ms postprocess per image at shape (1, 3, 256, 256)\n",
                        "\n",
                        "image 1/1 c:\\Users\\hifia\\Projects\\Marine_Debris\\datasets\\Planet\\dataset_splits_aug\\val\\images\\20170927_154610_0e14_16738-29841-16_jpg.rf.a6d69f68c4445ead0787381ed9fb1591.jpg: 256x256 3 debriss, 13.3ms\n",
                        "Speed: 0.0ms preprocess, 13.3ms inference, 1.0ms postprocess per image at shape (1, 3, 256, 256)\n",
                        "\n",
                        "image 1/1 c:\\Users\\hifia\\Projects\\Marine_Debris\\datasets\\Planet\\dataset_splits_aug\\val\\images\\20170927_154610_0e14_16738-29841-16_jpg_0.000000.jpg: 256x256 2 debriss, 12.0ms\n",
                        "Speed: 0.0ms preprocess, 12.0ms inference, 1.0ms postprocess per image at shape (1, 3, 256, 256)\n",
                        "\n",
                        "image 1/1 c:\\Users\\hifia\\Projects\\Marine_Debris\\datasets\\Planet\\dataset_splits_aug\\val\\images\\20170927_154610_0e14_16738-29841-16_jpg_1.000000.jpg: 256x256 3 debriss, 12.3ms\n",
                        "Speed: 1.0ms preprocess, 12.3ms inference, 1.0ms postprocess per image at shape (1, 3, 256, 256)\n",
                        "\n",
                        "image 1/1 c:\\Users\\hifia\\Projects\\Marine_Debris\\datasets\\Planet\\dataset_splits_aug\\val\\images\\20170927_154610_0e14_16738-29841-16_jpg_2.000000.jpg: 256x256 2 debriss, 18.1ms\n",
                        "Speed: 0.0ms preprocess, 18.1ms inference, 1.0ms postprocess per image at shape (1, 3, 256, 256)\n"
                    ]
                },
                {
                    "name": "stderr",
                    "output_type": "stream",
                    "text": [
                        " 49%|████▉     | 280/574 [00:06<00:06, 42.99it/s]"
                    ]
                },
                {
                    "name": "stdout",
                    "output_type": "stream",
                    "text": [
                        "\n",
                        "image 1/1 c:\\Users\\hifia\\Projects\\Marine_Debris\\datasets\\Planet\\dataset_splits_aug\\val\\images\\20170927_154610_0e14_16738-29841-16_jpg_3.000000.jpg: 256x256 2 debriss, 13.1ms\n",
                        "Speed: 0.0ms preprocess, 13.1ms inference, 1.0ms postprocess per image at shape (1, 3, 256, 256)\n",
                        "\n",
                        "image 1/1 c:\\Users\\hifia\\Projects\\Marine_Debris\\datasets\\Planet\\dataset_splits_aug\\val\\images\\20170927_154610_0e14_16738-29841-16_jpg_4.000000.jpg: 256x256 5 debriss, 13.0ms\n",
                        "Speed: 0.0ms preprocess, 13.0ms inference, 2.0ms postprocess per image at shape (1, 3, 256, 256)\n",
                        "\n",
                        "image 1/1 c:\\Users\\hifia\\Projects\\Marine_Debris\\datasets\\Planet\\dataset_splits_aug\\val\\images\\20170927_154611_0e14_16732-29850-16_jpg.rf.428de16044b20a7899491a35dc761931.jpg: 256x256 (no detections), 12.0ms\n",
                        "Speed: 0.0ms preprocess, 12.0ms inference, 0.0ms postprocess per image at shape (1, 3, 256, 256)\n",
                        "\n",
                        "image 1/1 c:\\Users\\hifia\\Projects\\Marine_Debris\\datasets\\Planet\\dataset_splits_aug\\val\\images\\20170927_154611_0e14_16732-29850-16_jpg_0.000000.jpg: 256x256 (no detections), 14.2ms\n",
                        "Speed: 0.0ms preprocess, 14.2ms inference, 1.0ms postprocess per image at shape (1, 3, 256, 256)\n",
                        "\n",
                        "image 1/1 c:\\Users\\hifia\\Projects\\Marine_Debris\\datasets\\Planet\\dataset_splits_aug\\val\\images\\20170927_154611_0e14_16732-29850-16_jpg_1.000000.jpg: 256x256 (no detections), 12.0ms\n",
                        "Speed: 1.0ms preprocess, 12.0ms inference, 0.0ms postprocess per image at shape (1, 3, 256, 256)\n"
                    ]
                },
                {
                    "name": "stderr",
                    "output_type": "stream",
                    "text": [
                        " 50%|████▉     | 285/574 [00:06<00:06, 43.35it/s]"
                    ]
                },
                {
                    "name": "stdout",
                    "output_type": "stream",
                    "text": [
                        "\n",
                        "image 1/1 c:\\Users\\hifia\\Projects\\Marine_Debris\\datasets\\Planet\\dataset_splits_aug\\val\\images\\20170927_154611_0e14_16732-29850-16_jpg_2.000000.jpg: 256x256 1 debris, 12.4ms\n",
                        "Speed: 1.0ms preprocess, 12.4ms inference, 2.0ms postprocess per image at shape (1, 3, 256, 256)\n",
                        "\n",
                        "image 1/1 c:\\Users\\hifia\\Projects\\Marine_Debris\\datasets\\Planet\\dataset_splits_aug\\val\\images\\20170927_154611_0e14_16732-29850-16_jpg_3.000000.jpg: 256x256 (no detections), 14.0ms\n",
                        "Speed: 0.0ms preprocess, 14.0ms inference, 0.0ms postprocess per image at shape (1, 3, 256, 256)\n",
                        "\n",
                        "image 1/1 c:\\Users\\hifia\\Projects\\Marine_Debris\\datasets\\Planet\\dataset_splits_aug\\val\\images\\20170927_154611_0e14_16732-29850-16_jpg_4.000000.jpg: 256x256 (no detections), 13.4ms\n",
                        "Speed: 0.0ms preprocess, 13.4ms inference, 0.0ms postprocess per image at shape (1, 3, 256, 256)\n",
                        "\n",
                        "image 1/1 c:\\Users\\hifia\\Projects\\Marine_Debris\\datasets\\Planet\\dataset_splits_aug\\val\\images\\20170927_154611_0e14_16734-29846-16_jpg.rf.224dec53ee04f60d7e3ce059aac01afb.jpg: 256x256 1 debris, 12.1ms\n",
                        "Speed: 1.0ms preprocess, 12.1ms inference, 1.0ms postprocess per image at shape (1, 3, 256, 256)\n",
                        "\n",
                        "image 1/1 c:\\Users\\hifia\\Projects\\Marine_Debris\\datasets\\Planet\\dataset_splits_aug\\val\\images\\20170927_154611_0e14_16734-29846-16_jpg_0.000000.jpg: 256x256 2 debriss, 11.0ms\n",
                        "Speed: 1.0ms preprocess, 11.0ms inference, 1.0ms postprocess per image at shape (1, 3, 256, 256)\n"
                    ]
                },
                {
                    "name": "stderr",
                    "output_type": "stream",
                    "text": [
                        " 51%|█████     | 290/574 [00:07<00:06, 43.94it/s]"
                    ]
                },
                {
                    "name": "stdout",
                    "output_type": "stream",
                    "text": [
                        "\n",
                        "image 1/1 c:\\Users\\hifia\\Projects\\Marine_Debris\\datasets\\Planet\\dataset_splits_aug\\val\\images\\20170927_154611_0e14_16734-29846-16_jpg_1.000000.jpg: 256x256 2 debriss, 12.9ms\n",
                        "Speed: 1.1ms preprocess, 12.9ms inference, 1.0ms postprocess per image at shape (1, 3, 256, 256)\n",
                        "\n",
                        "image 1/1 c:\\Users\\hifia\\Projects\\Marine_Debris\\datasets\\Planet\\dataset_splits_aug\\val\\images\\20170927_154611_0e14_16734-29846-16_jpg_2.000000.jpg: 256x256 3 debriss, 12.0ms\n",
                        "Speed: 1.0ms preprocess, 12.0ms inference, 1.0ms postprocess per image at shape (1, 3, 256, 256)\n",
                        "\n",
                        "image 1/1 c:\\Users\\hifia\\Projects\\Marine_Debris\\datasets\\Planet\\dataset_splits_aug\\val\\images\\20170927_154611_0e14_16734-29846-16_jpg_3.000000.jpg: 256x256 3 debriss, 12.4ms\n",
                        "Speed: 0.0ms preprocess, 12.4ms inference, 2.0ms postprocess per image at shape (1, 3, 256, 256)\n",
                        "\n",
                        "image 1/1 c:\\Users\\hifia\\Projects\\Marine_Debris\\datasets\\Planet\\dataset_splits_aug\\val\\images\\20170927_154611_0e14_16734-29846-16_jpg_4.000000.jpg: 256x256 (no detections), 12.2ms\n",
                        "Speed: 0.0ms preprocess, 12.2ms inference, 0.0ms postprocess per image at shape (1, 3, 256, 256)\n",
                        "\n",
                        "image 1/1 c:\\Users\\hifia\\Projects\\Marine_Debris\\datasets\\Planet\\dataset_splits_aug\\val\\images\\20171007_161314_1_0c65_16771-29802-16_jpg.rf.1cf51fed0a121714e9eef4ae115db30c.jpg: 256x256 6 debriss, 11.3ms\n",
                        "Speed: 1.0ms preprocess, 11.3ms inference, 2.0ms postprocess per image at shape (1, 3, 256, 256)\n"
                    ]
                },
                {
                    "name": "stderr",
                    "output_type": "stream",
                    "text": [
                        " 51%|█████▏    | 295/574 [00:07<00:06, 44.21it/s]"
                    ]
                },
                {
                    "name": "stdout",
                    "output_type": "stream",
                    "text": [
                        "\n",
                        "image 1/1 c:\\Users\\hifia\\Projects\\Marine_Debris\\datasets\\Planet\\dataset_splits_aug\\val\\images\\20171007_161314_1_0c65_16771-29802-16_jpg_0.000000.jpg: 256x256 3 debriss, 12.0ms\n",
                        "Speed: 0.0ms preprocess, 12.0ms inference, 1.0ms postprocess per image at shape (1, 3, 256, 256)\n",
                        "\n",
                        "image 1/1 c:\\Users\\hifia\\Projects\\Marine_Debris\\datasets\\Planet\\dataset_splits_aug\\val\\images\\20171007_161314_1_0c65_16771-29802-16_jpg_1.000000.jpg: 256x256 5 debriss, 13.3ms\n",
                        "Speed: 0.0ms preprocess, 13.3ms inference, 2.0ms postprocess per image at shape (1, 3, 256, 256)\n",
                        "\n",
                        "image 1/1 c:\\Users\\hifia\\Projects\\Marine_Debris\\datasets\\Planet\\dataset_splits_aug\\val\\images\\20171007_161314_1_0c65_16771-29802-16_jpg_2.000000.jpg: 256x256 4 debriss, 12.0ms\n",
                        "Speed: 0.0ms preprocess, 12.0ms inference, 2.3ms postprocess per image at shape (1, 3, 256, 256)\n",
                        "\n",
                        "image 1/1 c:\\Users\\hifia\\Projects\\Marine_Debris\\datasets\\Planet\\dataset_splits_aug\\val\\images\\20171007_161314_1_0c65_16771-29802-16_jpg_3.000000.jpg: 256x256 3 debriss, 10.7ms\n",
                        "Speed: 1.3ms preprocess, 10.7ms inference, 1.0ms postprocess per image at shape (1, 3, 256, 256)\n",
                        "\n",
                        "image 1/1 c:\\Users\\hifia\\Projects\\Marine_Debris\\datasets\\Planet\\dataset_splits_aug\\val\\images\\20171007_161314_1_0c65_16771-29802-16_jpg_4.000000.jpg: 256x256 3 debriss, 12.2ms\n",
                        "Speed: 1.0ms preprocess, 12.2ms inference, 2.0ms postprocess per image at shape (1, 3, 256, 256)\n"
                    ]
                },
                {
                    "name": "stderr",
                    "output_type": "stream",
                    "text": [
                        " 52%|█████▏    | 300/574 [00:07<00:06, 44.45it/s]"
                    ]
                },
                {
                    "name": "stdout",
                    "output_type": "stream",
                    "text": [
                        "\n",
                        "image 1/1 c:\\Users\\hifia\\Projects\\Marine_Debris\\datasets\\Planet\\dataset_splits_aug\\val\\images\\20171007_161315_0c65_16775-29802-16_jpg.rf.f431f50ebcb8da96d332d7655e0bac82.jpg: 256x256 (no detections), 12.0ms\n",
                        "Speed: 0.0ms preprocess, 12.0ms inference, 0.0ms postprocess per image at shape (1, 3, 256, 256)\n",
                        "\n",
                        "image 1/1 c:\\Users\\hifia\\Projects\\Marine_Debris\\datasets\\Planet\\dataset_splits_aug\\val\\images\\20171007_161315_0c65_16775-29802-16_jpg_0.000000.jpg: 256x256 1 debris, 11.3ms\n",
                        "Speed: 1.0ms preprocess, 11.3ms inference, 3.0ms postprocess per image at shape (1, 3, 256, 256)\n",
                        "\n",
                        "image 1/1 c:\\Users\\hifia\\Projects\\Marine_Debris\\datasets\\Planet\\dataset_splits_aug\\val\\images\\20171007_161315_0c65_16775-29802-16_jpg_1.000000.jpg: 256x256 1 debris, 12.0ms\n",
                        "Speed: 1.0ms preprocess, 12.0ms inference, 1.4ms postprocess per image at shape (1, 3, 256, 256)\n",
                        "\n",
                        "image 1/1 c:\\Users\\hifia\\Projects\\Marine_Debris\\datasets\\Planet\\dataset_splits_aug\\val\\images\\20171007_161315_0c65_16775-29802-16_jpg_2.000000.jpg: 256x256 2 debriss, 12.3ms\n",
                        "Speed: 0.0ms preprocess, 12.3ms inference, 2.0ms postprocess per image at shape (1, 3, 256, 256)\n",
                        "\n",
                        "image 1/1 c:\\Users\\hifia\\Projects\\Marine_Debris\\datasets\\Planet\\dataset_splits_aug\\val\\images\\20171007_161315_0c65_16775-29802-16_jpg_3.000000.jpg: 256x256 (no detections), 13.2ms\n",
                        "Speed: 1.0ms preprocess, 13.2ms inference, 1.0ms postprocess per image at shape (1, 3, 256, 256)\n"
                    ]
                },
                {
                    "name": "stderr",
                    "output_type": "stream",
                    "text": [
                        " 53%|█████▎    | 305/574 [00:07<00:05, 44.88it/s]"
                    ]
                },
                {
                    "name": "stdout",
                    "output_type": "stream",
                    "text": [
                        "\n",
                        "image 1/1 c:\\Users\\hifia\\Projects\\Marine_Debris\\datasets\\Planet\\dataset_splits_aug\\val\\images\\20171007_161315_0c65_16775-29802-16_jpg_4.000000.jpg: 256x256 1 debris, 11.2ms\n",
                        "Speed: 1.0ms preprocess, 11.2ms inference, 2.0ms postprocess per image at shape (1, 3, 256, 256)\n",
                        "\n",
                        "image 1/1 c:\\Users\\hifia\\Projects\\Marine_Debris\\datasets\\Planet\\dataset_splits_aug\\val\\images\\20171007_161315_0c65_16777-29801-16_jpg.rf.7963c60db92e63e098d819a82d30be22.jpg: 256x256 5 debriss, 17.0ms\n",
                        "Speed: 1.0ms preprocess, 17.0ms inference, 2.0ms postprocess per image at shape (1, 3, 256, 256)\n",
                        "\n",
                        "image 1/1 c:\\Users\\hifia\\Projects\\Marine_Debris\\datasets\\Planet\\dataset_splits_aug\\val\\images\\20171007_161315_0c65_16777-29801-16_jpg_0.000000.jpg: 256x256 8 debriss, 16.2ms\n",
                        "Speed: 0.0ms preprocess, 16.2ms inference, 1.0ms postprocess per image at shape (1, 3, 256, 256)\n",
                        "\n",
                        "image 1/1 c:\\Users\\hifia\\Projects\\Marine_Debris\\datasets\\Planet\\dataset_splits_aug\\val\\images\\20171007_161315_0c65_16777-29801-16_jpg_1.000000.jpg: 256x256 6 debriss, 13.2ms\n",
                        "Speed: 1.0ms preprocess, 13.2ms inference, 2.0ms postprocess per image at shape (1, 3, 256, 256)\n",
                        "\n",
                        "image 1/1 c:\\Users\\hifia\\Projects\\Marine_Debris\\datasets\\Planet\\dataset_splits_aug\\val\\images\\20171007_161315_0c65_16777-29801-16_jpg_2.000000.jpg: 256x256 5 debriss, 12.0ms\n",
                        "Speed: 1.0ms preprocess, 12.0ms inference, 1.3ms postprocess per image at shape (1, 3, 256, 256)\n"
                    ]
                },
                {
                    "name": "stderr",
                    "output_type": "stream",
                    "text": [
                        " 54%|█████▍    | 310/574 [00:07<00:06, 42.99it/s]"
                    ]
                },
                {
                    "name": "stdout",
                    "output_type": "stream",
                    "text": [
                        "\n",
                        "image 1/1 c:\\Users\\hifia\\Projects\\Marine_Debris\\datasets\\Planet\\dataset_splits_aug\\val\\images\\20171007_161315_0c65_16777-29801-16_jpg_3.000000.jpg: 256x256 6 debriss, 12.0ms\n",
                        "Speed: 0.0ms preprocess, 12.0ms inference, 1.0ms postprocess per image at shape (1, 3, 256, 256)\n",
                        "\n",
                        "image 1/1 c:\\Users\\hifia\\Projects\\Marine_Debris\\datasets\\Planet\\dataset_splits_aug\\val\\images\\20171007_161315_0c65_16783-29802-16_jpg.rf.e6db8962ab726a5d1fafc6f10629ed56.jpg: 256x256 2 debriss, 12.5ms\n",
                        "Speed: 0.0ms preprocess, 12.5ms inference, 2.0ms postprocess per image at shape (1, 3, 256, 256)\n",
                        "\n",
                        "image 1/1 c:\\Users\\hifia\\Projects\\Marine_Debris\\datasets\\Planet\\dataset_splits_aug\\val\\images\\20171007_161315_0c65_16783-29802-16_jpg_0.000000.jpg: 256x256 1 debris, 12.3ms\n",
                        "Speed: 0.0ms preprocess, 12.3ms inference, 2.0ms postprocess per image at shape (1, 3, 256, 256)\n",
                        "\n",
                        "image 1/1 c:\\Users\\hifia\\Projects\\Marine_Debris\\datasets\\Planet\\dataset_splits_aug\\val\\images\\20171007_161315_0c65_16783-29802-16_jpg_1.000000.jpg: 256x256 (no detections), 13.0ms\n",
                        "Speed: 1.0ms preprocess, 13.0ms inference, 1.2ms postprocess per image at shape (1, 3, 256, 256)\n",
                        "\n",
                        "image 1/1 c:\\Users\\hifia\\Projects\\Marine_Debris\\datasets\\Planet\\dataset_splits_aug\\val\\images\\20171007_161315_0c65_16783-29802-16_jpg_2.000000.jpg: 256x256 (no detections), 14.0ms\n",
                        "Speed: 1.0ms preprocess, 14.0ms inference, 0.0ms postprocess per image at shape (1, 3, 256, 256)\n"
                    ]
                },
                {
                    "name": "stderr",
                    "output_type": "stream",
                    "text": [
                        " 55%|█████▍    | 315/574 [00:07<00:05, 43.40it/s]"
                    ]
                },
                {
                    "name": "stdout",
                    "output_type": "stream",
                    "text": [
                        "\n",
                        "image 1/1 c:\\Users\\hifia\\Projects\\Marine_Debris\\datasets\\Planet\\dataset_splits_aug\\val\\images\\20171007_161315_0c65_16783-29802-16_jpg_3.000000.jpg: 256x256 2 debriss, 11.5ms\n",
                        "Speed: 0.0ms preprocess, 11.5ms inference, 2.0ms postprocess per image at shape (1, 3, 256, 256)\n",
                        "\n",
                        "image 1/1 c:\\Users\\hifia\\Projects\\Marine_Debris\\datasets\\Planet\\dataset_splits_aug\\val\\images\\20171007_161315_0c65_16783-29802-16_jpg_4.000000.jpg: 256x256 (no detections), 12.0ms\n",
                        "Speed: 1.0ms preprocess, 12.0ms inference, 0.0ms postprocess per image at shape (1, 3, 256, 256)\n",
                        "\n",
                        "image 1/1 c:\\Users\\hifia\\Projects\\Marine_Debris\\datasets\\Planet\\dataset_splits_aug\\val\\images\\20171007_161315_0c65_16784-29802-16_jpg.rf.a56156fd400033115fba662b4e589162.jpg: 256x256 (no detections), 12.2ms\n",
                        "Speed: 0.0ms preprocess, 12.2ms inference, 1.0ms postprocess per image at shape (1, 3, 256, 256)\n",
                        "\n",
                        "image 1/1 c:\\Users\\hifia\\Projects\\Marine_Debris\\datasets\\Planet\\dataset_splits_aug\\val\\images\\20171007_161315_0c65_16784-29802-16_jpg_0.000000.jpg: 256x256 1 debris, 13.3ms\n",
                        "Speed: 0.0ms preprocess, 13.3ms inference, 4.0ms postprocess per image at shape (1, 3, 256, 256)\n",
                        "\n",
                        "image 1/1 c:\\Users\\hifia\\Projects\\Marine_Debris\\datasets\\Planet\\dataset_splits_aug\\val\\images\\20171007_161315_0c65_16784-29802-16_jpg_1.000000.jpg: 256x256 1 debris, 12.0ms\n",
                        "Speed: 1.0ms preprocess, 12.0ms inference, 1.0ms postprocess per image at shape (1, 3, 256, 256)\n"
                    ]
                },
                {
                    "name": "stderr",
                    "output_type": "stream",
                    "text": [
                        " 56%|█████▌    | 320/574 [00:07<00:05, 43.50it/s]"
                    ]
                },
                {
                    "name": "stdout",
                    "output_type": "stream",
                    "text": [
                        "\n",
                        "image 1/1 c:\\Users\\hifia\\Projects\\Marine_Debris\\datasets\\Planet\\dataset_splits_aug\\val\\images\\20171007_161315_0c65_16784-29802-16_jpg_2.000000.jpg: 256x256 3 debriss, 11.0ms\n",
                        "Speed: 1.0ms preprocess, 11.0ms inference, 2.0ms postprocess per image at shape (1, 3, 256, 256)\n",
                        "\n",
                        "image 1/1 c:\\Users\\hifia\\Projects\\Marine_Debris\\datasets\\Planet\\dataset_splits_aug\\val\\images\\20171007_161315_0c65_16784-29802-16_jpg_3.000000.jpg: 256x256 1 debris, 14.0ms\n",
                        "Speed: 0.0ms preprocess, 14.0ms inference, 2.0ms postprocess per image at shape (1, 3, 256, 256)\n",
                        "\n",
                        "image 1/1 c:\\Users\\hifia\\Projects\\Marine_Debris\\datasets\\Planet\\dataset_splits_aug\\val\\images\\20171007_161315_0c65_16784-29802-16_jpg_4.000000.jpg: 256x256 1 debris, 12.0ms\n",
                        "Speed: 0.0ms preprocess, 12.0ms inference, 1.0ms postprocess per image at shape (1, 3, 256, 256)\n",
                        "\n",
                        "image 1/1 c:\\Users\\hifia\\Projects\\Marine_Debris\\datasets\\Planet\\dataset_splits_aug\\val\\images\\20171015_153720_100c_16964-29819-16_jpg.rf.5ae35749865a6706950b0da4812bb6b7.jpg: 256x256 3 debriss, 16.0ms\n",
                        "Speed: 0.0ms preprocess, 16.0ms inference, 2.0ms postprocess per image at shape (1, 3, 256, 256)\n",
                        "\n",
                        "image 1/1 c:\\Users\\hifia\\Projects\\Marine_Debris\\datasets\\Planet\\dataset_splits_aug\\val\\images\\20171015_153720_100c_16964-29819-16_jpg_0.000000.jpg: 256x256 3 debriss, 11.5ms\n",
                        "Speed: 1.0ms preprocess, 11.5ms inference, 2.0ms postprocess per image at shape (1, 3, 256, 256)\n"
                    ]
                },
                {
                    "name": "stderr",
                    "output_type": "stream",
                    "text": [
                        " 57%|█████▋    | 325/574 [00:07<00:05, 43.20it/s]"
                    ]
                },
                {
                    "name": "stdout",
                    "output_type": "stream",
                    "text": [
                        "\n",
                        "image 1/1 c:\\Users\\hifia\\Projects\\Marine_Debris\\datasets\\Planet\\dataset_splits_aug\\val\\images\\20171015_153720_100c_16964-29819-16_jpg_1.000000.jpg: 256x256 3 debriss, 12.0ms\n",
                        "Speed: 0.0ms preprocess, 12.0ms inference, 2.0ms postprocess per image at shape (1, 3, 256, 256)\n",
                        "\n",
                        "image 1/1 c:\\Users\\hifia\\Projects\\Marine_Debris\\datasets\\Planet\\dataset_splits_aug\\val\\images\\20171015_153720_100c_16964-29819-16_jpg_2.000000.jpg: 256x256 3 debriss, 12.3ms\n",
                        "Speed: 1.0ms preprocess, 12.3ms inference, 1.0ms postprocess per image at shape (1, 3, 256, 256)\n",
                        "\n",
                        "image 1/1 c:\\Users\\hifia\\Projects\\Marine_Debris\\datasets\\Planet\\dataset_splits_aug\\val\\images\\20171015_153720_100c_16964-29819-16_jpg_3.000000.jpg: 256x256 3 debriss, 18.0ms\n",
                        "Speed: 1.0ms preprocess, 18.0ms inference, 1.0ms postprocess per image at shape (1, 3, 256, 256)\n",
                        "\n",
                        "image 1/1 c:\\Users\\hifia\\Projects\\Marine_Debris\\datasets\\Planet\\dataset_splits_aug\\val\\images\\20171015_153720_100c_16964-29819-16_jpg_4.000000.jpg: 256x256 2 debriss, 11.3ms\n",
                        "Speed: 1.0ms preprocess, 11.3ms inference, 1.0ms postprocess per image at shape (1, 3, 256, 256)\n",
                        "\n",
                        "image 1/1 c:\\Users\\hifia\\Projects\\Marine_Debris\\datasets\\Planet\\dataset_splits_aug\\val\\images\\20171015_153720_100c_16971-29815-16_jpg.rf.56e4b29df7e8271d52fb07b86b1478cf.jpg: 256x256 5 debriss, 12.2ms\n",
                        "Speed: 0.0ms preprocess, 12.2ms inference, 2.0ms postprocess per image at shape (1, 3, 256, 256)\n"
                    ]
                },
                {
                    "name": "stderr",
                    "output_type": "stream",
                    "text": [
                        " 57%|█████▋    | 330/574 [00:07<00:05, 42.93it/s]"
                    ]
                },
                {
                    "name": "stdout",
                    "output_type": "stream",
                    "text": [
                        "\n",
                        "image 1/1 c:\\Users\\hifia\\Projects\\Marine_Debris\\datasets\\Planet\\dataset_splits_aug\\val\\images\\20171015_153720_100c_16971-29815-16_jpg_0.000000.jpg: 256x256 2 debriss, 12.0ms\n",
                        "Speed: 0.0ms preprocess, 12.0ms inference, 2.0ms postprocess per image at shape (1, 3, 256, 256)\n",
                        "\n",
                        "image 1/1 c:\\Users\\hifia\\Projects\\Marine_Debris\\datasets\\Planet\\dataset_splits_aug\\val\\images\\20171015_153720_100c_16971-29815-16_jpg_1.000000.jpg: 256x256 4 debriss, 13.0ms\n",
                        "Speed: 1.0ms preprocess, 13.0ms inference, 2.0ms postprocess per image at shape (1, 3, 256, 256)\n",
                        "\n",
                        "image 1/1 c:\\Users\\hifia\\Projects\\Marine_Debris\\datasets\\Planet\\dataset_splits_aug\\val\\images\\20171015_153720_100c_16971-29815-16_jpg_2.000000.jpg: 256x256 4 debriss, 12.0ms\n",
                        "Speed: 0.0ms preprocess, 12.0ms inference, 1.0ms postprocess per image at shape (1, 3, 256, 256)\n",
                        "\n",
                        "image 1/1 c:\\Users\\hifia\\Projects\\Marine_Debris\\datasets\\Planet\\dataset_splits_aug\\val\\images\\20171015_153720_100c_16971-29815-16_jpg_3.000000.jpg: 256x256 2 debriss, 12.0ms\n",
                        "Speed: 0.0ms preprocess, 12.0ms inference, 1.0ms postprocess per image at shape (1, 3, 256, 256)\n",
                        "\n",
                        "image 1/1 c:\\Users\\hifia\\Projects\\Marine_Debris\\datasets\\Planet\\dataset_splits_aug\\val\\images\\20171015_153720_100c_16971-29815-16_jpg_4.000000.jpg: 256x256 4 debriss, 13.0ms\n",
                        "Speed: 1.0ms preprocess, 13.0ms inference, 2.0ms postprocess per image at shape (1, 3, 256, 256)\n"
                    ]
                },
                {
                    "name": "stderr",
                    "output_type": "stream",
                    "text": [
                        " 58%|█████▊    | 335/574 [00:08<00:05, 43.22it/s]"
                    ]
                },
                {
                    "name": "stdout",
                    "output_type": "stream",
                    "text": [
                        "\n",
                        "image 1/1 c:\\Users\\hifia\\Projects\\Marine_Debris\\datasets\\Planet\\dataset_splits_aug\\val\\images\\20171015_153720_100c_16971-29816-16_jpg.rf.144f7288afaf69acac474feafaa60142.jpg: 256x256 3 debriss, 12.0ms\n",
                        "Speed: 0.0ms preprocess, 12.0ms inference, 2.3ms postprocess per image at shape (1, 3, 256, 256)\n",
                        "\n",
                        "image 1/1 c:\\Users\\hifia\\Projects\\Marine_Debris\\datasets\\Planet\\dataset_splits_aug\\val\\images\\20171015_153720_100c_16971-29816-16_jpg_0.000000.jpg: 256x256 1 debris, 13.1ms\n",
                        "Speed: 1.0ms preprocess, 13.1ms inference, 1.9ms postprocess per image at shape (1, 3, 256, 256)\n",
                        "\n",
                        "image 1/1 c:\\Users\\hifia\\Projects\\Marine_Debris\\datasets\\Planet\\dataset_splits_aug\\val\\images\\20171015_153720_100c_16971-29816-16_jpg_1.000000.jpg: 256x256 4 debriss, 11.5ms\n",
                        "Speed: 0.0ms preprocess, 11.5ms inference, 2.0ms postprocess per image at shape (1, 3, 256, 256)\n",
                        "\n",
                        "image 1/1 c:\\Users\\hifia\\Projects\\Marine_Debris\\datasets\\Planet\\dataset_splits_aug\\val\\images\\20171015_153720_100c_16971-29816-16_jpg_2.000000.jpg: 256x256 2 debriss, 12.0ms\n",
                        "Speed: 1.0ms preprocess, 12.0ms inference, 2.0ms postprocess per image at shape (1, 3, 256, 256)\n",
                        "\n",
                        "image 1/1 c:\\Users\\hifia\\Projects\\Marine_Debris\\datasets\\Planet\\dataset_splits_aug\\val\\images\\20171015_153720_100c_16971-29816-16_jpg_3.000000.jpg: 256x256 3 debriss, 12.0ms\n",
                        "Speed: 1.0ms preprocess, 12.0ms inference, 1.0ms postprocess per image at shape (1, 3, 256, 256)\n"
                    ]
                },
                {
                    "name": "stderr",
                    "output_type": "stream",
                    "text": [
                        " 59%|█████▉    | 340/574 [00:08<00:05, 43.54it/s]"
                    ]
                },
                {
                    "name": "stdout",
                    "output_type": "stream",
                    "text": [
                        "\n",
                        "image 1/1 c:\\Users\\hifia\\Projects\\Marine_Debris\\datasets\\Planet\\dataset_splits_aug\\val\\images\\20180107_153415_1032_17231-29818-16_jpg.rf.29420ceea7e4b57902ca55cc1d0cf139.jpg: 256x256 4 debriss, 12.0ms\n",
                        "Speed: 1.0ms preprocess, 12.0ms inference, 2.0ms postprocess per image at shape (1, 3, 256, 256)\n",
                        "\n",
                        "image 1/1 c:\\Users\\hifia\\Projects\\Marine_Debris\\datasets\\Planet\\dataset_splits_aug\\val\\images\\20180107_153415_1032_17231-29818-16_jpg_0.000000.jpg: 256x256 4 debriss, 11.5ms\n",
                        "Speed: 1.0ms preprocess, 11.5ms inference, 1.0ms postprocess per image at shape (1, 3, 256, 256)\n",
                        "\n",
                        "image 1/1 c:\\Users\\hifia\\Projects\\Marine_Debris\\datasets\\Planet\\dataset_splits_aug\\val\\images\\20180107_153415_1032_17231-29818-16_jpg_1.000000.jpg: 256x256 4 debriss, 16.2ms\n",
                        "Speed: 0.0ms preprocess, 16.2ms inference, 2.0ms postprocess per image at shape (1, 3, 256, 256)\n",
                        "\n",
                        "image 1/1 c:\\Users\\hifia\\Projects\\Marine_Debris\\datasets\\Planet\\dataset_splits_aug\\val\\images\\20180107_153415_1032_17231-29818-16_jpg_2.000000.jpg: 256x256 4 debriss, 12.0ms\n",
                        "Speed: 0.0ms preprocess, 12.0ms inference, 3.0ms postprocess per image at shape (1, 3, 256, 256)\n",
                        "\n",
                        "image 1/1 c:\\Users\\hifia\\Projects\\Marine_Debris\\datasets\\Planet\\dataset_splits_aug\\val\\images\\20180107_153415_1032_17231-29818-16_jpg_3.000000.jpg: 256x256 3 debriss, 12.0ms\n",
                        "Speed: 0.0ms preprocess, 12.0ms inference, 2.0ms postprocess per image at shape (1, 3, 256, 256)\n"
                    ]
                },
                {
                    "name": "stderr",
                    "output_type": "stream",
                    "text": [
                        " 60%|██████    | 345/574 [00:08<00:05, 43.18it/s]"
                    ]
                },
                {
                    "name": "stdout",
                    "output_type": "stream",
                    "text": [
                        "\n",
                        "image 1/1 c:\\Users\\hifia\\Projects\\Marine_Debris\\datasets\\Planet\\dataset_splits_aug\\val\\images\\20180107_153415_1032_17231-29818-16_jpg_4.000000.jpg: 256x256 3 debriss, 11.0ms\n",
                        "Speed: 1.0ms preprocess, 11.0ms inference, 2.3ms postprocess per image at shape (1, 3, 256, 256)\n",
                        "\n",
                        "image 1/1 c:\\Users\\hifia\\Projects\\Marine_Debris\\datasets\\Planet\\dataset_splits_aug\\val\\images\\20180107_153415_1032_17235-29819-16_jpg.rf.c6e291c6a407398369f9e8325afe4fa6.jpg: 256x256 3 debriss, 13.0ms\n",
                        "Speed: 0.0ms preprocess, 13.0ms inference, 2.0ms postprocess per image at shape (1, 3, 256, 256)\n",
                        "\n",
                        "image 1/1 c:\\Users\\hifia\\Projects\\Marine_Debris\\datasets\\Planet\\dataset_splits_aug\\val\\images\\20180107_153415_1032_17235-29819-16_jpg_0.000000.jpg: 256x256 5 debriss, 11.0ms\n",
                        "Speed: 1.0ms preprocess, 11.0ms inference, 2.0ms postprocess per image at shape (1, 3, 256, 256)\n",
                        "\n",
                        "image 1/1 c:\\Users\\hifia\\Projects\\Marine_Debris\\datasets\\Planet\\dataset_splits_aug\\val\\images\\20180107_153415_1032_17235-29819-16_jpg_1.000000.jpg: 256x256 3 debriss, 14.0ms\n",
                        "Speed: 0.0ms preprocess, 14.0ms inference, 1.0ms postprocess per image at shape (1, 3, 256, 256)\n",
                        "\n",
                        "image 1/1 c:\\Users\\hifia\\Projects\\Marine_Debris\\datasets\\Planet\\dataset_splits_aug\\val\\images\\20180107_153415_1032_17235-29819-16_jpg_2.000000.jpg: 256x256 3 debriss, 12.3ms\n",
                        "Speed: 1.0ms preprocess, 12.3ms inference, 2.0ms postprocess per image at shape (1, 3, 256, 256)\n"
                    ]
                },
                {
                    "name": "stderr",
                    "output_type": "stream",
                    "text": [
                        " 61%|██████    | 350/574 [00:08<00:05, 43.37it/s]"
                    ]
                },
                {
                    "name": "stdout",
                    "output_type": "stream",
                    "text": [
                        "\n",
                        "image 1/1 c:\\Users\\hifia\\Projects\\Marine_Debris\\datasets\\Planet\\dataset_splits_aug\\val\\images\\20180107_153415_1032_17235-29819-16_jpg_3.000000.jpg: 256x256 5 debriss, 11.5ms\n",
                        "Speed: 1.0ms preprocess, 11.5ms inference, 1.0ms postprocess per image at shape (1, 3, 256, 256)\n",
                        "\n",
                        "image 1/1 c:\\Users\\hifia\\Projects\\Marine_Debris\\datasets\\Planet\\dataset_splits_aug\\val\\images\\20180107_153415_1032_17235-29819-16_jpg_4.000000.jpg: 256x256 4 debriss, 12.0ms\n",
                        "Speed: 0.0ms preprocess, 12.0ms inference, 2.0ms postprocess per image at shape (1, 3, 256, 256)\n",
                        "\n",
                        "image 1/1 c:\\Users\\hifia\\Projects\\Marine_Debris\\datasets\\Planet\\dataset_splits_aug\\val\\images\\20180107_153415_1032_17244-29820-16_jpg.rf.78be61a4769616a0ad7d55d8297a19a4.jpg: 256x256 3 debriss, 13.0ms\n",
                        "Speed: 0.0ms preprocess, 13.0ms inference, 1.2ms postprocess per image at shape (1, 3, 256, 256)\n",
                        "\n",
                        "image 1/1 c:\\Users\\hifia\\Projects\\Marine_Debris\\datasets\\Planet\\dataset_splits_aug\\val\\images\\20180107_153415_1032_17244-29820-16_jpg_0.000000.jpg: 256x256 5 debriss, 12.2ms\n",
                        "Speed: 1.0ms preprocess, 12.2ms inference, 2.0ms postprocess per image at shape (1, 3, 256, 256)\n",
                        "\n",
                        "image 1/1 c:\\Users\\hifia\\Projects\\Marine_Debris\\datasets\\Planet\\dataset_splits_aug\\val\\images\\20180107_153415_1032_17244-29820-16_jpg_1.000000.jpg: 256x256 3 debriss, 12.3ms\n",
                        "Speed: 0.0ms preprocess, 12.3ms inference, 1.0ms postprocess per image at shape (1, 3, 256, 256)\n"
                    ]
                },
                {
                    "name": "stderr",
                    "output_type": "stream",
                    "text": [
                        " 62%|██████▏   | 355/574 [00:08<00:04, 43.90it/s]"
                    ]
                },
                {
                    "name": "stdout",
                    "output_type": "stream",
                    "text": [
                        "\n",
                        "image 1/1 c:\\Users\\hifia\\Projects\\Marine_Debris\\datasets\\Planet\\dataset_splits_aug\\val\\images\\20180107_153415_1032_17244-29820-16_jpg_2.000000.jpg: 256x256 3 debriss, 12.0ms\n",
                        "Speed: 0.0ms preprocess, 12.0ms inference, 1.0ms postprocess per image at shape (1, 3, 256, 256)\n",
                        "\n",
                        "image 1/1 c:\\Users\\hifia\\Projects\\Marine_Debris\\datasets\\Planet\\dataset_splits_aug\\val\\images\\20180107_153415_1032_17244-29820-16_jpg_3.000000.jpg: 256x256 2 debriss, 14.0ms\n",
                        "Speed: 1.0ms preprocess, 14.0ms inference, 1.9ms postprocess per image at shape (1, 3, 256, 256)\n",
                        "\n",
                        "image 1/1 c:\\Users\\hifia\\Projects\\Marine_Debris\\datasets\\Planet\\dataset_splits_aug\\val\\images\\20180107_153415_1032_17244-29820-16_jpg_4.000000.jpg: 256x256 4 debriss, 13.1ms\n",
                        "Speed: 0.0ms preprocess, 13.1ms inference, 2.0ms postprocess per image at shape (1, 3, 256, 256)\n",
                        "\n",
                        "image 1/1 c:\\Users\\hifia\\Projects\\Marine_Debris\\datasets\\Planet\\dataset_splits_aug\\val\\images\\20180107_153415_1032_17245-29820-16_jpg.rf.d9467b33a4f8845024182c0b3fdde443.jpg: 256x256 1 debris, 12.2ms\n",
                        "Speed: 1.0ms preprocess, 12.2ms inference, 1.0ms postprocess per image at shape (1, 3, 256, 256)\n",
                        "\n",
                        "image 1/1 c:\\Users\\hifia\\Projects\\Marine_Debris\\datasets\\Planet\\dataset_splits_aug\\val\\images\\20180107_153415_1032_17245-29820-16_jpg_0.000000.jpg: 256x256 1 debris, 11.7ms\n",
                        "Speed: 0.0ms preprocess, 11.7ms inference, 2.0ms postprocess per image at shape (1, 3, 256, 256)\n"
                    ]
                },
                {
                    "name": "stderr",
                    "output_type": "stream",
                    "text": [
                        " 63%|██████▎   | 360/574 [00:08<00:04, 43.85it/s]"
                    ]
                },
                {
                    "name": "stdout",
                    "output_type": "stream",
                    "text": [
                        "\n",
                        "image 1/1 c:\\Users\\hifia\\Projects\\Marine_Debris\\datasets\\Planet\\dataset_splits_aug\\val\\images\\20180107_153415_1032_17245-29820-16_jpg_1.000000.jpg: 256x256 1 debris, 12.0ms\n",
                        "Speed: 0.0ms preprocess, 12.0ms inference, 2.3ms postprocess per image at shape (1, 3, 256, 256)\n",
                        "\n",
                        "image 1/1 c:\\Users\\hifia\\Projects\\Marine_Debris\\datasets\\Planet\\dataset_splits_aug\\val\\images\\20180107_153415_1032_17245-29820-16_jpg_2.000000.jpg: 256x256 1 debris, 17.0ms\n",
                        "Speed: 1.0ms preprocess, 17.0ms inference, 2.0ms postprocess per image at shape (1, 3, 256, 256)\n",
                        "\n",
                        "image 1/1 c:\\Users\\hifia\\Projects\\Marine_Debris\\datasets\\Planet\\dataset_splits_aug\\val\\images\\20180107_153415_1032_17245-29820-16_jpg_3.000000.jpg: 256x256 1 debris, 13.0ms\n",
                        "Speed: 1.0ms preprocess, 13.0ms inference, 1.0ms postprocess per image at shape (1, 3, 256, 256)\n",
                        "\n",
                        "image 1/1 c:\\Users\\hifia\\Projects\\Marine_Debris\\datasets\\Planet\\dataset_splits_aug\\val\\images\\20180107_153415_1032_17245-29820-16_jpg_4.000000.jpg: 256x256 1 debris, 12.2ms\n",
                        "Speed: 0.0ms preprocess, 12.2ms inference, 2.0ms postprocess per image at shape (1, 3, 256, 256)\n",
                        "\n",
                        "image 1/1 c:\\Users\\hifia\\Projects\\Marine_Debris\\datasets\\Planet\\dataset_splits_aug\\val\\images\\20180107_153415_1032_17245-29821-16_jpg.rf.0a77f95ba76204817c8746d018b6dc7b.jpg: 256x256 2 debriss, 11.0ms\n",
                        "Speed: 1.0ms preprocess, 11.0ms inference, 2.0ms postprocess per image at shape (1, 3, 256, 256)\n"
                    ]
                },
                {
                    "name": "stderr",
                    "output_type": "stream",
                    "text": [
                        " 64%|██████▎   | 365/574 [00:08<00:04, 42.49it/s]"
                    ]
                },
                {
                    "name": "stdout",
                    "output_type": "stream",
                    "text": [
                        "\n",
                        "image 1/1 c:\\Users\\hifia\\Projects\\Marine_Debris\\datasets\\Planet\\dataset_splits_aug\\val\\images\\20180107_153415_1032_17245-29821-16_jpg_0.000000.jpg: 256x256 4 debriss, 12.4ms\n",
                        "Speed: 1.0ms preprocess, 12.4ms inference, 2.0ms postprocess per image at shape (1, 3, 256, 256)\n",
                        "\n",
                        "image 1/1 c:\\Users\\hifia\\Projects\\Marine_Debris\\datasets\\Planet\\dataset_splits_aug\\val\\images\\20180107_153415_1032_17245-29821-16_jpg_1.000000.jpg: 256x256 4 debriss, 14.0ms\n",
                        "Speed: 1.0ms preprocess, 14.0ms inference, 2.0ms postprocess per image at shape (1, 3, 256, 256)\n",
                        "\n",
                        "image 1/1 c:\\Users\\hifia\\Projects\\Marine_Debris\\datasets\\Planet\\dataset_splits_aug\\val\\images\\20180107_153415_1032_17245-29821-16_jpg_2.000000.jpg: 256x256 3 debriss, 14.3ms\n",
                        "Speed: 0.0ms preprocess, 14.3ms inference, 2.0ms postprocess per image at shape (1, 3, 256, 256)\n",
                        "\n",
                        "image 1/1 c:\\Users\\hifia\\Projects\\Marine_Debris\\datasets\\Planet\\dataset_splits_aug\\val\\images\\20180107_153415_1032_17245-29821-16_jpg_3.000000.jpg: 256x256 2 debriss, 12.0ms\n",
                        "Speed: 1.0ms preprocess, 12.0ms inference, 1.3ms postprocess per image at shape (1, 3, 256, 256)\n",
                        "\n",
                        "image 1/1 c:\\Users\\hifia\\Projects\\Marine_Debris\\datasets\\Planet\\dataset_splits_aug\\val\\images\\20180107_153415_1032_17245-29821-16_jpg_4.000000.jpg: 256x256 3 debriss, 12.0ms\n",
                        "Speed: 1.0ms preprocess, 12.0ms inference, 1.0ms postprocess per image at shape (1, 3, 256, 256)\n"
                    ]
                },
                {
                    "name": "stderr",
                    "output_type": "stream",
                    "text": [
                        " 64%|██████▍   | 370/574 [00:08<00:04, 42.45it/s]"
                    ]
                },
                {
                    "name": "stdout",
                    "output_type": "stream",
                    "text": [
                        "\n",
                        "image 1/1 c:\\Users\\hifia\\Projects\\Marine_Debris\\datasets\\Planet\\dataset_splits_aug\\val\\images\\20180224_153958_0f1b_17097-29712-16_jpg.rf.514a130626528c9d3ea5a1bdfed6b19d.jpg: 256x256 6 debriss, 12.2ms\n",
                        "Speed: 0.0ms preprocess, 12.2ms inference, 2.0ms postprocess per image at shape (1, 3, 256, 256)\n",
                        "\n",
                        "image 1/1 c:\\Users\\hifia\\Projects\\Marine_Debris\\datasets\\Planet\\dataset_splits_aug\\val\\images\\20180224_153958_0f1b_17097-29712-16_jpg_0.000000.jpg: 256x256 4 debriss, 12.0ms\n",
                        "Speed: 1.0ms preprocess, 12.0ms inference, 1.0ms postprocess per image at shape (1, 3, 256, 256)\n",
                        "\n",
                        "image 1/1 c:\\Users\\hifia\\Projects\\Marine_Debris\\datasets\\Planet\\dataset_splits_aug\\val\\images\\20180224_153958_0f1b_17097-29712-16_jpg_1.000000.jpg: 256x256 6 debriss, 13.0ms\n",
                        "Speed: 0.0ms preprocess, 13.0ms inference, 1.0ms postprocess per image at shape (1, 3, 256, 256)\n",
                        "\n",
                        "image 1/1 c:\\Users\\hifia\\Projects\\Marine_Debris\\datasets\\Planet\\dataset_splits_aug\\val\\images\\20180224_153958_0f1b_17097-29712-16_jpg_2.000000.jpg: 256x256 6 debriss, 11.0ms\n",
                        "Speed: 0.0ms preprocess, 11.0ms inference, 2.2ms postprocess per image at shape (1, 3, 256, 256)\n",
                        "\n",
                        "image 1/1 c:\\Users\\hifia\\Projects\\Marine_Debris\\datasets\\Planet\\dataset_splits_aug\\val\\images\\20180224_153958_0f1b_17097-29712-16_jpg_3.000000.jpg: 256x256 6 debriss, 14.0ms\n",
                        "Speed: 1.0ms preprocess, 14.0ms inference, 1.0ms postprocess per image at shape (1, 3, 256, 256)\n"
                    ]
                },
                {
                    "name": "stderr",
                    "output_type": "stream",
                    "text": [
                        " 65%|██████▌   | 375/574 [00:08<00:04, 42.87it/s]"
                    ]
                },
                {
                    "name": "stdout",
                    "output_type": "stream",
                    "text": [
                        "\n",
                        "image 1/1 c:\\Users\\hifia\\Projects\\Marine_Debris\\datasets\\Planet\\dataset_splits_aug\\val\\images\\20180224_153958_0f1b_17097-29712-16_jpg_4.000000.jpg: 256x256 4 debriss, 14.0ms\n",
                        "Speed: 1.0ms preprocess, 14.0ms inference, 3.0ms postprocess per image at shape (1, 3, 256, 256)\n",
                        "\n",
                        "image 1/1 c:\\Users\\hifia\\Projects\\Marine_Debris\\datasets\\Planet\\dataset_splits_aug\\val\\images\\20180224_153958_0f1b_17098-29712-16_jpg.rf.54d15cac0c992f9165a91669b3c24317.jpg: 256x256 10 debriss, 12.0ms\n",
                        "Speed: 0.0ms preprocess, 12.0ms inference, 2.0ms postprocess per image at shape (1, 3, 256, 256)\n",
                        "\n",
                        "image 1/1 c:\\Users\\hifia\\Projects\\Marine_Debris\\datasets\\Planet\\dataset_splits_aug\\val\\images\\20180224_153958_0f1b_17098-29712-16_jpg_0.000000.jpg: 256x256 8 debriss, 12.2ms\n",
                        "Speed: 1.0ms preprocess, 12.2ms inference, 2.0ms postprocess per image at shape (1, 3, 256, 256)\n",
                        "\n",
                        "image 1/1 c:\\Users\\hifia\\Projects\\Marine_Debris\\datasets\\Planet\\dataset_splits_aug\\val\\images\\20180224_153958_0f1b_17098-29712-16_jpg_1.000000.jpg: 256x256 10 debriss, 13.5ms\n",
                        "Speed: 0.0ms preprocess, 13.5ms inference, 1.0ms postprocess per image at shape (1, 3, 256, 256)\n",
                        "\n",
                        "image 1/1 c:\\Users\\hifia\\Projects\\Marine_Debris\\datasets\\Planet\\dataset_splits_aug\\val\\images\\20180224_153958_0f1b_17098-29712-16_jpg_2.000000.jpg: 256x256 10 debriss, 11.0ms\n",
                        "Speed: 1.0ms preprocess, 11.0ms inference, 2.0ms postprocess per image at shape (1, 3, 256, 256)\n"
                    ]
                },
                {
                    "name": "stderr",
                    "output_type": "stream",
                    "text": [
                        " 66%|██████▌   | 380/574 [00:09<00:04, 42.65it/s]"
                    ]
                },
                {
                    "name": "stdout",
                    "output_type": "stream",
                    "text": [
                        "\n",
                        "image 1/1 c:\\Users\\hifia\\Projects\\Marine_Debris\\datasets\\Planet\\dataset_splits_aug\\val\\images\\20180224_153958_0f1b_17098-29712-16_jpg_3.000000.jpg: 256x256 9 debriss, 15.6ms\n",
                        "Speed: 1.0ms preprocess, 15.6ms inference, 2.2ms postprocess per image at shape (1, 3, 256, 256)\n",
                        "\n",
                        "image 1/1 c:\\Users\\hifia\\Projects\\Marine_Debris\\datasets\\Planet\\dataset_splits_aug\\val\\images\\20180224_153958_0f1b_17098-29712-16_jpg_4.000000.jpg: 256x256 8 debriss, 12.0ms\n",
                        "Speed: 0.0ms preprocess, 12.0ms inference, 2.0ms postprocess per image at shape (1, 3, 256, 256)\n",
                        "\n",
                        "image 1/1 c:\\Users\\hifia\\Projects\\Marine_Debris\\datasets\\Planet\\dataset_splits_aug\\val\\images\\20180224_153959_0f1b_17099-29719-16_jpg.rf.5f767e622dc8c23b3772db8e7703eca2.jpg: 256x256 13 debriss, 11.4ms\n",
                        "Speed: 1.0ms preprocess, 11.4ms inference, 2.0ms postprocess per image at shape (1, 3, 256, 256)\n",
                        "\n",
                        "image 1/1 c:\\Users\\hifia\\Projects\\Marine_Debris\\datasets\\Planet\\dataset_splits_aug\\val\\images\\20180224_153959_0f1b_17099-29719-16_jpg_0.000000.jpg: 256x256 13 debriss, 11.3ms\n",
                        "Speed: 0.0ms preprocess, 11.3ms inference, 1.0ms postprocess per image at shape (1, 3, 256, 256)\n",
                        "\n",
                        "image 1/1 c:\\Users\\hifia\\Projects\\Marine_Debris\\datasets\\Planet\\dataset_splits_aug\\val\\images\\20180224_153959_0f1b_17099-29719-16_jpg_1.000000.jpg: 256x256 13 debriss, 11.3ms\n",
                        "Speed: 1.0ms preprocess, 11.3ms inference, 2.0ms postprocess per image at shape (1, 3, 256, 256)\n"
                    ]
                },
                {
                    "name": "stderr",
                    "output_type": "stream",
                    "text": [
                        " 67%|██████▋   | 385/574 [00:09<00:04, 42.87it/s]"
                    ]
                },
                {
                    "name": "stdout",
                    "output_type": "stream",
                    "text": [
                        "\n",
                        "image 1/1 c:\\Users\\hifia\\Projects\\Marine_Debris\\datasets\\Planet\\dataset_splits_aug\\val\\images\\20180224_153959_0f1b_17099-29719-16_jpg_2.000000.jpg: 256x256 10 debriss, 12.0ms\n",
                        "Speed: 0.0ms preprocess, 12.0ms inference, 1.0ms postprocess per image at shape (1, 3, 256, 256)\n",
                        "\n",
                        "image 1/1 c:\\Users\\hifia\\Projects\\Marine_Debris\\datasets\\Planet\\dataset_splits_aug\\val\\images\\20180224_153959_0f1b_17099-29719-16_jpg_3.000000.jpg: 256x256 11 debriss, 12.0ms\n",
                        "Speed: 1.0ms preprocess, 12.0ms inference, 2.0ms postprocess per image at shape (1, 3, 256, 256)\n",
                        "\n",
                        "image 1/1 c:\\Users\\hifia\\Projects\\Marine_Debris\\datasets\\Planet\\dataset_splits_aug\\val\\images\\20180224_153959_0f1b_17099-29719-16_jpg_4.000000.jpg: 256x256 13 debriss, 13.0ms\n",
                        "Speed: 1.0ms preprocess, 13.0ms inference, 2.0ms postprocess per image at shape (1, 3, 256, 256)\n",
                        "\n",
                        "image 1/1 c:\\Users\\hifia\\Projects\\Marine_Debris\\datasets\\Planet\\dataset_splits_aug\\val\\images\\20180224_162902_0f2b_17140-29726-16_jpg.rf.12ea77812184f02e15214dc29ff6f7ec.jpg: 256x256 6 debriss, 13.0ms\n",
                        "Speed: 0.0ms preprocess, 13.0ms inference, 2.0ms postprocess per image at shape (1, 3, 256, 256)\n",
                        "\n",
                        "image 1/1 c:\\Users\\hifia\\Projects\\Marine_Debris\\datasets\\Planet\\dataset_splits_aug\\val\\images\\20180224_162902_0f2b_17140-29726-16_jpg_0.000000.jpg: 256x256 6 debriss, 11.0ms\n",
                        "Speed: 0.0ms preprocess, 11.0ms inference, 2.0ms postprocess per image at shape (1, 3, 256, 256)\n"
                    ]
                },
                {
                    "name": "stderr",
                    "output_type": "stream",
                    "text": [
                        " 68%|██████▊   | 390/574 [00:09<00:04, 43.29it/s]"
                    ]
                },
                {
                    "name": "stdout",
                    "output_type": "stream",
                    "text": [
                        "\n",
                        "image 1/1 c:\\Users\\hifia\\Projects\\Marine_Debris\\datasets\\Planet\\dataset_splits_aug\\val\\images\\20180224_162902_0f2b_17140-29726-16_jpg_1.000000.jpg: 256x256 6 debriss, 12.0ms\n",
                        "Speed: 1.0ms preprocess, 12.0ms inference, 1.0ms postprocess per image at shape (1, 3, 256, 256)\n",
                        "\n",
                        "image 1/1 c:\\Users\\hifia\\Projects\\Marine_Debris\\datasets\\Planet\\dataset_splits_aug\\val\\images\\20180224_162902_0f2b_17140-29726-16_jpg_2.000000.jpg: 256x256 9 debriss, 12.4ms\n",
                        "Speed: 0.0ms preprocess, 12.4ms inference, 1.0ms postprocess per image at shape (1, 3, 256, 256)\n",
                        "\n",
                        "image 1/1 c:\\Users\\hifia\\Projects\\Marine_Debris\\datasets\\Planet\\dataset_splits_aug\\val\\images\\20180224_162902_0f2b_17140-29726-16_jpg_3.000000.jpg: 256x256 8 debriss, 12.3ms\n",
                        "Speed: 1.0ms preprocess, 12.3ms inference, 1.0ms postprocess per image at shape (1, 3, 256, 256)\n",
                        "\n",
                        "image 1/1 c:\\Users\\hifia\\Projects\\Marine_Debris\\datasets\\Planet\\dataset_splits_aug\\val\\images\\20180224_162902_0f2b_17140-29726-16_jpg_4.000000.jpg: 256x256 7 debriss, 14.9ms\n",
                        "Speed: 0.0ms preprocess, 14.9ms inference, 2.0ms postprocess per image at shape (1, 3, 256, 256)\n",
                        "\n",
                        "image 1/1 c:\\Users\\hifia\\Projects\\Marine_Debris\\datasets\\Planet\\dataset_splits_aug\\val\\images\\20180224_162902_0f2b_17151-29729-16_jpg.rf.105baa8942a9c6d8630fe050cde0e691.jpg: 256x256 10 debriss, 11.0ms\n",
                        "Speed: 1.0ms preprocess, 11.0ms inference, 2.0ms postprocess per image at shape (1, 3, 256, 256)\n"
                    ]
                },
                {
                    "name": "stderr",
                    "output_type": "stream",
                    "text": [
                        " 69%|██████▉   | 395/574 [00:09<00:04, 43.17it/s]"
                    ]
                },
                {
                    "name": "stdout",
                    "output_type": "stream",
                    "text": [
                        "\n",
                        "image 1/1 c:\\Users\\hifia\\Projects\\Marine_Debris\\datasets\\Planet\\dataset_splits_aug\\val\\images\\20180224_162902_0f2b_17151-29729-16_jpg_0.000000.jpg: 256x256 8 debriss, 12.0ms\n",
                        "Speed: 0.0ms preprocess, 12.0ms inference, 2.0ms postprocess per image at shape (1, 3, 256, 256)\n",
                        "\n",
                        "image 1/1 c:\\Users\\hifia\\Projects\\Marine_Debris\\datasets\\Planet\\dataset_splits_aug\\val\\images\\20180224_162902_0f2b_17151-29729-16_jpg_1.000000.jpg: 256x256 8 debriss, 15.0ms\n",
                        "Speed: 0.0ms preprocess, 15.0ms inference, 1.0ms postprocess per image at shape (1, 3, 256, 256)\n",
                        "\n",
                        "image 1/1 c:\\Users\\hifia\\Projects\\Marine_Debris\\datasets\\Planet\\dataset_splits_aug\\val\\images\\20180224_162902_0f2b_17151-29729-16_jpg_2.000000.jpg: 256x256 9 debriss, 11.7ms\n",
                        "Speed: 1.0ms preprocess, 11.7ms inference, 1.0ms postprocess per image at shape (1, 3, 256, 256)\n",
                        "\n",
                        "image 1/1 c:\\Users\\hifia\\Projects\\Marine_Debris\\datasets\\Planet\\dataset_splits_aug\\val\\images\\20180224_162902_0f2b_17151-29729-16_jpg_3.000000.jpg: 256x256 8 debriss, 11.3ms\n",
                        "Speed: 0.0ms preprocess, 11.3ms inference, 2.0ms postprocess per image at shape (1, 3, 256, 256)\n",
                        "\n",
                        "image 1/1 c:\\Users\\hifia\\Projects\\Marine_Debris\\datasets\\Planet\\dataset_splits_aug\\val\\images\\20180224_162902_0f2b_17151-29729-16_jpg_4.000000.jpg: 256x256 8 debriss, 12.3ms\n",
                        "Speed: 0.0ms preprocess, 12.3ms inference, 1.0ms postprocess per image at shape (1, 3, 256, 256)\n"
                    ]
                },
                {
                    "name": "stderr",
                    "output_type": "stream",
                    "text": [
                        " 70%|██████▉   | 400/574 [00:09<00:03, 43.67it/s]"
                    ]
                },
                {
                    "name": "stdout",
                    "output_type": "stream",
                    "text": [
                        "\n",
                        "image 1/1 c:\\Users\\hifia\\Projects\\Marine_Debris\\datasets\\Planet\\dataset_splits_aug\\val\\images\\20180224_162902_0f2b_17156-29725-16_jpg.rf.172877aa45c7d2a7b0bc6b45b20668ac.jpg: 256x256 7 debriss, 11.0ms\n",
                        "Speed: 1.0ms preprocess, 11.0ms inference, 1.0ms postprocess per image at shape (1, 3, 256, 256)\n",
                        "\n",
                        "image 1/1 c:\\Users\\hifia\\Projects\\Marine_Debris\\datasets\\Planet\\dataset_splits_aug\\val\\images\\20180224_162902_0f2b_17156-29725-16_jpg_0.000000.jpg: 256x256 6 debriss, 13.0ms\n",
                        "Speed: 1.0ms preprocess, 13.0ms inference, 2.0ms postprocess per image at shape (1, 3, 256, 256)\n",
                        "\n",
                        "image 1/1 c:\\Users\\hifia\\Projects\\Marine_Debris\\datasets\\Planet\\dataset_splits_aug\\val\\images\\20180224_162902_0f2b_17156-29725-16_jpg_1.000000.jpg: 256x256 9 debriss, 12.0ms\n",
                        "Speed: 1.0ms preprocess, 12.0ms inference, 1.0ms postprocess per image at shape (1, 3, 256, 256)\n",
                        "\n",
                        "image 1/1 c:\\Users\\hifia\\Projects\\Marine_Debris\\datasets\\Planet\\dataset_splits_aug\\val\\images\\20180224_162902_0f2b_17156-29725-16_jpg_2.000000.jpg: 256x256 8 debriss, 13.0ms\n",
                        "Speed: 0.0ms preprocess, 13.0ms inference, 2.0ms postprocess per image at shape (1, 3, 256, 256)\n",
                        "\n",
                        "image 1/1 c:\\Users\\hifia\\Projects\\Marine_Debris\\datasets\\Planet\\dataset_splits_aug\\val\\images\\20180224_162902_0f2b_17156-29725-16_jpg_3.000000.jpg: 256x256 9 debriss, 12.0ms\n",
                        "Speed: 0.0ms preprocess, 12.0ms inference, 2.0ms postprocess per image at shape (1, 3, 256, 256)\n"
                    ]
                },
                {
                    "name": "stderr",
                    "output_type": "stream",
                    "text": [
                        " 71%|███████   | 405/574 [00:09<00:03, 43.79it/s]"
                    ]
                },
                {
                    "name": "stdout",
                    "output_type": "stream",
                    "text": [
                        "\n",
                        "image 1/1 c:\\Users\\hifia\\Projects\\Marine_Debris\\datasets\\Planet\\dataset_splits_aug\\val\\images\\20180224_162902_0f2b_17156-29725-16_jpg_4.000000.jpg: 256x256 8 debriss, 12.0ms\n",
                        "Speed: 1.0ms preprocess, 12.0ms inference, 2.0ms postprocess per image at shape (1, 3, 256, 256)\n",
                        "\n",
                        "image 1/1 c:\\Users\\hifia\\Projects\\Marine_Debris\\datasets\\Planet\\dataset_splits_aug\\val\\images\\20180313_154258_1008_17021-29716-16_jpg.rf.0461f8366fbe86cf03fedc5e1857f3fc.jpg: 256x256 1 debris, 10.7ms\n",
                        "Speed: 1.0ms preprocess, 10.7ms inference, 2.0ms postprocess per image at shape (1, 3, 256, 256)\n",
                        "\n",
                        "image 1/1 c:\\Users\\hifia\\Projects\\Marine_Debris\\datasets\\Planet\\dataset_splits_aug\\val\\images\\20180313_154258_1008_17021-29716-16_jpg_0.000000.jpg: 256x256 1 debris, 13.7ms\n",
                        "Speed: 0.0ms preprocess, 13.7ms inference, 1.0ms postprocess per image at shape (1, 3, 256, 256)\n",
                        "\n",
                        "image 1/1 c:\\Users\\hifia\\Projects\\Marine_Debris\\datasets\\Planet\\dataset_splits_aug\\val\\images\\20180313_154258_1008_17021-29716-16_jpg_1.000000.jpg: 256x256 1 debris, 12.0ms\n",
                        "Speed: 0.0ms preprocess, 12.0ms inference, 1.0ms postprocess per image at shape (1, 3, 256, 256)\n",
                        "\n",
                        "image 1/1 c:\\Users\\hifia\\Projects\\Marine_Debris\\datasets\\Planet\\dataset_splits_aug\\val\\images\\20180313_154258_1008_17021-29716-16_jpg_2.000000.jpg: 256x256 1 debris, 13.0ms\n",
                        "Speed: 0.0ms preprocess, 13.0ms inference, 2.0ms postprocess per image at shape (1, 3, 256, 256)\n"
                    ]
                },
                {
                    "name": "stderr",
                    "output_type": "stream",
                    "text": [
                        " 71%|███████▏  | 410/574 [00:09<00:03, 43.96it/s]"
                    ]
                },
                {
                    "name": "stdout",
                    "output_type": "stream",
                    "text": [
                        "\n",
                        "image 1/1 c:\\Users\\hifia\\Projects\\Marine_Debris\\datasets\\Planet\\dataset_splits_aug\\val\\images\\20180313_154258_1008_17021-29716-16_jpg_3.000000.jpg: 256x256 1 debris, 13.0ms\n",
                        "Speed: 1.0ms preprocess, 13.0ms inference, 2.0ms postprocess per image at shape (1, 3, 256, 256)\n",
                        "\n",
                        "image 1/1 c:\\Users\\hifia\\Projects\\Marine_Debris\\datasets\\Planet\\dataset_splits_aug\\val\\images\\20180313_154258_1008_17021-29716-16_jpg_4.000000.jpg: 256x256 1 debris, 12.0ms\n",
                        "Speed: 1.1ms preprocess, 12.0ms inference, 2.0ms postprocess per image at shape (1, 3, 256, 256)\n",
                        "\n",
                        "image 1/1 c:\\Users\\hifia\\Projects\\Marine_Debris\\datasets\\Planet\\dataset_splits_aug\\val\\images\\20180313_154258_1008_17024-29720-16_jpg.rf.7810f316cf5cbdb2474154252b4ad64b.jpg: 256x256 13 debriss, 12.3ms\n",
                        "Speed: 1.0ms preprocess, 12.3ms inference, 2.0ms postprocess per image at shape (1, 3, 256, 256)\n",
                        "\n",
                        "image 1/1 c:\\Users\\hifia\\Projects\\Marine_Debris\\datasets\\Planet\\dataset_splits_aug\\val\\images\\20180313_154258_1008_17024-29720-16_jpg_0.000000.jpg: 256x256 12 debriss, 11.0ms\n",
                        "Speed: 1.0ms preprocess, 11.0ms inference, 2.0ms postprocess per image at shape (1, 3, 256, 256)\n",
                        "\n",
                        "image 1/1 c:\\Users\\hifia\\Projects\\Marine_Debris\\datasets\\Planet\\dataset_splits_aug\\val\\images\\20180313_154258_1008_17024-29720-16_jpg_1.000000.jpg: 256x256 11 debriss, 17.0ms\n",
                        "Speed: 1.0ms preprocess, 17.0ms inference, 3.0ms postprocess per image at shape (1, 3, 256, 256)\n"
                    ]
                },
                {
                    "name": "stderr",
                    "output_type": "stream",
                    "text": [
                        " 72%|███████▏  | 415/574 [00:09<00:03, 43.03it/s]"
                    ]
                },
                {
                    "name": "stdout",
                    "output_type": "stream",
                    "text": [
                        "\n",
                        "image 1/1 c:\\Users\\hifia\\Projects\\Marine_Debris\\datasets\\Planet\\dataset_splits_aug\\val\\images\\20180313_154258_1008_17024-29720-16_jpg_2.000000.jpg: 256x256 11 debriss, 11.1ms\n",
                        "Speed: 0.0ms preprocess, 11.1ms inference, 2.0ms postprocess per image at shape (1, 3, 256, 256)\n",
                        "\n",
                        "image 1/1 c:\\Users\\hifia\\Projects\\Marine_Debris\\datasets\\Planet\\dataset_splits_aug\\val\\images\\20180313_154258_1008_17024-29720-16_jpg_3.000000.jpg: 256x256 14 debriss, 16.0ms\n",
                        "Speed: 1.0ms preprocess, 16.0ms inference, 2.0ms postprocess per image at shape (1, 3, 256, 256)\n",
                        "\n",
                        "image 1/1 c:\\Users\\hifia\\Projects\\Marine_Debris\\datasets\\Planet\\dataset_splits_aug\\val\\images\\20180313_154258_1008_17024-29720-16_jpg_4.000000.jpg: 256x256 12 debriss, 12.0ms\n",
                        "Speed: 1.0ms preprocess, 12.0ms inference, 2.0ms postprocess per image at shape (1, 3, 256, 256)\n",
                        "\n",
                        "image 1/1 c:\\Users\\hifia\\Projects\\Marine_Debris\\datasets\\Planet\\dataset_splits_aug\\val\\images\\20180313_154259_1008_17023-29733-16_jpg.rf.3873565bd9cec26b845ca3f62c5cdd24.jpg: 256x256 6 debriss, 14.0ms\n",
                        "Speed: 0.0ms preprocess, 14.0ms inference, 1.0ms postprocess per image at shape (1, 3, 256, 256)\n",
                        "\n",
                        "image 1/1 c:\\Users\\hifia\\Projects\\Marine_Debris\\datasets\\Planet\\dataset_splits_aug\\val\\images\\20180313_154259_1008_17023-29733-16_jpg_0.000000.jpg: 256x256 10 debriss, 15.0ms\n",
                        "Speed: 0.0ms preprocess, 15.0ms inference, 1.0ms postprocess per image at shape (1, 3, 256, 256)\n"
                    ]
                },
                {
                    "name": "stderr",
                    "output_type": "stream",
                    "text": [
                        " 73%|███████▎  | 420/574 [00:10<00:03, 41.54it/s]"
                    ]
                },
                {
                    "name": "stdout",
                    "output_type": "stream",
                    "text": [
                        "\n",
                        "image 1/1 c:\\Users\\hifia\\Projects\\Marine_Debris\\datasets\\Planet\\dataset_splits_aug\\val\\images\\20180313_154259_1008_17023-29733-16_jpg_1.000000.jpg: 256x256 8 debriss, 12.0ms\n",
                        "Speed: 0.0ms preprocess, 12.0ms inference, 2.0ms postprocess per image at shape (1, 3, 256, 256)\n",
                        "\n",
                        "image 1/1 c:\\Users\\hifia\\Projects\\Marine_Debris\\datasets\\Planet\\dataset_splits_aug\\val\\images\\20180313_154259_1008_17023-29733-16_jpg_2.000000.jpg: 256x256 11 debriss, 12.2ms\n",
                        "Speed: 1.0ms preprocess, 12.2ms inference, 1.0ms postprocess per image at shape (1, 3, 256, 256)\n",
                        "\n",
                        "image 1/1 c:\\Users\\hifia\\Projects\\Marine_Debris\\datasets\\Planet\\dataset_splits_aug\\val\\images\\20180313_154259_1008_17023-29733-16_jpg_3.000000.jpg: 256x256 8 debriss, 12.0ms\n",
                        "Speed: 1.0ms preprocess, 12.0ms inference, 1.0ms postprocess per image at shape (1, 3, 256, 256)\n",
                        "\n",
                        "image 1/1 c:\\Users\\hifia\\Projects\\Marine_Debris\\datasets\\Planet\\dataset_splits_aug\\val\\images\\20180313_154259_1008_17023-29733-16_jpg_4.000000.jpg: 256x256 7 debriss, 12.0ms\n",
                        "Speed: 1.0ms preprocess, 12.0ms inference, 2.0ms postprocess per image at shape (1, 3, 256, 256)\n",
                        "\n",
                        "image 1/1 c:\\Users\\hifia\\Projects\\Marine_Debris\\datasets\\Planet\\dataset_splits_aug\\val\\images\\20180313_154259_1008_17024-29730-16_jpg.rf.fba4e2e7b214de8befd711d379d3e28b.jpg: 256x256 7 debriss, 13.0ms\n",
                        "Speed: 0.0ms preprocess, 13.0ms inference, 1.0ms postprocess per image at shape (1, 3, 256, 256)\n"
                    ]
                },
                {
                    "name": "stderr",
                    "output_type": "stream",
                    "text": [
                        " 74%|███████▍  | 425/574 [00:10<00:03, 42.13it/s]"
                    ]
                },
                {
                    "name": "stdout",
                    "output_type": "stream",
                    "text": [
                        "\n",
                        "image 1/1 c:\\Users\\hifia\\Projects\\Marine_Debris\\datasets\\Planet\\dataset_splits_aug\\val\\images\\20180313_154259_1008_17024-29730-16_jpg_0.000000.jpg: 256x256 7 debriss, 11.4ms\n",
                        "Speed: 1.0ms preprocess, 11.4ms inference, 2.0ms postprocess per image at shape (1, 3, 256, 256)\n",
                        "\n",
                        "image 1/1 c:\\Users\\hifia\\Projects\\Marine_Debris\\datasets\\Planet\\dataset_splits_aug\\val\\images\\20180313_154259_1008_17024-29730-16_jpg_1.000000.jpg: 256x256 6 debriss, 12.2ms\n",
                        "Speed: 0.0ms preprocess, 12.2ms inference, 1.0ms postprocess per image at shape (1, 3, 256, 256)\n",
                        "\n",
                        "image 1/1 c:\\Users\\hifia\\Projects\\Marine_Debris\\datasets\\Planet\\dataset_splits_aug\\val\\images\\20180313_154259_1008_17024-29730-16_jpg_2.000000.jpg: 256x256 8 debriss, 12.6ms\n",
                        "Speed: 0.0ms preprocess, 12.6ms inference, 1.0ms postprocess per image at shape (1, 3, 256, 256)\n",
                        "\n",
                        "image 1/1 c:\\Users\\hifia\\Projects\\Marine_Debris\\datasets\\Planet\\dataset_splits_aug\\val\\images\\20180313_154259_1008_17024-29730-16_jpg_3.000000.jpg: 256x256 8 debriss, 12.0ms\n",
                        "Speed: 1.0ms preprocess, 12.0ms inference, 2.0ms postprocess per image at shape (1, 3, 256, 256)\n",
                        "\n",
                        "image 1/1 c:\\Users\\hifia\\Projects\\Marine_Debris\\datasets\\Planet\\dataset_splits_aug\\val\\images\\20180313_154259_1008_17024-29730-16_jpg_4.000000.jpg: 256x256 8 debriss, 11.0ms\n",
                        "Speed: 1.0ms preprocess, 11.0ms inference, 2.0ms postprocess per image at shape (1, 3, 256, 256)\n"
                    ]
                },
                {
                    "name": "stderr",
                    "output_type": "stream",
                    "text": [
                        " 75%|███████▍  | 430/574 [00:10<00:03, 42.94it/s]"
                    ]
                },
                {
                    "name": "stdout",
                    "output_type": "stream",
                    "text": [
                        "\n",
                        "image 1/1 c:\\Users\\hifia\\Projects\\Marine_Debris\\datasets\\Planet\\dataset_splits_aug\\val\\images\\20180313_154259_1008_17025-29730-16_jpg.rf.1b983f78be2d3db58713ea277f06ae3a.jpg: 256x256 6 debriss, 13.1ms\n",
                        "Speed: 0.0ms preprocess, 13.1ms inference, 2.0ms postprocess per image at shape (1, 3, 256, 256)\n",
                        "\n",
                        "image 1/1 c:\\Users\\hifia\\Projects\\Marine_Debris\\datasets\\Planet\\dataset_splits_aug\\val\\images\\20180313_154259_1008_17025-29730-16_jpg_0.000000.jpg: 256x256 6 debriss, 13.0ms\n",
                        "Speed: 1.0ms preprocess, 13.0ms inference, 1.0ms postprocess per image at shape (1, 3, 256, 256)\n",
                        "\n",
                        "image 1/1 c:\\Users\\hifia\\Projects\\Marine_Debris\\datasets\\Planet\\dataset_splits_aug\\val\\images\\20180313_154259_1008_17025-29730-16_jpg_1.000000.jpg: 256x256 5 debriss, 14.0ms\n",
                        "Speed: 1.0ms preprocess, 14.0ms inference, 3.0ms postprocess per image at shape (1, 3, 256, 256)\n",
                        "\n",
                        "image 1/1 c:\\Users\\hifia\\Projects\\Marine_Debris\\datasets\\Planet\\dataset_splits_aug\\val\\images\\20180313_154259_1008_17025-29730-16_jpg_2.000000.jpg: 256x256 5 debriss, 12.3ms\n",
                        "Speed: 0.0ms preprocess, 12.3ms inference, 1.0ms postprocess per image at shape (1, 3, 256, 256)\n",
                        "\n",
                        "image 1/1 c:\\Users\\hifia\\Projects\\Marine_Debris\\datasets\\Planet\\dataset_splits_aug\\val\\images\\20180313_154259_1008_17025-29730-16_jpg_3.000000.jpg: 256x256 5 debriss, 12.2ms\n",
                        "Speed: 1.0ms preprocess, 12.2ms inference, 1.0ms postprocess per image at shape (1, 3, 256, 256)\n"
                    ]
                },
                {
                    "name": "stderr",
                    "output_type": "stream",
                    "text": [
                        " 76%|███████▌  | 435/574 [00:10<00:03, 42.80it/s]"
                    ]
                },
                {
                    "name": "stdout",
                    "output_type": "stream",
                    "text": [
                        "\n",
                        "image 1/1 c:\\Users\\hifia\\Projects\\Marine_Debris\\datasets\\Planet\\dataset_splits_aug\\val\\images\\20180313_154259_1008_17025-29730-16_jpg_4.000000.jpg: 256x256 6 debriss, 11.2ms\n",
                        "Speed: 1.0ms preprocess, 11.2ms inference, 2.0ms postprocess per image at shape (1, 3, 256, 256)\n",
                        "\n",
                        "image 1/1 c:\\Users\\hifia\\Projects\\Marine_Debris\\datasets\\Planet\\dataset_splits_aug\\val\\images\\20180313_154259_1008_17026-29735-16_jpg.rf.68d0b25d4c94288d0a4cf688a4b39c22.jpg: 256x256 6 debriss, 13.2ms\n",
                        "Speed: 0.0ms preprocess, 13.2ms inference, 2.0ms postprocess per image at shape (1, 3, 256, 256)\n",
                        "\n",
                        "image 1/1 c:\\Users\\hifia\\Projects\\Marine_Debris\\datasets\\Planet\\dataset_splits_aug\\val\\images\\20180313_154259_1008_17026-29735-16_jpg_0.000000.jpg: 256x256 4 debriss, 12.0ms\n",
                        "Speed: 0.0ms preprocess, 12.0ms inference, 1.0ms postprocess per image at shape (1, 3, 256, 256)\n",
                        "\n",
                        "image 1/1 c:\\Users\\hifia\\Projects\\Marine_Debris\\datasets\\Planet\\dataset_splits_aug\\val\\images\\20180313_154259_1008_17026-29735-16_jpg_1.000000.jpg: 256x256 3 debriss, 12.0ms\n",
                        "Speed: 1.0ms preprocess, 12.0ms inference, 1.0ms postprocess per image at shape (1, 3, 256, 256)\n",
                        "\n",
                        "image 1/1 c:\\Users\\hifia\\Projects\\Marine_Debris\\datasets\\Planet\\dataset_splits_aug\\val\\images\\20180313_154259_1008_17026-29735-16_jpg_2.000000.jpg: 256x256 5 debriss, 11.2ms\n",
                        "Speed: 1.0ms preprocess, 11.2ms inference, 1.0ms postprocess per image at shape (1, 3, 256, 256)\n"
                    ]
                },
                {
                    "name": "stderr",
                    "output_type": "stream",
                    "text": [
                        " 77%|███████▋  | 440/574 [00:10<00:03, 43.25it/s]"
                    ]
                },
                {
                    "name": "stdout",
                    "output_type": "stream",
                    "text": [
                        "\n",
                        "image 1/1 c:\\Users\\hifia\\Projects\\Marine_Debris\\datasets\\Planet\\dataset_splits_aug\\val\\images\\20180313_154259_1008_17026-29735-16_jpg_3.000000.jpg: 256x256 5 debriss, 11.8ms\n",
                        "Speed: 1.0ms preprocess, 11.8ms inference, 2.0ms postprocess per image at shape (1, 3, 256, 256)\n",
                        "\n",
                        "image 1/1 c:\\Users\\hifia\\Projects\\Marine_Debris\\datasets\\Planet\\dataset_splits_aug\\val\\images\\20180313_154259_1008_17026-29735-16_jpg_4.000000.jpg: 256x256 5 debriss, 13.3ms\n",
                        "Speed: 1.0ms preprocess, 13.3ms inference, 2.0ms postprocess per image at shape (1, 3, 256, 256)\n",
                        "\n",
                        "image 1/1 c:\\Users\\hifia\\Projects\\Marine_Debris\\datasets\\Planet\\dataset_splits_aug\\val\\images\\20180313_154300_1008_17015-29741-16_jpg.rf.b8bb6643d1ef580bfa4a0aefd4182bd9.jpg: 256x256 4 debriss, 12.0ms\n",
                        "Speed: 0.0ms preprocess, 12.0ms inference, 1.0ms postprocess per image at shape (1, 3, 256, 256)\n",
                        "\n",
                        "image 1/1 c:\\Users\\hifia\\Projects\\Marine_Debris\\datasets\\Planet\\dataset_splits_aug\\val\\images\\20180313_154300_1008_17015-29741-16_jpg_0.000000.jpg: 256x256 4 debriss, 14.0ms\n",
                        "Speed: 1.0ms preprocess, 14.0ms inference, 1.0ms postprocess per image at shape (1, 3, 256, 256)\n",
                        "\n",
                        "image 1/1 c:\\Users\\hifia\\Projects\\Marine_Debris\\datasets\\Planet\\dataset_splits_aug\\val\\images\\20180313_154300_1008_17015-29741-16_jpg_1.000000.jpg: 256x256 3 debriss, 11.0ms\n",
                        "Speed: 1.0ms preprocess, 11.0ms inference, 1.0ms postprocess per image at shape (1, 3, 256, 256)\n"
                    ]
                },
                {
                    "name": "stderr",
                    "output_type": "stream",
                    "text": [
                        " 78%|███████▊  | 445/574 [00:10<00:02, 43.25it/s]"
                    ]
                },
                {
                    "name": "stdout",
                    "output_type": "stream",
                    "text": [
                        "\n",
                        "image 1/1 c:\\Users\\hifia\\Projects\\Marine_Debris\\datasets\\Planet\\dataset_splits_aug\\val\\images\\20180313_154300_1008_17015-29741-16_jpg_2.000000.jpg: 256x256 4 debriss, 12.4ms\n",
                        "Speed: 1.0ms preprocess, 12.4ms inference, 1.0ms postprocess per image at shape (1, 3, 256, 256)\n",
                        "\n",
                        "image 1/1 c:\\Users\\hifia\\Projects\\Marine_Debris\\datasets\\Planet\\dataset_splits_aug\\val\\images\\20180313_154300_1008_17015-29741-16_jpg_3.000000.jpg: 256x256 4 debriss, 24.0ms\n",
                        "Speed: 1.0ms preprocess, 24.0ms inference, 2.0ms postprocess per image at shape (1, 3, 256, 256)\n",
                        "\n",
                        "image 1/1 c:\\Users\\hifia\\Projects\\Marine_Debris\\datasets\\Planet\\dataset_splits_aug\\val\\images\\20180313_154300_1008_17015-29741-16_jpg_4.000000.jpg: 256x256 4 debriss, 11.4ms\n",
                        "Speed: 1.0ms preprocess, 11.4ms inference, 1.0ms postprocess per image at shape (1, 3, 256, 256)\n",
                        "\n",
                        "image 1/1 c:\\Users\\hifia\\Projects\\Marine_Debris\\datasets\\Planet\\dataset_splits_aug\\val\\images\\20180313_154300_1008_17016-29741-16_jpg.rf.4b474165635109dcffc7374072d169ce.jpg: 256x256 4 debriss, 13.0ms\n",
                        "Speed: 1.0ms preprocess, 13.0ms inference, 1.0ms postprocess per image at shape (1, 3, 256, 256)\n",
                        "\n",
                        "image 1/1 c:\\Users\\hifia\\Projects\\Marine_Debris\\datasets\\Planet\\dataset_splits_aug\\val\\images\\20180313_154300_1008_17016-29741-16_jpg_0.000000.jpg: 256x256 3 debriss, 12.0ms\n",
                        "Speed: 0.0ms preprocess, 12.0ms inference, 1.0ms postprocess per image at shape (1, 3, 256, 256)\n"
                    ]
                },
                {
                    "name": "stderr",
                    "output_type": "stream",
                    "text": [
                        " 78%|███████▊  | 450/574 [00:10<00:02, 42.49it/s]"
                    ]
                },
                {
                    "name": "stdout",
                    "output_type": "stream",
                    "text": [
                        "\n",
                        "image 1/1 c:\\Users\\hifia\\Projects\\Marine_Debris\\datasets\\Planet\\dataset_splits_aug\\val\\images\\20180313_154300_1008_17016-29741-16_jpg_1.000000.jpg: 256x256 3 debriss, 26.1ms\n",
                        "Speed: 0.0ms preprocess, 26.1ms inference, 3.0ms postprocess per image at shape (1, 3, 256, 256)\n",
                        "\n",
                        "image 1/1 c:\\Users\\hifia\\Projects\\Marine_Debris\\datasets\\Planet\\dataset_splits_aug\\val\\images\\20180313_154300_1008_17016-29741-16_jpg_2.000000.jpg: 256x256 3 debriss, 12.0ms\n",
                        "Speed: 1.0ms preprocess, 12.0ms inference, 2.0ms postprocess per image at shape (1, 3, 256, 256)\n",
                        "\n",
                        "image 1/1 c:\\Users\\hifia\\Projects\\Marine_Debris\\datasets\\Planet\\dataset_splits_aug\\val\\images\\20180313_154300_1008_17016-29741-16_jpg_3.000000.jpg: 256x256 3 debriss, 12.0ms\n",
                        "Speed: 1.0ms preprocess, 12.0ms inference, 2.1ms postprocess per image at shape (1, 3, 256, 256)\n",
                        "\n",
                        "image 1/1 c:\\Users\\hifia\\Projects\\Marine_Debris\\datasets\\Planet\\dataset_splits_aug\\val\\images\\20180313_154300_1008_17016-29741-16_jpg_4.000000.jpg: 256x256 4 debriss, 12.0ms\n",
                        "Speed: 0.0ms preprocess, 12.0ms inference, 1.0ms postprocess per image at shape (1, 3, 256, 256)\n",
                        "\n",
                        "image 1/1 c:\\Users\\hifia\\Projects\\Marine_Debris\\datasets\\Planet\\dataset_splits_aug\\val\\images\\20180313_154300_1008_17017-29742-16_jpg.rf.f5986776400bc8d63b7a48c4a0c18ecf.jpg: 256x256 (no detections), 12.1ms\n",
                        "Speed: 0.0ms preprocess, 12.1ms inference, 1.0ms postprocess per image at shape (1, 3, 256, 256)\n"
                    ]
                },
                {
                    "name": "stderr",
                    "output_type": "stream",
                    "text": [
                        " 79%|███████▉  | 455/574 [00:10<00:02, 41.45it/s]"
                    ]
                },
                {
                    "name": "stdout",
                    "output_type": "stream",
                    "text": [
                        "\n",
                        "image 1/1 c:\\Users\\hifia\\Projects\\Marine_Debris\\datasets\\Planet\\dataset_splits_aug\\val\\images\\20180313_154300_1008_17017-29742-16_jpg_0.000000.jpg: 256x256 1 debris, 14.0ms\n",
                        "Speed: 0.0ms preprocess, 14.0ms inference, 1.0ms postprocess per image at shape (1, 3, 256, 256)\n",
                        "\n",
                        "image 1/1 c:\\Users\\hifia\\Projects\\Marine_Debris\\datasets\\Planet\\dataset_splits_aug\\val\\images\\20180313_154300_1008_17017-29742-16_jpg_1.000000.jpg: 256x256 (no detections), 13.0ms\n",
                        "Speed: 1.0ms preprocess, 13.0ms inference, 0.0ms postprocess per image at shape (1, 3, 256, 256)\n",
                        "\n",
                        "image 1/1 c:\\Users\\hifia\\Projects\\Marine_Debris\\datasets\\Planet\\dataset_splits_aug\\val\\images\\20180313_154300_1008_17017-29742-16_jpg_2.000000.jpg: 256x256 1 debris, 16.0ms\n",
                        "Speed: 0.0ms preprocess, 16.0ms inference, 1.0ms postprocess per image at shape (1, 3, 256, 256)\n",
                        "\n",
                        "image 1/1 c:\\Users\\hifia\\Projects\\Marine_Debris\\datasets\\Planet\\dataset_splits_aug\\val\\images\\20180313_154300_1008_17017-29742-16_jpg_3.000000.jpg: 256x256 1 debris, 12.0ms\n",
                        "Speed: 0.0ms preprocess, 12.0ms inference, 2.0ms postprocess per image at shape (1, 3, 256, 256)\n",
                        "\n",
                        "image 1/1 c:\\Users\\hifia\\Projects\\Marine_Debris\\datasets\\Planet\\dataset_splits_aug\\val\\images\\20180313_154300_1008_17017-29742-16_jpg_4.000000.jpg: 256x256 1 debris, 12.0ms\n",
                        "Speed: 0.0ms preprocess, 12.0ms inference, 2.0ms postprocess per image at shape (1, 3, 256, 256)\n"
                    ]
                },
                {
                    "name": "stderr",
                    "output_type": "stream",
                    "text": [
                        " 80%|████████  | 460/574 [00:10<00:02, 41.65it/s]"
                    ]
                },
                {
                    "name": "stdout",
                    "output_type": "stream",
                    "text": [
                        "\n",
                        "image 1/1 c:\\Users\\hifia\\Projects\\Marine_Debris\\datasets\\Planet\\dataset_splits_aug\\val\\images\\20180313_154301_1008_17003-29747-16_jpg.rf.5aba27a545153fd607320bf83d5da29a.jpg: 256x256 3 debriss, 20.0ms\n",
                        "Speed: 0.0ms preprocess, 20.0ms inference, 4.0ms postprocess per image at shape (1, 3, 256, 256)\n",
                        "\n",
                        "image 1/1 c:\\Users\\hifia\\Projects\\Marine_Debris\\datasets\\Planet\\dataset_splits_aug\\val\\images\\20180313_154301_1008_17003-29747-16_jpg_0.000000.jpg: 256x256 2 debriss, 14.0ms\n",
                        "Speed: 0.0ms preprocess, 14.0ms inference, 1.0ms postprocess per image at shape (1, 3, 256, 256)\n",
                        "\n",
                        "image 1/1 c:\\Users\\hifia\\Projects\\Marine_Debris\\datasets\\Planet\\dataset_splits_aug\\val\\images\\20180313_154301_1008_17003-29747-16_jpg_1.000000.jpg: 256x256 2 debriss, 11.0ms\n",
                        "Speed: 1.0ms preprocess, 11.0ms inference, 2.0ms postprocess per image at shape (1, 3, 256, 256)\n",
                        "\n",
                        "image 1/1 c:\\Users\\hifia\\Projects\\Marine_Debris\\datasets\\Planet\\dataset_splits_aug\\val\\images\\20180313_154301_1008_17003-29747-16_jpg_2.000000.jpg: 256x256 1 debris, 12.0ms\n",
                        "Speed: 0.0ms preprocess, 12.0ms inference, 2.0ms postprocess per image at shape (1, 3, 256, 256)\n",
                        "\n",
                        "image 1/1 c:\\Users\\hifia\\Projects\\Marine_Debris\\datasets\\Planet\\dataset_splits_aug\\val\\images\\20180313_154301_1008_17003-29747-16_jpg_3.000000.jpg: 256x256 2 debriss, 14.0ms\n",
                        "Speed: 1.0ms preprocess, 14.0ms inference, 2.0ms postprocess per image at shape (1, 3, 256, 256)\n"
                    ]
                },
                {
                    "name": "stderr",
                    "output_type": "stream",
                    "text": [
                        " 81%|████████  | 465/574 [00:11<00:02, 40.91it/s]"
                    ]
                },
                {
                    "name": "stdout",
                    "output_type": "stream",
                    "text": [
                        "\n",
                        "image 1/1 c:\\Users\\hifia\\Projects\\Marine_Debris\\datasets\\Planet\\dataset_splits_aug\\val\\images\\20180313_154301_1008_17003-29747-16_jpg_4.000000.jpg: 256x256 2 debriss, 11.1ms\n",
                        "Speed: 1.0ms preprocess, 11.1ms inference, 1.0ms postprocess per image at shape (1, 3, 256, 256)\n",
                        "\n",
                        "image 1/1 c:\\Users\\hifia\\Projects\\Marine_Debris\\datasets\\Planet\\dataset_splits_aug\\val\\images\\20181023_155746_0f34_16726-29823-16_jpg.rf.fd7585c43853d9de0c25f827c67600d5.jpg: 256x256 2 debriss, 12.2ms\n",
                        "Speed: 1.0ms preprocess, 12.2ms inference, 2.0ms postprocess per image at shape (1, 3, 256, 256)\n",
                        "\n",
                        "image 1/1 c:\\Users\\hifia\\Projects\\Marine_Debris\\datasets\\Planet\\dataset_splits_aug\\val\\images\\20181023_155746_0f34_16726-29823-16_jpg_0.000000.jpg: 256x256 2 debriss, 10.0ms\n",
                        "Speed: 1.0ms preprocess, 10.0ms inference, 2.0ms postprocess per image at shape (1, 3, 256, 256)\n",
                        "\n",
                        "image 1/1 c:\\Users\\hifia\\Projects\\Marine_Debris\\datasets\\Planet\\dataset_splits_aug\\val\\images\\20181023_155746_0f34_16726-29823-16_jpg_1.000000.jpg: 256x256 3 debriss, 11.0ms\n",
                        "Speed: 1.0ms preprocess, 11.0ms inference, 2.0ms postprocess per image at shape (1, 3, 256, 256)\n",
                        "\n",
                        "image 1/1 c:\\Users\\hifia\\Projects\\Marine_Debris\\datasets\\Planet\\dataset_splits_aug\\val\\images\\20181023_155746_0f34_16726-29823-16_jpg_2.000000.jpg: 256x256 2 debriss, 14.9ms\n",
                        "Speed: 1.0ms preprocess, 14.9ms inference, 3.0ms postprocess per image at shape (1, 3, 256, 256)\n"
                    ]
                },
                {
                    "name": "stderr",
                    "output_type": "stream",
                    "text": [
                        " 82%|████████▏ | 470/574 [00:11<00:02, 41.42it/s]"
                    ]
                },
                {
                    "name": "stdout",
                    "output_type": "stream",
                    "text": [
                        "\n",
                        "image 1/1 c:\\Users\\hifia\\Projects\\Marine_Debris\\datasets\\Planet\\dataset_splits_aug\\val\\images\\20181023_155746_0f34_16726-29823-16_jpg_3.000000.jpg: 256x256 1 debris, 12.0ms\n",
                        "Speed: 0.0ms preprocess, 12.0ms inference, 2.0ms postprocess per image at shape (1, 3, 256, 256)\n",
                        "\n",
                        "image 1/1 c:\\Users\\hifia\\Projects\\Marine_Debris\\datasets\\Planet\\dataset_splits_aug\\val\\images\\20181023_155746_0f34_16726-29823-16_jpg_4.000000.jpg: 256x256 2 debriss, 18.8ms\n",
                        "Speed: 0.0ms preprocess, 18.8ms inference, 2.0ms postprocess per image at shape (1, 3, 256, 256)\n",
                        "\n",
                        "image 1/1 c:\\Users\\hifia\\Projects\\Marine_Debris\\datasets\\Planet\\dataset_splits_aug\\val\\images\\20181023_155747_0f34_16694-29829-16_jpg.rf.87de12cdc653c4a7f5d01a0929cfec24.jpg: 256x256 3 debriss, 17.0ms\n",
                        "Speed: 1.0ms preprocess, 17.0ms inference, 3.0ms postprocess per image at shape (1, 3, 256, 256)\n",
                        "\n",
                        "image 1/1 c:\\Users\\hifia\\Projects\\Marine_Debris\\datasets\\Planet\\dataset_splits_aug\\val\\images\\20181023_155747_0f34_16694-29829-16_jpg_0.000000.jpg: 256x256 2 debriss, 13.1ms\n",
                        "Speed: 1.0ms preprocess, 13.1ms inference, 2.0ms postprocess per image at shape (1, 3, 256, 256)\n",
                        "\n",
                        "image 1/1 c:\\Users\\hifia\\Projects\\Marine_Debris\\datasets\\Planet\\dataset_splits_aug\\val\\images\\20181023_155747_0f34_16694-29829-16_jpg_1.000000.jpg: 256x256 2 debriss, 12.2ms\n",
                        "Speed: 1.0ms preprocess, 12.2ms inference, 1.0ms postprocess per image at shape (1, 3, 256, 256)\n"
                    ]
                },
                {
                    "name": "stderr",
                    "output_type": "stream",
                    "text": [
                        " 83%|████████▎ | 475/574 [00:11<00:02, 40.73it/s]"
                    ]
                },
                {
                    "name": "stdout",
                    "output_type": "stream",
                    "text": [
                        "\n",
                        "image 1/1 c:\\Users\\hifia\\Projects\\Marine_Debris\\datasets\\Planet\\dataset_splits_aug\\val\\images\\20181023_155747_0f34_16694-29829-16_jpg_2.000000.jpg: 256x256 3 debriss, 12.4ms\n",
                        "Speed: 0.0ms preprocess, 12.4ms inference, 2.0ms postprocess per image at shape (1, 3, 256, 256)\n",
                        "\n",
                        "image 1/1 c:\\Users\\hifia\\Projects\\Marine_Debris\\datasets\\Planet\\dataset_splits_aug\\val\\images\\20181023_155747_0f34_16694-29829-16_jpg_3.000000.jpg: 256x256 2 debriss, 14.0ms\n",
                        "Speed: 1.0ms preprocess, 14.0ms inference, 2.0ms postprocess per image at shape (1, 3, 256, 256)\n",
                        "\n",
                        "image 1/1 c:\\Users\\hifia\\Projects\\Marine_Debris\\datasets\\Planet\\dataset_splits_aug\\val\\images\\20181023_155747_0f34_16694-29829-16_jpg_4.000000.jpg: 256x256 3 debriss, 10.5ms\n",
                        "Speed: 1.0ms preprocess, 10.5ms inference, 2.0ms postprocess per image at shape (1, 3, 256, 256)\n",
                        "\n",
                        "image 1/1 c:\\Users\\hifia\\Projects\\Marine_Debris\\datasets\\Planet\\dataset_splits_aug\\val\\images\\20181023_155747_0f34_16716-29833-16_jpg.rf.b2345497547f69a0a6ad39450656a603.jpg: 256x256 1 debris, 12.0ms\n",
                        "Speed: 0.0ms preprocess, 12.0ms inference, 2.0ms postprocess per image at shape (1, 3, 256, 256)\n",
                        "\n",
                        "image 1/1 c:\\Users\\hifia\\Projects\\Marine_Debris\\datasets\\Planet\\dataset_splits_aug\\val\\images\\20181023_155747_0f34_16716-29833-16_jpg_0.000000.jpg: 256x256 1 debris, 12.0ms\n",
                        "Speed: 0.0ms preprocess, 12.0ms inference, 2.0ms postprocess per image at shape (1, 3, 256, 256)\n"
                    ]
                },
                {
                    "name": "stderr",
                    "output_type": "stream",
                    "text": [
                        " 84%|████████▎ | 480/574 [00:11<00:02, 41.61it/s]"
                    ]
                },
                {
                    "name": "stdout",
                    "output_type": "stream",
                    "text": [
                        "\n",
                        "image 1/1 c:\\Users\\hifia\\Projects\\Marine_Debris\\datasets\\Planet\\dataset_splits_aug\\val\\images\\20181023_155747_0f34_16716-29833-16_jpg_1.000000.jpg: 256x256 1 debris, 12.0ms\n",
                        "Speed: 0.0ms preprocess, 12.0ms inference, 2.0ms postprocess per image at shape (1, 3, 256, 256)\n",
                        "\n",
                        "image 1/1 c:\\Users\\hifia\\Projects\\Marine_Debris\\datasets\\Planet\\dataset_splits_aug\\val\\images\\20181023_155747_0f34_16716-29833-16_jpg_2.000000.jpg: 256x256 1 debris, 11.0ms\n",
                        "Speed: 1.0ms preprocess, 11.0ms inference, 1.0ms postprocess per image at shape (1, 3, 256, 256)\n",
                        "\n",
                        "image 1/1 c:\\Users\\hifia\\Projects\\Marine_Debris\\datasets\\Planet\\dataset_splits_aug\\val\\images\\20181023_155747_0f34_16716-29833-16_jpg_3.000000.jpg: 256x256 1 debris, 12.0ms\n",
                        "Speed: 0.0ms preprocess, 12.0ms inference, 2.0ms postprocess per image at shape (1, 3, 256, 256)\n",
                        "\n",
                        "image 1/1 c:\\Users\\hifia\\Projects\\Marine_Debris\\datasets\\Planet\\dataset_splits_aug\\val\\images\\20181023_155747_0f34_16716-29833-16_jpg_4.000000.jpg: 256x256 1 debris, 19.0ms\n",
                        "Speed: 1.0ms preprocess, 19.0ms inference, 2.0ms postprocess per image at shape (1, 3, 256, 256)\n",
                        "\n",
                        "image 1/1 c:\\Users\\hifia\\Projects\\Marine_Debris\\datasets\\Planet\\dataset_splits_aug\\val\\images\\20181031_095925_103b_32709-31766-16_jpg.rf.a7a0579f5e178ed564cd9ac889b2868f.jpg: 256x256 6 debriss, 12.0ms\n",
                        "Speed: 1.0ms preprocess, 12.0ms inference, 2.0ms postprocess per image at shape (1, 3, 256, 256)\n"
                    ]
                },
                {
                    "name": "stderr",
                    "output_type": "stream",
                    "text": [
                        " 84%|████████▍ | 485/574 [00:11<00:02, 41.83it/s]"
                    ]
                },
                {
                    "name": "stdout",
                    "output_type": "stream",
                    "text": [
                        "\n",
                        "image 1/1 c:\\Users\\hifia\\Projects\\Marine_Debris\\datasets\\Planet\\dataset_splits_aug\\val\\images\\20181031_095925_103b_32709-31766-16_jpg_0.000000.jpg: 256x256 5 debriss, 13.4ms\n",
                        "Speed: 0.0ms preprocess, 13.4ms inference, 2.0ms postprocess per image at shape (1, 3, 256, 256)\n",
                        "\n",
                        "image 1/1 c:\\Users\\hifia\\Projects\\Marine_Debris\\datasets\\Planet\\dataset_splits_aug\\val\\images\\20181031_095925_103b_32709-31766-16_jpg_1.000000.jpg: 256x256 4 debriss, 14.8ms\n",
                        "Speed: 0.0ms preprocess, 14.8ms inference, 1.0ms postprocess per image at shape (1, 3, 256, 256)\n",
                        "\n",
                        "image 1/1 c:\\Users\\hifia\\Projects\\Marine_Debris\\datasets\\Planet\\dataset_splits_aug\\val\\images\\20181031_095925_103b_32709-31766-16_jpg_2.000000.jpg: 256x256 6 debriss, 12.0ms\n",
                        "Speed: 0.0ms preprocess, 12.0ms inference, 4.0ms postprocess per image at shape (1, 3, 256, 256)\n",
                        "\n",
                        "image 1/1 c:\\Users\\hifia\\Projects\\Marine_Debris\\datasets\\Planet\\dataset_splits_aug\\val\\images\\20181031_095925_103b_32709-31766-16_jpg_3.000000.jpg: 256x256 4 debriss, 12.0ms\n",
                        "Speed: 0.0ms preprocess, 12.0ms inference, 2.0ms postprocess per image at shape (1, 3, 256, 256)\n",
                        "\n",
                        "image 1/1 c:\\Users\\hifia\\Projects\\Marine_Debris\\datasets\\Planet\\dataset_splits_aug\\val\\images\\20181031_095925_103b_32709-31766-16_jpg_4.000000.jpg: 256x256 4 debriss, 12.0ms\n",
                        "Speed: 1.0ms preprocess, 12.0ms inference, 1.0ms postprocess per image at shape (1, 3, 256, 256)\n"
                    ]
                },
                {
                    "name": "stderr",
                    "output_type": "stream",
                    "text": [
                        " 85%|████████▌ | 490/574 [00:11<00:02, 41.94it/s]"
                    ]
                },
                {
                    "name": "stdout",
                    "output_type": "stream",
                    "text": [
                        "\n",
                        "image 1/1 c:\\Users\\hifia\\Projects\\Marine_Debris\\datasets\\Planet\\dataset_splits_aug\\val\\images\\20181031_095925_103b_32710-31766-16_jpg.rf.a79a3024b70098d821e06db6d8aef793.jpg: 256x256 4 debriss, 22.5ms\n",
                        "Speed: 1.0ms preprocess, 22.5ms inference, 2.0ms postprocess per image at shape (1, 3, 256, 256)\n",
                        "\n",
                        "image 1/1 c:\\Users\\hifia\\Projects\\Marine_Debris\\datasets\\Planet\\dataset_splits_aug\\val\\images\\20181031_095925_103b_32710-31766-16_jpg_0.000000.jpg: 256x256 2 debriss, 12.0ms\n",
                        "Speed: 1.0ms preprocess, 12.0ms inference, 1.0ms postprocess per image at shape (1, 3, 256, 256)\n",
                        "\n",
                        "image 1/1 c:\\Users\\hifia\\Projects\\Marine_Debris\\datasets\\Planet\\dataset_splits_aug\\val\\images\\20181031_095925_103b_32710-31766-16_jpg_1.000000.jpg: 256x256 2 debriss, 12.0ms\n",
                        "Speed: 1.0ms preprocess, 12.0ms inference, 2.0ms postprocess per image at shape (1, 3, 256, 256)\n",
                        "\n",
                        "image 1/1 c:\\Users\\hifia\\Projects\\Marine_Debris\\datasets\\Planet\\dataset_splits_aug\\val\\images\\20181031_095925_103b_32710-31766-16_jpg_2.000000.jpg: 256x256 3 debriss, 13.0ms\n",
                        "Speed: 0.0ms preprocess, 13.0ms inference, 1.0ms postprocess per image at shape (1, 3, 256, 256)\n",
                        "\n",
                        "image 1/1 c:\\Users\\hifia\\Projects\\Marine_Debris\\datasets\\Planet\\dataset_splits_aug\\val\\images\\20181031_095925_103b_32710-31766-16_jpg_3.000000.jpg: 256x256 2 debriss, 12.0ms\n",
                        "Speed: 0.0ms preprocess, 12.0ms inference, 2.0ms postprocess per image at shape (1, 3, 256, 256)\n"
                    ]
                },
                {
                    "name": "stderr",
                    "output_type": "stream",
                    "text": [
                        " 86%|████████▌ | 495/574 [00:11<00:01, 41.27it/s]"
                    ]
                },
                {
                    "name": "stdout",
                    "output_type": "stream",
                    "text": [
                        "\n",
                        "image 1/1 c:\\Users\\hifia\\Projects\\Marine_Debris\\datasets\\Planet\\dataset_splits_aug\\val\\images\\20181031_095925_103b_32710-31766-16_jpg_4.000000.jpg: 256x256 2 debriss, 21.0ms\n",
                        "Speed: 0.0ms preprocess, 21.0ms inference, 2.0ms postprocess per image at shape (1, 3, 256, 256)\n",
                        "\n",
                        "image 1/1 c:\\Users\\hifia\\Projects\\Marine_Debris\\datasets\\Planet\\dataset_splits_aug\\val\\images\\20181031_095925_103b_32727-31766-16_jpg.rf.9f51422218bb4bfbc58219d4f5187afc.jpg: 256x256 9 debriss, 11.2ms\n",
                        "Speed: 1.0ms preprocess, 11.2ms inference, 2.0ms postprocess per image at shape (1, 3, 256, 256)\n",
                        "\n",
                        "image 1/1 c:\\Users\\hifia\\Projects\\Marine_Debris\\datasets\\Planet\\dataset_splits_aug\\val\\images\\20181031_095925_103b_32727-31766-16_jpg_0.000000.jpg: 256x256 10 debriss, 13.0ms\n",
                        "Speed: 1.0ms preprocess, 13.0ms inference, 2.0ms postprocess per image at shape (1, 3, 256, 256)\n",
                        "\n",
                        "image 1/1 c:\\Users\\hifia\\Projects\\Marine_Debris\\datasets\\Planet\\dataset_splits_aug\\val\\images\\20181031_095925_103b_32727-31766-16_jpg_1.000000.jpg: 256x256 8 debriss, 16.8ms\n",
                        "Speed: 1.0ms preprocess, 16.8ms inference, 2.0ms postprocess per image at shape (1, 3, 256, 256)\n",
                        "\n",
                        "image 1/1 c:\\Users\\hifia\\Projects\\Marine_Debris\\datasets\\Planet\\dataset_splits_aug\\val\\images\\20181031_095925_103b_32727-31766-16_jpg_2.000000.jpg: 256x256 9 debriss, 13.0ms\n",
                        "Speed: 0.0ms preprocess, 13.0ms inference, 2.0ms postprocess per image at shape (1, 3, 256, 256)\n"
                    ]
                },
                {
                    "name": "stderr",
                    "output_type": "stream",
                    "text": [
                        " 87%|████████▋ | 499/574 [01:08<00:10,  7.26it/s]\n"
                    ]
                },
                {
                    "ename": "KeyboardInterrupt",
                    "evalue": "",
                    "output_type": "error",
                    "traceback": [
                        "\u001b[1;31m---------------------------------------------------------------------------\u001b[0m",
                        "\u001b[1;31mKeyboardInterrupt\u001b[0m                         Traceback (most recent call last)",
                        "Cell \u001b[1;32mIn[7], line 71\u001b[0m\n\u001b[0;32m     69\u001b[0m images \u001b[38;5;241m=\u001b[39m \u001b[38;5;28mlist\u001b[39m(\u001b[38;5;28msorted\u001b[39m(glob(\u001b[38;5;124m\"\u001b[39m\u001b[38;5;124mdatasets/Planet/dataset_splits_aug/val/images/*.jpg\u001b[39m\u001b[38;5;124m\"\u001b[39m)))\n\u001b[0;32m     70\u001b[0m \u001b[38;5;28;01mfor\u001b[39;00m image \u001b[38;5;129;01min\u001b[39;00m tqdm(images):\n\u001b[1;32m---> 71\u001b[0m     \u001b[43mdetect_marine_debris\u001b[49m\u001b[43m(\u001b[49m\u001b[43mimage\u001b[49m\u001b[43m)\u001b[49m\n",
                        "Cell \u001b[1;32mIn[7], line 50\u001b[0m, in \u001b[0;36mdetect_marine_debris\u001b[1;34m(image_path)\u001b[0m\n\u001b[0;32m     47\u001b[0m     bboxes\u001b[38;5;241m.\u001b[39mappend([x0, y0, x1, y1])\n\u001b[0;32m     49\u001b[0m \u001b[38;5;66;03m# Merge overlapping boxes\u001b[39;00m\n\u001b[1;32m---> 50\u001b[0m merged_boxes \u001b[38;5;241m=\u001b[39m \u001b[43mmerge_overlapping_boxes\u001b[49m\u001b[43m(\u001b[49m\u001b[43mbboxes\u001b[49m\u001b[43m)\u001b[49m\n\u001b[0;32m     51\u001b[0m \u001b[38;5;66;03m# merged_boxes = bboxes\u001b[39;00m\n\u001b[0;32m     52\u001b[0m \n\u001b[0;32m     53\u001b[0m \u001b[38;5;66;03m# Draw merged bounding boxes\u001b[39;00m\n\u001b[0;32m     54\u001b[0m latlong_boxes \u001b[38;5;241m=\u001b[39m []\n",
                        "File \u001b[1;32mc:\\Users\\hifia\\Projects\\Marine_Debris\\app.py:245\u001b[0m, in \u001b[0;36mmerge_overlapping_boxes\u001b[1;34m(boxes, iou_threshold)\u001b[0m\n\u001b[0;32m    243\u001b[0m \u001b[38;5;28;01mfor\u001b[39;00m idx, box \u001b[38;5;129;01min\u001b[39;00m \u001b[38;5;28menumerate\u001b[39m(boxes):\n\u001b[0;32m    244\u001b[0m     \u001b[38;5;28;01mfor\u001b[39;00m other_idx, other_box \u001b[38;5;129;01min\u001b[39;00m \u001b[38;5;28menumerate\u001b[39m(boxes[idx\u001b[38;5;241m+\u001b[39m\u001b[38;5;241m1\u001b[39m:]):\n\u001b[1;32m--> 245\u001b[0m         iou \u001b[38;5;241m=\u001b[39m \u001b[43mmin_iou\u001b[49m\u001b[43m(\u001b[49m\u001b[43mbox\u001b[49m\u001b[43m,\u001b[49m\u001b[43m \u001b[49m\u001b[43mother_box\u001b[49m\u001b[43m)\u001b[49m\n\u001b[0;32m    246\u001b[0m         \u001b[38;5;28;01mif\u001b[39;00m iou \u001b[38;5;241m==\u001b[39m \u001b[38;5;241m1\u001b[39m:\n\u001b[0;32m    247\u001b[0m             boxes \u001b[38;5;241m=\u001b[39m remove_nested_boxes(boxes)\n",
                        "File \u001b[1;32mc:\\Users\\hifia\\Projects\\Marine_Debris\\app.py:226\u001b[0m, in \u001b[0;36mmin_iou\u001b[1;34m(box1, box2)\u001b[0m\n\u001b[0;32m    224\u001b[0m y1 \u001b[38;5;241m=\u001b[39m \u001b[38;5;28mmax\u001b[39m(box1[\u001b[38;5;241m1\u001b[39m], box2[\u001b[38;5;241m1\u001b[39m])\n\u001b[0;32m    225\u001b[0m x2 \u001b[38;5;241m=\u001b[39m \u001b[38;5;28mmin\u001b[39m(box1[\u001b[38;5;241m2\u001b[39m], box2[\u001b[38;5;241m2\u001b[39m])\n\u001b[1;32m--> 226\u001b[0m y2 \u001b[38;5;241m=\u001b[39m \u001b[38;5;28;43mmin\u001b[39;49m\u001b[43m(\u001b[49m\u001b[43mbox1\u001b[49m\u001b[43m[\u001b[49m\u001b[38;5;241;43m3\u001b[39;49m\u001b[43m]\u001b[49m\u001b[43m,\u001b[49m\u001b[43m \u001b[49m\u001b[43mbox2\u001b[49m\u001b[43m[\u001b[49m\u001b[38;5;241;43m3\u001b[39;49m\u001b[43m]\u001b[49m\u001b[43m)\u001b[49m\n\u001b[0;32m    228\u001b[0m inter_area \u001b[38;5;241m=\u001b[39m \u001b[38;5;28mmax\u001b[39m(\u001b[38;5;241m0\u001b[39m, x2 \u001b[38;5;241m-\u001b[39m x1) \u001b[38;5;241m*\u001b[39m \u001b[38;5;28mmax\u001b[39m(\u001b[38;5;241m0\u001b[39m, y2 \u001b[38;5;241m-\u001b[39m y1)\n\u001b[0;32m    230\u001b[0m box1_area \u001b[38;5;241m=\u001b[39m (box1[\u001b[38;5;241m2\u001b[39m] \u001b[38;5;241m-\u001b[39m box1[\u001b[38;5;241m0\u001b[39m]) \u001b[38;5;241m*\u001b[39m (box1[\u001b[38;5;241m3\u001b[39m] \u001b[38;5;241m-\u001b[39m box1[\u001b[38;5;241m1\u001b[39m])\n",
                        "\u001b[1;31mKeyboardInterrupt\u001b[0m: "
                    ]
                }
            ],
            "source": [
                "import os\n",
                "from glob import glob\n",
                "from tqdm import tqdm\n",
                "from ultralytics import YOLO\n",
                "from app import increment_path, process_tif, merge_overlapping_boxes\n",
                "from PIL import ImageDraw, Image\n",
                "\n",
                "IMAGE_DIMENSIONS = (256, 256)\n",
                "IMAGE_AREA = IMAGE_DIMENSIONS[0] * IMAGE_DIMENSIONS[1]\n",
                "\n",
                "model_path = \"runs/train/train3/weights/best.pt\"\n",
                "model = YOLO(model_path)\n",
                "\n",
                "# Using PLANETSCOPE model\n",
                "inference_dir = r\"runs/detect/inference_merged\"\n",
                "inference_dir = increment_path(inference_dir)\n",
                "os.makedirs(inference_dir, exist_ok=True)\n",
                "\n",
                "\n",
                "def detect_marine_debris(image_path: str):\n",
                "    # Run inference\n",
                "    results = model(image_path, iou=0.8)\n",
                "    result = results[0]  # Assume a single result\n",
                "\n",
                "    # Open the original image\n",
                "    bounds = None\n",
                "    if image_path.lower().endswith(\".jpg\"):\n",
                "        img = Image.open(image_path).convert(\"RGB\")\n",
                "        draw = ImageDraw.Draw(img)\n",
                "    else:\n",
                "        img, bounds = process_tif(image_path)\n",
                "        if img is None:  # Handle failed TIFF processing\n",
                "            return None, None  # Stop processing if TIFF conversion failed\n",
                "        draw = ImageDraw.Draw(img)\n",
                "        longitude_width = bounds.right - bounds.left\n",
                "        latitude_height = bounds.top - bounds.bottom\n",
                "\n",
                "    # Draw bounding boxes\n",
                "    bboxes = []\n",
                "    for box in result.boxes.xywh.tolist():\n",
                "        x_center, y_center, width, height = box\n",
                "        x0 = int(x_center - width / 2)\n",
                "        y0 = int(y_center - height / 2)\n",
                "        x1 = int(x_center + width / 2)\n",
                "        y1 = int(y_center + height / 2)\n",
                "\n",
                "        bboxes.append([x0, y0, x1, y1])\n",
                "\n",
                "    # Merge overlapping boxes\n",
                "    merged_boxes = merge_overlapping_boxes(bboxes)\n",
                "    # merged_boxes = bboxes\n",
                "\n",
                "    # Draw merged bounding boxes\n",
                "    latlong_boxes = []\n",
                "    for box in merged_boxes:\n",
                "        x0, y0, x1, y1 = box\n",
                "        if bounds:\n",
                "            x0_latlong = ((x0 / img.width) * longitude_width + bounds.left)\n",
                "            y0_latlong = ((y0 / img.height) * latitude_height + bounds.bottom)\n",
                "            x1_latlong = ((x1 / img.width) * longitude_width + bounds.left)\n",
                "            y1_latlong = ((y1 / img.height) * latitude_height + bounds.bottom)\n",
                "            latlong_boxes.append([x0_latlong, y0_latlong, x1_latlong, y1_latlong])\n",
                "        draw.rectangle(box, outline=\"red\", width=3)\n",
                "\n",
                "    # Save the image\n",
                "    img.save(os.path.join(inference_dir, os.path.basename(image_path)))  # or .png, .tif, etc. \n",
                "\n",
                "\n",
                "images = list(sorted(glob(\"datasets/Planet/dataset_splits_aug/val/images/*.jpg\")))\n",
                "for image in tqdm(images):\n",
                "    detect_marine_debris(image)"
            ]
        }
    ],
    "metadata": {
        "kernelspec": {
            "display_name": "marine_debris",
            "language": "python",
            "name": "python3"
        },
        "language_info": {
            "codemirror_mode": {
                "name": "ipython",
                "version": 3
            },
            "file_extension": ".py",
            "mimetype": "text/x-python",
            "name": "python",
            "nbconvert_exporter": "python",
            "pygments_lexer": "ipython3",
            "version": "3.10.16"
        }
    },
    "nbformat": 4,
    "nbformat_minor": 2
}
