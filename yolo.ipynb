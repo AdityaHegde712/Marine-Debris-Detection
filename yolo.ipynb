{
 "cells": [
  {
   "cell_type": "markdown",
   "metadata": {},
   "source": [
    "## Obtaining baseline results using Yolo models "
   ]
  },
  {
   "cell_type": "markdown",
   "metadata": {},
   "source": [
    "### Data"
   ]
  },
  {
   "cell_type": "markdown",
   "metadata": {},
   "source": [
    "#### Converting Geojson to YOLO"
   ]
  },
  {
   "cell_type": "code",
   "execution_count": 10,
   "metadata": {},
   "outputs": [],
   "source": [
    "import os\n",
    "import numpy as np\n",
    "from glob import glob\n",
    "from PIL import Image\n",
    "\n",
    "def fix_path(path: str) -> str:\n",
    "    return path.replace(\"\\\\\", \"/\")\n",
    "\n",
    "# Directories\n",
    "labels_dir = fix_path(r\"O:\\Capstone_2\\Marine-Debris-Detection\\NASA_Planet_Data\\labels\")\n",
    "source_dir = fix_path(r\"O:\\Capstone_2\\Marine-Debris-Detection\\NASA_Planet_Data\\source\")\n",
    "output_dir = fix_path(\"O:/Capstone_2/Marine-Debris-Detection/yolo_labels\")\n",
    "\n",
    "# Ensure output directory exists\n",
    "os.makedirs(output_dir, exist_ok=True)\n"
   ]
  },
  {
   "cell_type": "code",
   "execution_count": 17,
   "metadata": {},
   "outputs": [
    {
     "name": "stdout",
     "output_type": "stream",
     "text": [
      "Conversion complete!\n"
     ]
    }
   ],
   "source": [
    "\n",
    "# Class mapping\n",
    "class_map = {\n",
    "    \"marine_debris\": 0  # Update with additional classes if needed\n",
    "}\n",
    "\n",
    "# Normalize bounding box coordinates\n",
    "def normalize_bbox(bbox, img_width, img_height):\n",
    "    x_min, y_min, x_max, y_max = bbox\n",
    "    x_center = (x_min + x_max) / 2 / img_width\n",
    "    y_center = (y_min + y_max) / 2 / img_height\n",
    "    width = (x_max - x_min) / img_width\n",
    "    height = (y_max - y_min) / img_height\n",
    "    return x_center, y_center, width, height\n",
    "\n",
    "# Process .npy files\n",
    "npy_files = glob(os.path.join(labels_dir, \"*.npy\"))\n",
    "\n",
    "for npy_file in npy_files:\n",
    "    # Load .npy data\n",
    "    data = np.load(npy_file, allow_pickle=True).tolist()\n",
    "\n",
    "    # Get corresponding image dimensions\n",
    "    base_name = os.path.splitext(os.path.basename(npy_file))[0]\n",
    "    image_path = os.path.join(source_dir, base_name + \".jpg\")\n",
    "    \n",
    "    if not os.path.exists(image_path):\n",
    "        print(f\"Image not found for {base_name}, skipping...\")\n",
    "        continue\n",
    "\n",
    "    with Image.open(image_path) as img:\n",
    "        img_width, img_height = img.size\n",
    "\n",
    "    # Create YOLO label file\n",
    "    yolo_file_path = os.path.join(output_dir, base_name + \".txt\")\n",
    "    with open(yolo_file_path, \"w\") as yolo_file:\n",
    "        for entry in data:\n",
    "            x_min, y_min, x_max, y_max, class_id = entry\n",
    "            if class_id > 0:\n",
    "                class_id -= 1\n",
    "\n",
    "            # Normalize the bounding box coordinates\n",
    "            x_center, y_center, width, height = normalize_bbox(\n",
    "                (x_min, y_min, x_max, y_max), img_width, img_height\n",
    "            )\n",
    "\n",
    "            # Write to YOLO file\n",
    "            yolo_file.write(f\"{class_id} {x_center:.6f} {y_center:.6f} {width:.6f} {height:.6f}\\n\")\n",
    "\n",
    "print(\"Conversion complete!\")\n"
   ]
  }
 ],
 "metadata": {
  "kernelspec": {
   "display_name": "cap2",
   "language": "python",
   "name": "python3"
  },
  "language_info": {
   "codemirror_mode": {
    "name": "ipython",
    "version": 3
   },
   "file_extension": ".py",
   "mimetype": "text/x-python",
   "name": "python",
   "nbconvert_exporter": "python",
   "pygments_lexer": "ipython3",
   "version": "3.12.8"
  }
 },
 "nbformat": 4,
 "nbformat_minor": 2
}
