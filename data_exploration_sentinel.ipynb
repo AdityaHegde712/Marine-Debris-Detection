{
 "cells": [
  {
   "cell_type": "markdown",
   "metadata": {},
   "source": [
    "# MARIDA Dataset exploration"
   ]
  },
  {
   "cell_type": "markdown",
   "metadata": {},
   "source": [
    "#### Need to set up a folder for unified visualisation and qgis qml visualisation because the quality is the true definition of terrible."
   ]
  },
  {
   "cell_type": "code",
   "execution_count": 1,
   "metadata": {},
   "outputs": [
    {
     "name": "stdout",
     "output_type": "stream",
     "text": [
      "4143\n"
     ]
    }
   ],
   "source": [
    "from glob import glob\n",
    "\n",
    "all_tifs = glob(\"datasets/MARIDA_sentinel-2/patches/**/*.tif\", recursive=True)\n",
    "print(len(all_tifs))"
   ]
  },
  {
   "cell_type": "code",
   "execution_count": 7,
   "metadata": {},
   "outputs": [],
   "source": [
    "import shutil\n",
    "import re\n",
    "\n",
    "# Compile a regex pattern to match \"C_{number}.tif\"\n",
    "pattern = re.compile(r\"C_\\d+\\_conf.tif$\")\n",
    "\n",
    "# Filter files using the regex pattern\n",
    "filtered_files = [file for file in all_tifs if pattern.search(file)]\n",
    "\n",
    "for file in filtered_files:\n",
    "    shutil.copy(file, \"datasets/MARIDA_sentinel-2/only_confs/\")"
   ]
  },
  {
   "cell_type": "code",
   "execution_count": 8,
   "metadata": {},
   "outputs": [
    {
     "name": "stdout",
     "output_type": "stream",
     "text": [
      "1099\n"
     ]
    }
   ],
   "source": [
    "import os\n",
    "\n",
    "print(len(os.listdir(\"datasets/MARIDA_sentinel-2/only_confs/\")))"
   ]
  }
 ],
 "metadata": {
  "kernelspec": {
   "display_name": "marine_debris",
   "language": "python",
   "name": "python3"
  },
  "language_info": {
   "codemirror_mode": {
    "name": "ipython",
    "version": 3
   },
   "file_extension": ".py",
   "mimetype": "text/x-python",
   "name": "python",
   "nbconvert_exporter": "python",
   "pygments_lexer": "ipython3",
   "version": "3.10.16"
  }
 },
 "nbformat": 4,
 "nbformat_minor": 2
}
